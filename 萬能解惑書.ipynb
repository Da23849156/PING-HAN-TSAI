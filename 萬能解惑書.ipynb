{
 "cells": [
  {
   "cell_type": "code",
   "execution_count": 1,
   "metadata": {},
   "outputs": [],
   "source": [
    "import random\n",
    "import csv\n",
    "import pandas as pd"
   ]
  },
  {
   "cell_type": "code",
   "execution_count": 2,
   "metadata": {},
   "outputs": [],
   "source": [
    "words={}"
   ]
  },
  {
   "cell_type": "code",
   "execution_count": 3,
   "metadata": {},
   "outputs": [],
   "source": [
    "with open(\"./解惑書.csv\", encoding='utf-8', newline='') as csvfile: #因為有中文編碼讀檔案的方式\n",
    "    rows = csv.reader(csvfile)    \n",
    "    for row in rows:\n",
    "        # 將檔案中的所有字讀出來 用一個佔存的dict 去存\n",
    "        words.update({row[0]: row[1]})"
   ]
  },
  {
   "cell_type": "code",
   "execution_count": 6,
   "metadata": {},
   "outputs": [
    {
     "name": "stdout",
     "output_type": "stream",
     "text": [
      "請輸入你想問的問題，輸入end離程式：我會脫魯嗎？\n",
      "你要好好愛自己，因為我不愛你。\n",
      "\n",
      "請輸入你想問的問題，輸入end離程式：我能找得到工作嗎？\n",
      "每一發奮努力的背後，必有加倍的賞賜。\n",
      "\n",
      "請輸入你想問的問題，輸入end離程式：我能減肥成功嗎？\n",
      "長著一顆減肥的心 卻有著一份吃貨的命\n",
      "\n",
      "請輸入你想問的問題，輸入end離程式：我能減肥成功嗎？\n",
      "博學、正直、誠信！\n",
      "\n",
      "請輸入你想問的問題，輸入end離程式：end\n",
      "謝謝你使用本程式\n"
     ]
    }
   ],
   "source": [
    "while True:\n",
    "    a=input('請輸入你想問的問題，輸入end離程式：')\n",
    "    if a=='end':\n",
    "        print('謝謝你使用本程式')\n",
    "        break\n",
    "    elif a=='':\n",
    "        print('一定要輸入問題喔')\n",
    "    else:\n",
    "        word,chinese =random.choice(list(words.items()))\n",
    "        print(chinese)\n",
    "        print()"
   ]
  },
  {
   "cell_type": "code",
   "execution_count": 6,
   "metadata": {},
   "outputs": [],
   "source": [
    "f=pd.read_csv(\"解惑書.csv\")"
   ]
  },
  {
   "cell_type": "code",
   "execution_count": 7,
   "metadata": {},
   "outputs": [
    {
     "data": {
      "text/html": [
       "<div>\n",
       "<style scoped>\n",
       "    .dataframe tbody tr th:only-of-type {\n",
       "        vertical-align: middle;\n",
       "    }\n",
       "\n",
       "    .dataframe tbody tr th {\n",
       "        vertical-align: top;\n",
       "    }\n",
       "\n",
       "    .dataframe thead th {\n",
       "        text-align: right;\n",
       "    }\n",
       "</style>\n",
       "<table border=\"1\" class=\"dataframe\">\n",
       "  <thead>\n",
       "    <tr style=\"text-align: right;\">\n",
       "      <th></th>\n",
       "      <th>金句1</th>\n",
       "      <th>條條大路通羅馬，有人就出生在羅馬</th>\n",
       "    </tr>\n",
       "  </thead>\n",
       "  <tbody>\n",
       "    <tr>\n",
       "      <td>0</td>\n",
       "      <td>金句2</td>\n",
       "      <td>好好活下去，每天都有新打擊</td>\n",
       "    </tr>\n",
       "    <tr>\n",
       "      <td>1</td>\n",
       "      <td>金句3</td>\n",
       "      <td>萬事起頭難，中間難，到最後都難</td>\n",
       "    </tr>\n",
       "    <tr>\n",
       "      <td>2</td>\n",
       "      <td>金句4</td>\n",
       "      <td>現在窮怕什麼？以後窮的日子多著呢</td>\n",
       "    </tr>\n",
       "    <tr>\n",
       "      <td>3</td>\n",
       "      <td>金句5</td>\n",
       "      <td>減什麼肥，臉醜跟體胖根本沒什麼關係</td>\n",
       "    </tr>\n",
       "    <tr>\n",
       "      <td>4</td>\n",
       "      <td>金句6</td>\n",
       "      <td>不瘦下來怎麼知道你是真的醜</td>\n",
       "    </tr>\n",
       "    <tr>\n",
       "      <td>...</td>\n",
       "      <td>...</td>\n",
       "      <td>...</td>\n",
       "    </tr>\n",
       "    <tr>\n",
       "      <td>94</td>\n",
       "      <td>金句96</td>\n",
       "      <td>世上沒有絕望的處境，只有對處境絕望的人</td>\n",
       "    </tr>\n",
       "    <tr>\n",
       "      <td>95</td>\n",
       "      <td>金句97</td>\n",
       "      <td>讓我們將事前的憂慮，換為事前的思考和計劃吧</td>\n",
       "    </tr>\n",
       "    <tr>\n",
       "      <td>96</td>\n",
       "      <td>金句98</td>\n",
       "      <td>每一發奮努力的背後，必有加倍的賞賜。</td>\n",
       "    </tr>\n",
       "    <tr>\n",
       "      <td>97</td>\n",
       "      <td>金句99</td>\n",
       "      <td>人生偉業的建立，不在能知，乃在能行。</td>\n",
       "    </tr>\n",
       "    <tr>\n",
       "      <td>98</td>\n",
       "      <td>金句100</td>\n",
       "      <td>含淚播種的人一定能含笑收穫</td>\n",
       "    </tr>\n",
       "  </tbody>\n",
       "</table>\n",
       "<p>99 rows × 2 columns</p>\n",
       "</div>"
      ],
      "text/plain": [
       "      金句1       條條大路通羅馬，有人就出生在羅馬\n",
       "0     金句2          好好活下去，每天都有新打擊\n",
       "1     金句3        萬事起頭難，中間難，到最後都難\n",
       "2     金句4       現在窮怕什麼？以後窮的日子多著呢\n",
       "3     金句5      減什麼肥，臉醜跟體胖根本沒什麼關係\n",
       "4     金句6          不瘦下來怎麼知道你是真的醜\n",
       "..    ...                    ...\n",
       "94   金句96    世上沒有絕望的處境，只有對處境絕望的人\n",
       "95   金句97  讓我們將事前的憂慮，換為事前的思考和計劃吧\n",
       "96   金句98     每一發奮努力的背後，必有加倍的賞賜。\n",
       "97   金句99     人生偉業的建立，不在能知，乃在能行。\n",
       "98  金句100          含淚播種的人一定能含笑收穫\n",
       "\n",
       "[99 rows x 2 columns]"
      ]
     },
     "execution_count": 7,
     "metadata": {},
     "output_type": "execute_result"
    }
   ],
   "source": [
    "f"
   ]
  },
  {
   "cell_type": "code",
   "execution_count": null,
   "metadata": {},
   "outputs": [],
   "source": []
  }
 ],
 "metadata": {
  "kernelspec": {
   "display_name": "Python 3",
   "language": "python",
   "name": "python3"
  },
  "language_info": {
   "codemirror_mode": {
    "name": "ipython",
    "version": 3
   },
   "file_extension": ".py",
   "mimetype": "text/x-python",
   "name": "python",
   "nbconvert_exporter": "python",
   "pygments_lexer": "ipython3",
   "version": "3.7.4"
  }
 },
 "nbformat": 4,
 "nbformat_minor": 2
}
