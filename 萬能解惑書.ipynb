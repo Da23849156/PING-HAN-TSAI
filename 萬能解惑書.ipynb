{
 "cells": [
  {
   "cell_type": "code",
   "execution_count": 1,
   "metadata": {},
   "outputs": [],
   "source": [
    "import random\n",
    "import csv"
   ]
  },
  {
   "cell_type": "code",
   "execution_count": 2,
   "metadata": {},
   "outputs": [],
   "source": [
    "words={}"
   ]
  },
  {
   "cell_type": "code",
   "execution_count": 3,
   "metadata": {},
   "outputs": [],
   "source": [
    "with open(\"./解惑書.csv\", encoding='utf-8', newline='') as csvfile: #因為有中文編碼讀檔案的方式\n",
    "    rows = csv.reader(csvfile)    \n",
    "    for row in rows:\n",
    "        # 將檔案中的所有字讀出來 用一個佔存的dict 去存\n",
    "        words.update({row[0]: row[1]})"
   ]
  },
  {
   "cell_type": "code",
   "execution_count": 6,
   "metadata": {},
   "outputs": [
    {
     "name": "stdout",
     "output_type": "stream",
     "text": [
      "請輸入你想問的問題，輸入end離程式：我會脫魯嗎？\n",
      "你要好好愛自己，因為我不愛你。\n",
      "\n",
      "請輸入你想問的問題，輸入end離程式：我能找得到工作嗎？\n",
      "每一發奮努力的背後，必有加倍的賞賜。\n",
      "\n",
      "請輸入你想問的問題，輸入end離程式：我能減肥成功嗎？\n",
      "長著一顆減肥的心 卻有著一份吃貨的命\n",
      "\n",
      "請輸入你想問的問題，輸入end離程式：我能減肥成功嗎？\n",
      "博學、正直、誠信！\n",
      "\n",
      "請輸入你想問的問題，輸入end離程式：end\n",
      "謝謝你使用本程式\n"
     ]
    }
   ],
   "source": [
    "while True:\n",
    "    a=input('請輸入你想問的問題，輸入end離程式：')\n",
    "    if a=='end':\n",
    "        print('謝謝你使用本程式')\n",
    "        break\n",
    "    elif a=='':\n",
    "        print('一定要輸入問題喔')\n",
    "    else:\n",
    "        word,chinese =random.choice(list(words.items()))\n",
    "        print(chinese)\n",
    "        print()"
   ]
  },
  {
   "cell_type": "code",
   "execution_count": null,
   "metadata": {},
   "outputs": [],
   "source": []
  }
 ],
 "metadata": {
  "kernelspec": {
   "display_name": "Python 3",
   "language": "python",
   "name": "python3"
  },
  "language_info": {
   "codemirror_mode": {
    "name": "ipython",
    "version": 3
   },
   "file_extension": ".py",
   "mimetype": "text/x-python",
   "name": "python",
   "nbconvert_exporter": "python",
   "pygments_lexer": "ipython3",
   "version": "3.7.4"
  }
 },
 "nbformat": 4,
 "nbformat_minor": 2
}
