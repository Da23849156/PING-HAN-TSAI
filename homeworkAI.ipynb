{
  "nbformat": 4,
  "nbformat_minor": 0,
  "metadata": {
    "colab": {
      "name": "homework.ipynb",
      "provenance": [],
      "collapsed_sections": [],
      "authorship_tag": "ABX9TyMDS0xPhNsST6i5NlaNEDh4",
      "include_colab_link": true
    },
    "kernelspec": {
      "name": "python3",
      "display_name": "Python 3"
    },
    "accelerator": "GPU"
  },
  "cells": [
    {
      "cell_type": "markdown",
      "metadata": {
        "id": "view-in-github",
        "colab_type": "text"
      },
      "source": [
        "<a href=\"https://colab.research.google.com/github/Da23849156/PING-HAN-TSAI/blob/master/homeworkAI.ipynb\" target=\"_parent\"><img src=\"https://colab.research.google.com/assets/colab-badge.svg\" alt=\"Open In Colab\"/></a>"
      ]
    },
    {
      "cell_type": "code",
      "metadata": {
        "id": "ArjkdMbecCoG",
        "colab_type": "code",
        "colab": {}
      },
      "source": [
        "%tensorflow_version 2.x"
      ],
      "execution_count": 0,
      "outputs": []
    },
    {
      "cell_type": "code",
      "metadata": {
        "id": "PCV89kwjjEnT",
        "colab_type": "code",
        "colab": {}
      },
      "source": [
        "import numpy as np\n",
        "import matplotlib.pyplot as plt"
      ],
      "execution_count": 0,
      "outputs": []
    },
    {
      "cell_type": "code",
      "metadata": {
        "id": "fG-LT_ojjE_n",
        "colab_type": "code",
        "colab": {}
      },
      "source": [
        "import tensorflow as tf"
      ],
      "execution_count": 0,
      "outputs": []
    },
    {
      "cell_type": "code",
      "metadata": {
        "id": "KncKjeRCjHCP",
        "colab_type": "code",
        "colab": {}
      },
      "source": [
        "from tensorflow.keras.datasets import fashion_mnist"
      ],
      "execution_count": 0,
      "outputs": []
    },
    {
      "cell_type": "code",
      "metadata": {
        "id": "RE6TB7ApjImG",
        "colab_type": "code",
        "colab": {
          "base_uri": "https://localhost:8080/",
          "height": 153
        },
        "outputId": "228418f7-190b-4402-d7fe-3e78e11b4cf2"
      },
      "source": [
        "(x_train,y_train),(x_test,y_test)=fashion_mnist.load_data()"
      ],
      "execution_count": 5,
      "outputs": [
        {
          "output_type": "stream",
          "text": [
            "Downloading data from https://storage.googleapis.com/tensorflow/tf-keras-datasets/train-labels-idx1-ubyte.gz\n",
            "32768/29515 [=================================] - 0s 0us/step\n",
            "Downloading data from https://storage.googleapis.com/tensorflow/tf-keras-datasets/train-images-idx3-ubyte.gz\n",
            "26427392/26421880 [==============================] - 1s 0us/step\n",
            "Downloading data from https://storage.googleapis.com/tensorflow/tf-keras-datasets/t10k-labels-idx1-ubyte.gz\n",
            "8192/5148 [===============================================] - 0s 0us/step\n",
            "Downloading data from https://storage.googleapis.com/tensorflow/tf-keras-datasets/t10k-images-idx3-ubyte.gz\n",
            "4423680/4422102 [==============================] - 0s 0us/step\n"
          ],
          "name": "stdout"
        }
      ]
    },
    {
      "cell_type": "code",
      "metadata": {
        "id": "UPucXSJ7nCXo",
        "colab_type": "code",
        "colab": {}
      },
      "source": [
        "class_names = ['T-shirt/top', 'Trouser', 'Pullover', 'Dress', 'Coat',\n",
        "               'Sandal', 'Shirt', 'Sneaker', 'Bag', 'Ankle boot']"
      ],
      "execution_count": 0,
      "outputs": []
    },
    {
      "cell_type": "markdown",
      "metadata": {
        "id": "77Ut-5IGoqfX",
        "colab_type": "text"
      },
      "source": [
        "**資料檢視**"
      ]
    },
    {
      "cell_type": "markdown",
      "metadata": {
        "id": "vz1kDupUre9G",
        "colab_type": "text"
      },
      "source": [
        "**新增validation set**"
      ]
    },
    {
      "cell_type": "code",
      "metadata": {
        "id": "i4GE91RRreaB",
        "colab_type": "code",
        "colab": {}
      },
      "source": [
        "x_valid=x_train[:6000]/255"
      ],
      "execution_count": 0,
      "outputs": []
    },
    {
      "cell_type": "code",
      "metadata": {
        "id": "TNZMa_kqr5ac",
        "colab_type": "code",
        "colab": {}
      },
      "source": [
        "y_valid=y_train[:6000]"
      ],
      "execution_count": 0,
      "outputs": []
    },
    {
      "cell_type": "code",
      "metadata": {
        "id": "I1cWCZxB2__k",
        "colab_type": "code",
        "colab": {}
      },
      "source": [
        "x_train_new=x_train[6000:]/255"
      ],
      "execution_count": 0,
      "outputs": []
    },
    {
      "cell_type": "code",
      "metadata": {
        "id": "Vj8OeCuc1tIu",
        "colab_type": "code",
        "colab": {}
      },
      "source": [
        "y_train_new=y_train[6000:]"
      ],
      "execution_count": 0,
      "outputs": []
    },
    {
      "cell_type": "markdown",
      "metadata": {
        "id": "DLxgv6BtsGNE",
        "colab_type": "text"
      },
      "source": [
        "**建立model**"
      ]
    },
    {
      "cell_type": "code",
      "metadata": {
        "id": "ZE4kd0T6sIHK",
        "colab_type": "code",
        "colab": {}
      },
      "source": [
        "from tensorflow.keras.models import Sequential\n",
        "from tensorflow.keras.layers import Dense\n",
        "from tensorflow.keras.layers import Flatten\n",
        "from tensorflow.keras.layers import InputLayer\n",
        "from tensorflow.keras.optimizers import Adam"
      ],
      "execution_count": 0,
      "outputs": []
    },
    {
      "cell_type": "code",
      "metadata": {
        "id": "U3_8_aX-sFDc",
        "colab_type": "code",
        "colab": {}
      },
      "source": [
        "model = Sequential()"
      ],
      "execution_count": 0,
      "outputs": []
    },
    {
      "cell_type": "markdown",
      "metadata": {
        "id": "lvo18rK31EjI",
        "colab_type": "text"
      },
      "source": [
        "**新增Flatten layer，讓輸入的影像成為1D 28X28矩陣**"
      ]
    },
    {
      "cell_type": "code",
      "metadata": {
        "id": "4_3T3yDv6Vsr",
        "colab_type": "code",
        "colab": {}
      },
      "source": [
        "model.add(Flatten(input_shape=[28,28]))"
      ],
      "execution_count": 0,
      "outputs": []
    },
    {
      "cell_type": "markdown",
      "metadata": {
        "id": "TcQaVoAVJoqj",
        "colab_type": "text"
      },
      "source": [
        "**改變模型的層數跟神經元數**"
      ]
    },
    {
      "cell_type": "code",
      "metadata": {
        "id": "wOpSJsZWPfuc",
        "colab_type": "code",
        "colab": {}
      },
      "source": [
        "model.add(Dense(350,activation=\"relu\"))\n"
      ],
      "execution_count": 0,
      "outputs": []
    },
    {
      "cell_type": "code",
      "metadata": {
        "id": "RHeQvF7v8K7L",
        "colab_type": "code",
        "colab": {}
      },
      "source": [
        "model.add(Dense(120,activation='relu'))"
      ],
      "execution_count": 0,
      "outputs": []
    },
    {
      "cell_type": "code",
      "metadata": {
        "id": "z_TpPp1W8MBa",
        "colab_type": "code",
        "colab": {}
      },
      "source": [
        "model.add(Dense(10,activation='softmax'))"
      ],
      "execution_count": 0,
      "outputs": []
    },
    {
      "cell_type": "code",
      "metadata": {
        "id": "vWN_WeVIsU1j",
        "colab_type": "code",
        "outputId": "930abd15-7c7e-4b10-bc14-61c64ee867f3",
        "colab": {
          "base_uri": "https://localhost:8080/",
          "height": 289
        }
      },
      "source": [
        "model.summary()"
      ],
      "execution_count": 18,
      "outputs": [
        {
          "output_type": "stream",
          "text": [
            "Model: \"sequential\"\n",
            "_________________________________________________________________\n",
            "Layer (type)                 Output Shape              Param #   \n",
            "=================================================================\n",
            "flatten (Flatten)            (None, 784)               0         \n",
            "_________________________________________________________________\n",
            "dense (Dense)                (None, 350)               274750    \n",
            "_________________________________________________________________\n",
            "dense_1 (Dense)              (None, 120)               42120     \n",
            "_________________________________________________________________\n",
            "dense_2 (Dense)              (None, 10)                1210      \n",
            "=================================================================\n",
            "Total params: 318,080\n",
            "Trainable params: 318,080\n",
            "Non-trainable params: 0\n",
            "_________________________________________________________________\n"
          ],
          "name": "stdout"
        }
      ]
    },
    {
      "cell_type": "markdown",
      "metadata": {
        "id": "zIfkMRUy8ewV",
        "colab_type": "text"
      },
      "source": [
        "**改變loss從mse變成sparse_categorical_crossentropy:**\n",
        "loss不採取mse而使用sparese_categorical_crossentropy。此常用於類別相關辨識。不用categorical_crossentropy主要是因為要辨識的物件不是one-hot encoded。\n",
        "\n",
        "**改變optimizer從SGD變成adam:**\n",
        "adam為目前常使用的optimizer之一，能使學習率有個固定範圍，讓參數更新較平穩\n",
        "\n",
        "**改變learning rate:**"
      ]
    },
    {
      "cell_type": "code",
      "metadata": {
        "id": "Xl2_BkxpvHw5",
        "colab_type": "code",
        "colab": {}
      },
      "source": [
        "model.compile(loss='sparse_categorical_crossentropy',\n",
        "              optimizer=\"adam\",\n",
        "              metrics=['accuracy'])"
      ],
      "execution_count": 0,
      "outputs": []
    },
    {
      "cell_type": "markdown",
      "metadata": {
        "id": "Svw0Iv75LwIp",
        "colab_type": "text"
      },
      "source": [
        "**改變batch size跟epochs且增加validation data檢驗**"
      ]
    },
    {
      "cell_type": "code",
      "metadata": {
        "id": "ouQqPP6HwCrO",
        "colab_type": "code",
        "outputId": "2292d993-56c5-4224-e02b-7b2c50e18f27",
        "colab": {
          "base_uri": "https://localhost:8080/",
          "height": 1000
        }
      },
      "source": [
        "response=model.fit(x_train_new,y_train_new,batch_size=150,epochs=30,validation_data=(x_valid,y_valid))"
      ],
      "execution_count": 20,
      "outputs": [
        {
          "output_type": "stream",
          "text": [
            "Epoch 1/30\n",
            "360/360 [==============================] - 1s 3ms/step - loss: 0.5148 - accuracy: 0.8177 - val_loss: 0.4210 - val_accuracy: 0.8468\n",
            "Epoch 2/30\n",
            "360/360 [==============================] - 1s 3ms/step - loss: 0.3737 - accuracy: 0.8642 - val_loss: 0.3509 - val_accuracy: 0.8722\n",
            "Epoch 3/30\n",
            "360/360 [==============================] - 1s 3ms/step - loss: 0.3312 - accuracy: 0.8783 - val_loss: 0.3313 - val_accuracy: 0.8748\n",
            "Epoch 4/30\n",
            "360/360 [==============================] - 1s 3ms/step - loss: 0.3036 - accuracy: 0.8881 - val_loss: 0.3116 - val_accuracy: 0.8875\n",
            "Epoch 5/30\n",
            "360/360 [==============================] - 1s 3ms/step - loss: 0.2872 - accuracy: 0.8940 - val_loss: 0.3120 - val_accuracy: 0.8873\n",
            "Epoch 6/30\n",
            "360/360 [==============================] - 1s 3ms/step - loss: 0.2708 - accuracy: 0.8987 - val_loss: 0.3115 - val_accuracy: 0.8873\n",
            "Epoch 7/30\n",
            "360/360 [==============================] - 1s 3ms/step - loss: 0.2580 - accuracy: 0.9047 - val_loss: 0.2919 - val_accuracy: 0.8913\n",
            "Epoch 8/30\n",
            "360/360 [==============================] - 1s 3ms/step - loss: 0.2467 - accuracy: 0.9086 - val_loss: 0.2942 - val_accuracy: 0.8955\n",
            "Epoch 9/30\n",
            "360/360 [==============================] - 1s 3ms/step - loss: 0.2353 - accuracy: 0.9113 - val_loss: 0.2916 - val_accuracy: 0.8923\n",
            "Epoch 10/30\n",
            "360/360 [==============================] - 1s 3ms/step - loss: 0.2261 - accuracy: 0.9157 - val_loss: 0.3145 - val_accuracy: 0.8880\n",
            "Epoch 11/30\n",
            "360/360 [==============================] - 1s 3ms/step - loss: 0.2163 - accuracy: 0.9190 - val_loss: 0.3049 - val_accuracy: 0.8915\n",
            "Epoch 12/30\n",
            "360/360 [==============================] - 1s 3ms/step - loss: 0.2101 - accuracy: 0.9218 - val_loss: 0.2974 - val_accuracy: 0.8947\n",
            "Epoch 13/30\n",
            "360/360 [==============================] - 1s 3ms/step - loss: 0.1997 - accuracy: 0.9250 - val_loss: 0.3146 - val_accuracy: 0.8897\n",
            "Epoch 14/30\n",
            "360/360 [==============================] - 1s 3ms/step - loss: 0.1934 - accuracy: 0.9270 - val_loss: 0.3094 - val_accuracy: 0.8893\n",
            "Epoch 15/30\n",
            "360/360 [==============================] - 1s 3ms/step - loss: 0.1869 - accuracy: 0.9294 - val_loss: 0.3023 - val_accuracy: 0.8918\n",
            "Epoch 16/30\n",
            "360/360 [==============================] - 1s 3ms/step - loss: 0.1805 - accuracy: 0.9321 - val_loss: 0.3212 - val_accuracy: 0.8955\n",
            "Epoch 17/30\n",
            "360/360 [==============================] - 1s 3ms/step - loss: 0.1748 - accuracy: 0.9341 - val_loss: 0.3130 - val_accuracy: 0.8980\n",
            "Epoch 18/30\n",
            "360/360 [==============================] - 1s 3ms/step - loss: 0.1667 - accuracy: 0.9367 - val_loss: 0.3360 - val_accuracy: 0.8930\n",
            "Epoch 19/30\n",
            "360/360 [==============================] - 1s 3ms/step - loss: 0.1619 - accuracy: 0.9389 - val_loss: 0.3394 - val_accuracy: 0.8935\n",
            "Epoch 20/30\n",
            "360/360 [==============================] - 1s 3ms/step - loss: 0.1606 - accuracy: 0.9396 - val_loss: 0.3117 - val_accuracy: 0.8983\n",
            "Epoch 21/30\n",
            "360/360 [==============================] - 1s 3ms/step - loss: 0.1516 - accuracy: 0.9425 - val_loss: 0.3386 - val_accuracy: 0.8912\n",
            "Epoch 22/30\n",
            "360/360 [==============================] - 1s 3ms/step - loss: 0.1484 - accuracy: 0.9435 - val_loss: 0.3452 - val_accuracy: 0.8963\n",
            "Epoch 23/30\n",
            "360/360 [==============================] - 1s 3ms/step - loss: 0.1407 - accuracy: 0.9467 - val_loss: 0.3354 - val_accuracy: 0.8983\n",
            "Epoch 24/30\n",
            "360/360 [==============================] - 1s 3ms/step - loss: 0.1351 - accuracy: 0.9486 - val_loss: 0.3380 - val_accuracy: 0.8970\n",
            "Epoch 25/30\n",
            "360/360 [==============================] - 1s 3ms/step - loss: 0.1333 - accuracy: 0.9483 - val_loss: 0.3513 - val_accuracy: 0.8957\n",
            "Epoch 26/30\n",
            "360/360 [==============================] - 1s 3ms/step - loss: 0.1277 - accuracy: 0.9511 - val_loss: 0.3595 - val_accuracy: 0.8960\n",
            "Epoch 27/30\n",
            "360/360 [==============================] - 1s 3ms/step - loss: 0.1270 - accuracy: 0.9519 - val_loss: 0.3618 - val_accuracy: 0.8952\n",
            "Epoch 28/30\n",
            "360/360 [==============================] - 1s 3ms/step - loss: 0.1186 - accuracy: 0.9542 - val_loss: 0.3656 - val_accuracy: 0.8977\n",
            "Epoch 29/30\n",
            "360/360 [==============================] - 1s 3ms/step - loss: 0.1155 - accuracy: 0.9558 - val_loss: 0.3860 - val_accuracy: 0.8885\n",
            "Epoch 30/30\n",
            "360/360 [==============================] - 1s 3ms/step - loss: 0.1130 - accuracy: 0.9571 - val_loss: 0.3962 - val_accuracy: 0.8935\n"
          ],
          "name": "stdout"
        }
      ]
    },
    {
      "cell_type": "code",
      "metadata": {
        "id": "HmaHibUvw5ZK",
        "colab_type": "code",
        "colab": {}
      },
      "source": [
        "import pandas as pd"
      ],
      "execution_count": 0,
      "outputs": []
    },
    {
      "cell_type": "code",
      "metadata": {
        "id": "ysuRY3_wxC5T",
        "colab_type": "code",
        "outputId": "05efa112-8584-476b-a3c8-e697f0642c90",
        "colab": {
          "base_uri": "https://localhost:8080/",
          "height": 337
        }
      },
      "source": [
        "pd.DataFrame(response.history).plot(figsize=(8,5))"
      ],
      "execution_count": 22,
      "outputs": [
        {
          "output_type": "execute_result",
          "data": {
            "text/plain": [
              "<matplotlib.axes._subplots.AxesSubplot at 0x7f7df01ae9b0>"
            ]
          },
          "metadata": {
            "tags": []
          },
          "execution_count": 22
        },
        {
          "output_type": "display_data",
          "data": {
            "image/png": "[encoded data removed]",
            "text/plain": [
              "<Figure size 576x360 with 1 Axes>"
            ]
          },
          "metadata": {
            "tags": []
          }
        }
      ]
    },
    {
      "cell_type": "code",
      "metadata": {
        "id": "eGU17eYVxnfI",
        "colab_type": "code",
        "outputId": "6d965541-f65b-4532-8c45-7f3fbe8219d8",
        "colab": {
          "base_uri": "https://localhost:8080/",
          "height": 51
        }
      },
      "source": [
        "model.evaluate(x_test,y_test)"
      ],
      "execution_count": 23,
      "outputs": [
        {
          "output_type": "stream",
          "text": [
            "313/313 [==============================] - 1s 2ms/step - loss: 95.6739 - accuracy: 0.8577\n"
          ],
          "name": "stdout"
        },
        {
          "output_type": "execute_result",
          "data": {
            "text/plain": [
              "[95.67386627197266, 0.857699990272522]"
            ]
          },
          "metadata": {
            "tags": []
          },
          "execution_count": 23
        }
      ]
    },
    {
      "cell_type": "code",
      "metadata": {
        "id": "T1Ft98oJxv0p",
        "colab_type": "code",
        "outputId": "536f6e26-2ba8-40d0-aa3b-7bed781e2579",
        "colab": {
          "base_uri": "https://localhost:8080/",
          "height": 105
        }
      },
      "source": [
        "result=model.predict_classes(x_test)\n",
        "result"
      ],
      "execution_count": 24,
      "outputs": [
        {
          "output_type": "stream",
          "text": [
            "WARNING:tensorflow:From <ipython-input-24-8aec75900223>:1: Sequential.predict_classes (from tensorflow.python.keras.engine.sequential) is deprecated and will be removed after 2021-01-01.\n",
            "Instructions for updating:\n",
            "Please use instead:* `np.argmax(model.predict(x), axis=-1)`,   if your model does multi-class classification   (e.g. if it uses a `softmax` last-layer activation).* `(model.predict(x) > 0.5).astype(\"int32\")`,   if your model does binary classification   (e.g. if it uses a `sigmoid` last-layer activation).\n"
          ],
          "name": "stdout"
        },
        {
          "output_type": "execute_result",
          "data": {
            "text/plain": [
              "array([9, 2, 1, ..., 8, 1, 5])"
            ]
          },
          "metadata": {
            "tags": []
          },
          "execution_count": 24
        }
      ]
    },
    {
      "cell_type": "code",
      "metadata": {
        "id": "ETpnJhV2ybzI",
        "colab_type": "code",
        "colab": {
          "base_uri": "https://localhost:8080/",
          "height": 299
        },
        "outputId": "16c837f3-1c96-4a5c-9ff0-8cf7b92447cd"
      },
      "source": [
        "n=100\n",
        "print('神經網路預測是：',class_names[result[n]])\n",
        "plt.imshow(x_test[n].reshape(28,28),cmap='Greys')"
      ],
      "execution_count": 25,
      "outputs": [
        {
          "output_type": "stream",
          "text": [
            "神經網路預測是： Dress\n"
          ],
          "name": "stdout"
        },
        {
          "output_type": "execute_result",
          "data": {
            "text/plain": [
              "<matplotlib.image.AxesImage at 0x7f7e8a1102e8>"
            ]
          },
          "metadata": {
            "tags": []
          },
          "execution_count": 25
        },
        {
          "output_type": "display_data",
          "data": {
            "image/png": "[encoded data removed]",
            "text/plain": [
              "<Figure size 432x288 with 1 Axes>"
            ]
          },
          "metadata": {
            "tags": []
          }
        }
      ]
    },
    {
      "cell_type": "code",
      "metadata": {
        "id": "7JFw_2WWRtqH",
        "colab_type": "code",
        "colab": {}
      },
      "source": [
        ""
      ],
      "execution_count": 0,
      "outputs": []
    }
  ]
}