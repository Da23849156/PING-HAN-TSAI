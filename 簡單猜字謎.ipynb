{
 "cells": [
  {
   "cell_type": "code",
   "execution_count": 17,
   "metadata": {},
   "outputs": [
    {
     "name": "stdout",
     "output_type": "stream",
     "text": [
      "歡迎進入簡單猜字謎遊戲\n",
      "_\n",
      "_\n",
      "_\n",
      "猜一個英文單字d\n",
      "你猜錯了\n",
      "你還有 9 機會\n",
      "_\n",
      "_\n",
      "_\n",
      "猜一個英文單字p\n",
      "你猜錯了\n",
      "你還有 8 機會\n",
      "_\n",
      "_\n",
      "_\n",
      "猜一個英文單字P\n",
      "x\n",
      "_\n",
      "_\n",
      "猜一個英文單字i\n",
      "x\n",
      "x\n",
      "_\n",
      "猜一個英文單字g\n",
      "x\n",
      "x\n",
      "x\n",
      "你贏了\n"
     ]
    }
   ],
   "source": [
    "print(\"歡迎進入簡單猜字謎遊戲\")\n",
    "word =\"Pig\"\n",
    "guess=\"\"\n",
    "turns=10\n",
    "while turns>0:\n",
    "    failed=0\n",
    "    for x in word:\n",
    "        if x in guess:\n",
    "            print('x')\n",
    "        else:\n",
    "            print('_')\n",
    "            failed+=1\n",
    "    if failed==0:\n",
    "        print('你贏了')\n",
    "        break\n",
    "    guess1=input(\"猜一個英文單字\")\n",
    "    guess+=guess1\n",
    "    if guess1 not in word:\n",
    "        turns -=1\n",
    "        print('你猜錯了')\n",
    "        print('你還有',+turns,'機會')\n",
    "        if turns ==0:\n",
    "            print('你輸惹')"
   ]
  },
  {
   "cell_type": "code",
   "execution_count": null,
   "metadata": {},
   "outputs": [],
   "source": []
  }
 ],
 "metadata": {
  "kernelspec": {
   "display_name": "Python 3",
   "language": "python",
   "name": "python3"
  },
  "language_info": {
   "codemirror_mode": {
    "name": "ipython",
    "version": 3
   },
   "file_extension": ".py",
   "mimetype": "text/x-python",
   "name": "python",
   "nbconvert_exporter": "python",
   "pygments_lexer": "ipython3",
   "version": "3.7.4"
  }
 },
 "nbformat": 4,
 "nbformat_minor": 2
}
