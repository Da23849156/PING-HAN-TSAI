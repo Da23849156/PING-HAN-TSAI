{
 "cells": [
  {
   "cell_type": "code",
   "execution_count": 1,
   "metadata": {},
   "outputs": [],
   "source": [
    "import random\n",
    "import string\n",
    "password=[]\n",
    "    "
   ]
  },
  {
   "cell_type": "code",
   "execution_count": 7,
   "metadata": {},
   "outputs": [
    {
     "name": "stdout",
     "output_type": "stream",
     "text": [
      "你想要幾位數的密碼？10\n",
      "您的密碼為 s3aga5tpEM\n",
      "你想要幾位數的密碼？2\n",
      "您的密碼為 nZ\n",
      "你想要幾位數的密碼？5\n",
      "您的密碼為 weSCv\n",
      "你想要幾位數的密碼？0\n",
      "謝謝使用本程式\n"
     ]
    }
   ],
   "source": [
    "while True:\n",
    "    password=[]\n",
    "    try:\n",
    "        a=int(input(\"你想要幾位數的密碼？\"))\n",
    "        if a==0:\n",
    "            print('謝謝使用本程式')\n",
    "            break\n",
    "        else:\n",
    "            for i in range(a):\n",
    "                word = random.choice(string.ascii_letters + string.digits)\n",
    "                password.append(word)\n",
    "                result = \"\".join(password)\n",
    "            print(\"您的密碼為\",result)\n",
    "\n",
    "    except:\n",
    "        print('請輸入整數')"
   ]
  },
  {
   "cell_type": "code",
   "execution_count": null,
   "metadata": {},
   "outputs": [],
   "source": []
  }
 ],
 "metadata": {
  "kernelspec": {
   "display_name": "Python 3",
   "language": "python",
   "name": "python3"
  },
  "language_info": {
   "codemirror_mode": {
    "name": "ipython",
    "version": 3
   },
   "file_extension": ".py",
   "mimetype": "text/x-python",
   "name": "python",
   "nbconvert_exporter": "python",
   "pygments_lexer": "ipython3",
   "version": "3.7.4"
  }
 },
 "nbformat": 4,
 "nbformat_minor": 2
}
