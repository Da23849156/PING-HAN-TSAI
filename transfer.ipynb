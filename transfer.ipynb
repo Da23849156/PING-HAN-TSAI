{
  "nbformat": 4,
  "nbformat_minor": 0,
  "metadata": {
    "colab": {
      "name": "transfer.ipynb",
      "provenance": [],
      "authorship_tag": "ABX9TyMCEH8QulaCkO+R1oZgyknm",
      "include_colab_link": true
    },
    "kernelspec": {
      "name": "python3",
      "display_name": "Python 3"
    }
  },
  "cells": [
    {
      "cell_type": "markdown",
      "metadata": {
        "id": "view-in-github",
        "colab_type": "text"
      },
      "source": [
        "<a href=\"https://colab.research.google.com/github/Da23849156/PING-HAN-TSAI/blob/master/transfer.ipynb\" target=\"_parent\"><img src=\"https://colab.research.google.com/assets/colab-badge.svg\" alt=\"Open In Colab\"/></a>"
      ]
    },
    {
      "cell_type": "markdown",
      "metadata": {
        "id": "7Bedb1x6aHNt",
        "colab_type": "text"
      },
      "source": [
        "## 讀取套件"
      ]
    },
    {
      "cell_type": "code",
      "metadata": {
        "id": "jDN3cN9WvcJN",
        "colab_type": "code",
        "colab": {}
      },
      "source": [
        "from tensorflow.keras.datasets import fashion_mnist\n",
        "import matplotlib.pyplot as plt\n",
        "import numpy as np\n",
        "import tensorflow as sf\n",
        "from tensorflow.keras import datasets\n",
        "from tensorflow.keras.utils import to_categorical\n",
        "from tensorflow.keras.applications.resnet import ResNet50\n",
        "from tensorflow.keras.models import Sequential, clone_model\n",
        "from tensorflow.keras.layers import Dense, Flatten, Dropout, BatchNormalization, Conv2D, GlobalAveragePooling2D, Activation,MaxPooling2D,MaxPool2D\n",
        "from tensorflow.keras.optimizers import SGD, Adam"
      ],
      "execution_count": 0,
      "outputs": []
    },
    {
      "cell_type": "markdown",
      "metadata": {
        "id": "55C4KqNnaLmn",
        "colab_type": "text"
      },
      "source": [
        "## 讀取資料+建立類別名稱\n",
        "首先我使用的是fasion_mnist的資料庫\n",
        "（總共有10個類別）"
      ]
    },
    {
      "cell_type": "code",
      "metadata": {
        "id": "RahXf4U8RnvZ",
        "colab_type": "code",
        "colab": {}
      },
      "source": [
        "(x_train,y_train),(x_test,y_test)=fashion_mnist.load_data()\n",
        "class_names = ['T-shirt/top', 'Trouser', 'Pullover', 'Dress', 'Coat',\n",
        "               'Sandal', 'Shirt', 'Sneaker', 'Bag', 'Ankle boot']"
      ],
      "execution_count": 0,
      "outputs": []
    },
    {
      "cell_type": "markdown",
      "metadata": {
        "id": "8Eo_QxVkaQzw",
        "colab_type": "text"
      },
      "source": [
        "##資料處理\n",
        "包含建立validation dataset"
      ]
    },
    {
      "cell_type": "code",
      "metadata": {
        "id": "kBohHY1rSRAY",
        "colab_type": "code",
        "colab": {}
      },
      "source": [
        "x_valid=x_train[:6000]/255\n",
        "y_valid=y_train[:6000]\n",
        "x_train_new=x_train[6000:]/255\n",
        "y_train_new=y_train[6000:]\n",
        "y_train_new = to_categorical(y_train_new, 10)\n",
        "y_valid=to_categorical(y_valid,10)\n",
        "y_test = to_categorical(y_test, 10)\n",
        "x_train_new=x_train_new.reshape(54000,28,28,1)\n",
        "x_test_new=x_test.reshape(10000,28,28,1)/255\n",
        "x_valid=x_valid.reshape(6000,28,28,1)"
      ],
      "execution_count": 0,
      "outputs": []
    },
    {
      "cell_type": "markdown",
      "metadata": {
        "id": "gywCBE1daX9r",
        "colab_type": "text"
      },
      "source": [
        "## 建立fashion_mnist 模型\n",
        "分成建立C_layer跟F_layer兩個變數，以涵括Conv2D相關程式和Dense相關程式"
      ]
    },
    {
      "cell_type": "code",
      "metadata": {
        "id": "IbYRlm52h8mc",
        "colab_type": "code",
        "colab": {}
      },
      "source": [
        "C_layer=[Conv2D(32, (3, 3), activation='relu', kernel_initializer='he_uniform', input_shape=(28, 28, 1)),\n",
        "          MaxPooling2D((2, 2)),\n",
        "          Flatten()]\n",
        "F_layer=[Dense(100, activation='relu', kernel_initializer='he_uniform'),\n",
        "         Dense(10, activation='softmax')]\n",
        "model = Sequential(C_layer+F_layer)"
      ],
      "execution_count": 0,
      "outputs": []
    },
    {
      "cell_type": "markdown",
      "metadata": {
        "id": "7wdwZe_wb6DV",
        "colab_type": "text"
      },
      "source": [
        "## 檢視模型架構"
      ]
    },
    {
      "cell_type": "code",
      "metadata": {
        "id": "8yx688sXSUKL",
        "colab_type": "code",
        "outputId": "fdf01a11-4686-4daf-f1a4-341d7fdf022f",
        "colab": {
          "base_uri": "https://localhost:8080/",
          "height": 323
        }
      },
      "source": [
        "model.summary()"
      ],
      "execution_count": 0,
      "outputs": [
        {
          "output_type": "stream",
          "text": [
            "Model: \"sequential_4\"\n",
            "_________________________________________________________________\n",
            "Layer (type)                 Output Shape              Param #   \n",
            "=================================================================\n",
            "conv2d_3 (Conv2D)            (None, 26, 26, 32)        320       \n",
            "_________________________________________________________________\n",
            "max_pooling2d_3 (MaxPooling2 (None, 13, 13, 32)        0         \n",
            "_________________________________________________________________\n",
            "flatten_3 (Flatten)          (None, 5408)              0         \n",
            "_________________________________________________________________\n",
            "dense_7 (Dense)              (None, 100)               540900    \n",
            "_________________________________________________________________\n",
            "dense_8 (Dense)              (None, 10)                1010      \n",
            "=================================================================\n",
            "Total params: 542,230\n",
            "Trainable params: 542,230\n",
            "Non-trainable params: 0\n",
            "_________________________________________________________________\n"
          ],
          "name": "stdout"
        }
      ]
    },
    {
      "cell_type": "markdown",
      "metadata": {
        "id": "OWOiNYZecCRj",
        "colab_type": "text"
      },
      "source": [
        "## 訓練模型\n",
        "\n"
      ]
    },
    {
      "cell_type": "code",
      "metadata": {
        "id": "4_A-c684UUjy",
        "colab_type": "code",
        "outputId": "ba630185-ed45-4e41-cdc7-7180cfe5110e",
        "colab": {
          "base_uri": "https://localhost:8080/",
          "height": 187
        }
      },
      "source": [
        "model.compile(optimizer=SGD(lr=0.01), loss='categorical_crossentropy', metrics=['accuracy'])\n",
        "\n",
        "response=model.fit(x_train_new,y_train_new,batch_size=128,epochs=5,validation_data=(x_valid,y_valid))"
      ],
      "execution_count": 0,
      "outputs": [
        {
          "output_type": "stream",
          "text": [
            "Epoch 1/5\n",
            "422/422 [==============================] - 20s 47ms/step - loss: 0.7037 - accuracy: 0.7630 - val_loss: 0.5018 - val_accuracy: 0.8342\n",
            "Epoch 2/5\n",
            "422/422 [==============================] - 20s 47ms/step - loss: 0.4849 - accuracy: 0.8316 - val_loss: 0.4687 - val_accuracy: 0.8340\n",
            "Epoch 3/5\n",
            "422/422 [==============================] - 20s 48ms/step - loss: 0.4364 - accuracy: 0.8469 - val_loss: 0.4139 - val_accuracy: 0.8600\n",
            "Epoch 4/5\n",
            "422/422 [==============================] - 20s 48ms/step - loss: 0.4110 - accuracy: 0.8560 - val_loss: 0.4043 - val_accuracy: 0.8630\n",
            "Epoch 5/5\n",
            "422/422 [==============================] - 20s 48ms/step - loss: 0.3919 - accuracy: 0.8637 - val_loss: 0.4369 - val_accuracy: 0.8473\n"
          ],
          "name": "stdout"
        }
      ]
    },
    {
      "cell_type": "markdown",
      "metadata": {
        "id": "Xnrrh6dvcHB4",
        "colab_type": "text"
      },
      "source": [
        "## 儲存模型"
      ]
    },
    {
      "cell_type": "code",
      "metadata": {
        "id": "YewnoXxAg8KW",
        "colab_type": "code",
        "colab": {}
      },
      "source": [
        "model.save('my_model.h5')"
      ],
      "execution_count": 0,
      "outputs": []
    },
    {
      "cell_type": "markdown",
      "metadata": {
        "id": "s5S20F4ScIva",
        "colab_type": "text"
      },
      "source": [
        "## 模型評估"
      ]
    },
    {
      "cell_type": "code",
      "metadata": {
        "id": "zEx2bGVQVPZk",
        "colab_type": "code",
        "outputId": "3be8d9f5-0a87-4b50-9bcf-f7b71f4ecc90",
        "colab": {
          "base_uri": "https://localhost:8080/",
          "height": 34
        }
      },
      "source": [
        "score = model.evaluate(x_test_new, y_test)"
      ],
      "execution_count": 0,
      "outputs": [
        {
          "output_type": "stream",
          "text": [
            "313/313 [==============================] - 2s 6ms/step - loss: 0.4532 - accuracy: 0.8390\n"
          ],
          "name": "stdout"
        }
      ]
    },
    {
      "cell_type": "code",
      "metadata": {
        "id": "1XLusmd9VMs7",
        "colab_type": "code",
        "outputId": "5f0660d5-56cc-4236-c394-37a73fdb66fa",
        "colab": {
          "base_uri": "https://localhost:8080/",
          "height": 296
        }
      },
      "source": [
        "plt.plot(response.history['accuracy'], label='accuracy')\n",
        "plt.plot(response.history['val_accuracy'], label = 'val_accuracy')\n",
        "plt.xlabel('Epoch')\n",
        "plt.ylabel('Accuracy')\n",
        "plt.legend(loc='lower right')"
      ],
      "execution_count": 0,
      "outputs": [
        {
          "output_type": "execute_result",
          "data": {
            "text/plain": [
              "<matplotlib.legend.Legend at 0x7f4bdd683710>"
            ]
          },
          "metadata": {
            "tags": []
          },
          "execution_count": 36
        },
        {
          "output_type": "display_data",
          "data": {
            "image/png": "[encoded data removed]",
            "text/plain": [
              "<Figure size 432x288 with 1 Axes>"
            ]
          },
          "metadata": {
            "tags": [],
            "needs_background": "light"
          }
        }
      ]
    },
    {
      "cell_type": "code",
      "metadata": {
        "id": "Ty3VwIuXVaEr",
        "colab_type": "code",
        "outputId": "fe772447-cbd6-4c23-dd17-ded06b6f6459",
        "colab": {
          "base_uri": "https://localhost:8080/",
          "height": 296
        }
      },
      "source": [
        "plt.plot(response.history['loss'], label='loss')\n",
        "plt.plot(response.history['val_loss'], label = 'val_loss')\n",
        "plt.xlabel('Epoch')\n",
        "plt.ylabel('loss')\n",
        "plt.legend(loc='upper right')"
      ],
      "execution_count": 0,
      "outputs": [
        {
          "output_type": "execute_result",
          "data": {
            "text/plain": [
              "<matplotlib.legend.Legend at 0x7f4bdd6fb320>"
            ]
          },
          "metadata": {
            "tags": []
          },
          "execution_count": 37
        },
        {
          "output_type": "display_data",
          "data": {
            "image/png": "[encoded data removed]",
            "text/plain": [
              "<Figure size 432x288 with 1 Axes>"
            ]
          },
          "metadata": {
            "tags": [],
            "needs_background": "light"
          }
        }
      ]
    },
    {
      "cell_type": "markdown",
      "metadata": {
        "id": "VkJg_OdzcL64",
        "colab_type": "text"
      },
      "source": [
        "## 模型一結果\n",
        "> **Train accuracy**： 86%\n",
        "\n",
        "> **Validation accuracy**： 84%\n",
        "\n",
        "> **Test accuracy**： 84%\n",
        "\n",
        "根據結果顯示，本模型正確率約為85%左右，尚可。不過有一點overfitting的情況。"
      ]
    },
    {
      "cell_type": "markdown",
      "metadata": {
        "id": "RiZ8AHVOc9-G",
        "colab_type": "text"
      },
      "source": [
        "# **Transfer learning**"
      ]
    },
    {
      "cell_type": "markdown",
      "metadata": {
        "id": "_eYRvslndGwj",
        "colab_type": "text"
      },
      "source": [
        "## 使用新的資料集mnsit"
      ]
    },
    {
      "cell_type": "code",
      "metadata": {
        "id": "Eco16_ublVXw",
        "colab_type": "code",
        "colab": {}
      },
      "source": [
        "from tensorflow.keras.datasets import mnist\n",
        "(x_train, y_train), (x_test, y_test) = mnist.load_data()\n"
      ],
      "execution_count": 0,
      "outputs": []
    },
    {
      "cell_type": "markdown",
      "metadata": {
        "id": "NlWhfwv4dKPQ",
        "colab_type": "text"
      },
      "source": [
        "## 資料處理\n",
        "在這邊就不額外建立validation set"
      ]
    },
    {
      "cell_type": "code",
      "metadata": {
        "id": "-UtdI7-eViA4",
        "colab_type": "code",
        "colab": {}
      },
      "source": [
        "\n",
        "x_train = x_train.reshape(60000, 28, 28, 1) / 255\n",
        "x_test = x_test.reshape(10000, 28, 28, 1) / 255\n",
        "\n",
        "y_train = to_categorical(y_train, 10)\n",
        "y_test = to_categorical(y_test, 10)"
      ],
      "execution_count": 0,
      "outputs": []
    },
    {
      "cell_type": "markdown",
      "metadata": {
        "id": "oliFibrJdUCL",
        "colab_type": "text"
      },
      "source": [
        "## 建立新的F_layer\n",
        "取名NF_layer\n",
        "\n",
        "新個F_layer除了增加一層Dense之外，也有修改其units的參數值\n"
      ]
    },
    {
      "cell_type": "code",
      "metadata": {
        "id": "MpyI-cqpmhRY",
        "colab_type": "code",
        "colab": {}
      },
      "source": [
        "NF_layer=[Dense(88,activation='relu'),\n",
        "Dense(32,activation='relu'),\n",
        "Dense(10,activation='softmax')]"
      ],
      "execution_count": 0,
      "outputs": []
    },
    {
      "cell_type": "markdown",
      "metadata": {
        "id": "zX-QGTrTdth8",
        "colab_type": "text"
      },
      "source": [
        "## 使用舊的C_layer和新的NF_layer建立modelB"
      ]
    },
    {
      "cell_type": "code",
      "metadata": {
        "id": "fzWkQs8qZI3K",
        "colab_type": "code",
        "colab": {}
      },
      "source": [
        "modelB=Sequential(C_layer+NF_layer)\n"
      ],
      "execution_count": 0,
      "outputs": []
    },
    {
      "cell_type": "markdown",
      "metadata": {
        "id": "sXYwUtITdz4E",
        "colab_type": "text"
      },
      "source": [
        "## 檢視模型架構"
      ]
    },
    {
      "cell_type": "code",
      "metadata": {
        "id": "jGwhP1Wul-qn",
        "colab_type": "code",
        "outputId": "e0599072-e034-4927-eb50-ccede8c2390c",
        "colab": {
          "base_uri": "https://localhost:8080/",
          "height": 357
        }
      },
      "source": [
        "modelB.summary()"
      ],
      "execution_count": 0,
      "outputs": [
        {
          "output_type": "stream",
          "text": [
            "Model: \"sequential_7\"\n",
            "_________________________________________________________________\n",
            "Layer (type)                 Output Shape              Param #   \n",
            "=================================================================\n",
            "conv2d_3 (Conv2D)            (None, 26, 26, 32)        320       \n",
            "_________________________________________________________________\n",
            "max_pooling2d_3 (MaxPooling2 (None, 13, 13, 32)        0         \n",
            "_________________________________________________________________\n",
            "flatten_3 (Flatten)          (None, 5408)              0         \n",
            "_________________________________________________________________\n",
            "dense_13 (Dense)             (None, 88)                475992    \n",
            "_________________________________________________________________\n",
            "dense_14 (Dense)             (None, 32)                2848      \n",
            "_________________________________________________________________\n",
            "dense_15 (Dense)             (None, 10)                330       \n",
            "=================================================================\n",
            "Total params: 479,490\n",
            "Trainable params: 479,170\n",
            "Non-trainable params: 320\n",
            "_________________________________________________________________\n"
          ],
          "name": "stdout"
        }
      ]
    },
    {
      "cell_type": "markdown",
      "metadata": {
        "id": "ZFAfxBMmd2eQ",
        "colab_type": "text"
      },
      "source": [
        "## 複製model的權重\n",
        "因為現在modelB和model之間共享層數，當我訓練modelB的時候，也會影響model。"
      ]
    },
    {
      "cell_type": "code",
      "metadata": {
        "id": "SooQL92rZQYO",
        "colab_type": "code",
        "colab": {}
      },
      "source": [
        "model_clone=clone_model(model)\n",
        "model_clone.set_weights(model.get_weights())"
      ],
      "execution_count": 0,
      "outputs": []
    },
    {
      "cell_type": "markdown",
      "metadata": {
        "id": "XIilKWPTeoXj",
        "colab_type": "text"
      },
      "source": [
        "## 凍結先前使用過的C_layer\n",
        "因為新的F_later是隨機初始化的，因此會產生較大的錯誤，有較大的錯誤梯度，可能會破壞先前使用過的layer的權重。\n",
        "所以先凍結先前使用過的layer，以給新建立的layer一些時間進行訓練。"
      ]
    },
    {
      "cell_type": "code",
      "metadata": {
        "id": "DBms_k_HcLoj",
        "colab_type": "code",
        "colab": {}
      },
      "source": [
        "for layer in C_layer:\n",
        "  layer.trainable=False"
      ],
      "execution_count": 0,
      "outputs": []
    },
    {
      "cell_type": "markdown",
      "metadata": {
        "id": "XWi5tf-qfN3P",
        "colab_type": "text"
      },
      "source": [
        "## 訓練模型"
      ]
    },
    {
      "cell_type": "code",
      "metadata": {
        "id": "ko_z02azdKO6",
        "colab_type": "code",
        "outputId": "530370a4-7400-469d-cdda-faf1a11ea0a1",
        "colab": {
          "base_uri": "https://localhost:8080/",
          "height": 187
        }
      },
      "source": [
        "modelB.compile(optimizer=SGD(lr=0.01), loss='categorical_crossentropy', metrics=['accuracy'])\n",
        "history1=modelB.fit(x_train,y_train,batch_size=128,epochs=5,validation_data=(x_test,y_test))"
      ],
      "execution_count": 0,
      "outputs": [
        {
          "output_type": "stream",
          "text": [
            "Epoch 1/5\n",
            "469/469 [==============================] - 10s 22ms/step - loss: 0.0747 - accuracy: 0.9793 - val_loss: 0.0837 - val_accuracy: 0.9749\n",
            "Epoch 2/5\n",
            "469/469 [==============================] - 10s 22ms/step - loss: 0.0701 - accuracy: 0.9807 - val_loss: 0.0765 - val_accuracy: 0.9771\n",
            "Epoch 3/5\n",
            "469/469 [==============================] - 10s 22ms/step - loss: 0.0661 - accuracy: 0.9822 - val_loss: 0.0746 - val_accuracy: 0.9773\n",
            "Epoch 4/5\n",
            "469/469 [==============================] - 10s 22ms/step - loss: 0.0622 - accuracy: 0.9828 - val_loss: 0.0711 - val_accuracy: 0.9781\n",
            "Epoch 5/5\n",
            "469/469 [==============================] - 10s 22ms/step - loss: 0.0589 - accuracy: 0.9841 - val_loss: 0.0706 - val_accuracy: 0.9787\n"
          ],
          "name": "stdout"
        }
      ]
    },
    {
      "cell_type": "markdown",
      "metadata": {
        "id": "H0D32MMmfUU7",
        "colab_type": "text"
      },
      "source": [
        "## 模型評估"
      ]
    },
    {
      "cell_type": "code",
      "metadata": {
        "id": "fwp8VZWbojdR",
        "colab_type": "code",
        "outputId": "2bae74f7-52c1-40e0-f545-7b5455dc96be",
        "colab": {
          "base_uri": "https://localhost:8080/",
          "height": 296
        }
      },
      "source": [
        "plt.plot(history1.history['accuracy'], label='accuracy')\n",
        "plt.plot(history1.history['val_accuracy'], label = 'val_accuracy')\n",
        "plt.xlabel('Epoch')\n",
        "plt.ylabel('Accuracy')\n",
        "plt.legend(loc='lower right')"
      ],
      "execution_count": 0,
      "outputs": [
        {
          "output_type": "execute_result",
          "data": {
            "text/plain": [
              "<matplotlib.legend.Legend at 0x7f4bdbd8df28>"
            ]
          },
          "metadata": {
            "tags": []
          },
          "execution_count": 93
        },
        {
          "output_type": "display_data",
          "data": {
            "image/png": "[encoded data removed]",
            "text/plain": [
              "<Figure size 432x288 with 1 Axes>"
            ]
          },
          "metadata": {
            "tags": [],
            "needs_background": "light"
          }
        }
      ]
    },
    {
      "cell_type": "code",
      "metadata": {
        "id": "iwwmSA0_oqIJ",
        "colab_type": "code",
        "outputId": "b1ed44a5-2dac-4a28-8b61-46c5c68bbda2",
        "colab": {
          "base_uri": "https://localhost:8080/",
          "height": 296
        }
      },
      "source": [
        "plt.plot(history1.history['loss'], label='loss')\n",
        "plt.plot(history1.history['val_loss'], label = 'val_loss')\n",
        "plt.xlabel('Epoch')\n",
        "plt.ylabel('loss')\n",
        "plt.legend(loc='upper right')"
      ],
      "execution_count": 0,
      "outputs": [
        {
          "output_type": "execute_result",
          "data": {
            "text/plain": [
              "<matplotlib.legend.Legend at 0x7f4bdc80dd68>"
            ]
          },
          "metadata": {
            "tags": []
          },
          "execution_count": 94
        },
        {
          "output_type": "display_data",
          "data": {
            "image/png": "[encoded data removed]",
            "text/plain": [
              "<Figure size 432x288 with 1 Axes>"
            ]
          },
          "metadata": {
            "tags": [],
            "needs_background": "light"
          }
        }
      ]
    },
    {
      "cell_type": "code",
      "metadata": {
        "id": "74yjcXrSo5WT",
        "colab_type": "code",
        "outputId": "1e19fef0-bdac-4134-a3b9-1e07893cf16d",
        "colab": {
          "base_uri": "https://localhost:8080/",
          "height": 51
        }
      },
      "source": [
        "modelB.evaluate(x_test, y_test)"
      ],
      "execution_count": 0,
      "outputs": [
        {
          "output_type": "stream",
          "text": [
            "313/313 [==============================] - 2s 6ms/step - loss: 0.0706 - accuracy: 0.9787\n"
          ],
          "name": "stdout"
        },
        {
          "output_type": "execute_result",
          "data": {
            "text/plain": [
              "[0.07059991359710693, 0.9786999821662903]"
            ]
          },
          "metadata": {
            "tags": []
          },
          "execution_count": 95
        }
      ]
    },
    {
      "cell_type": "markdown",
      "metadata": {
        "id": "SkzcSkfgfWdG",
        "colab_type": "text"
      },
      "source": [
        "## model B (凍結C_layer）的結果統整\n",
        "> **Train accuracy**： 98%\n",
        "\n",
        "> **Validation accuracy**： 97.8%\n",
        "\n",
        "> **Test accuracy**： 97.8%\n",
        "\n"
      ]
    },
    {
      "cell_type": "markdown",
      "metadata": {
        "id": "OCTljJr2fv9P",
        "colab_type": "text"
      },
      "source": [
        "## fine tune\n",
        "將原本的C_layer解凍進行訓練，進行微調。\n",
        "\n",
        "參考課本的方法，降低學習率，避免損壞重用層的權重"
      ]
    },
    {
      "cell_type": "code",
      "metadata": {
        "id": "wNpgnqN-ewHQ",
        "colab_type": "code",
        "colab": {}
      },
      "source": [
        "for layer in C_layer:\n",
        "  layer.trainable=True"
      ],
      "execution_count": 0,
      "outputs": []
    },
    {
      "cell_type": "code",
      "metadata": {
        "id": "5sR-SYIuocCI",
        "colab_type": "code",
        "colab": {}
      },
      "source": [
        "modelB.compile(optimizer=SGD(lr=0.001), loss='categorical_crossentropy', metrics=['accuracy'])\n"
      ],
      "execution_count": 0,
      "outputs": []
    },
    {
      "cell_type": "code",
      "metadata": {
        "id": "5ajyBMh5odpA",
        "colab_type": "code",
        "outputId": "e1f8d164-71c4-47a0-d6a0-e1d6a2fa8a7c",
        "colab": {
          "base_uri": "https://localhost:8080/",
          "height": 187
        }
      },
      "source": [
        "history2=modelB.fit(x_train,y_train,batch_size=128,epochs=5,validation_data=(x_test,y_test))"
      ],
      "execution_count": 0,
      "outputs": [
        {
          "output_type": "stream",
          "text": [
            "Epoch 1/5\n",
            "469/469 [==============================] - 22s 46ms/step - loss: 0.0521 - accuracy: 0.9865 - val_loss: 0.0672 - val_accuracy: 0.9795\n",
            "Epoch 2/5\n",
            "469/469 [==============================] - 22s 46ms/step - loss: 0.0518 - accuracy: 0.9865 - val_loss: 0.0671 - val_accuracy: 0.9793\n",
            "Epoch 3/5\n",
            "469/469 [==============================] - 22s 47ms/step - loss: 0.0515 - accuracy: 0.9866 - val_loss: 0.0666 - val_accuracy: 0.9797\n",
            "Epoch 4/5\n",
            "469/469 [==============================] - 22s 47ms/step - loss: 0.0511 - accuracy: 0.9869 - val_loss: 0.0663 - val_accuracy: 0.9798\n",
            "Epoch 5/5\n",
            "469/469 [==============================] - 22s 46ms/step - loss: 0.0508 - accuracy: 0.9867 - val_loss: 0.0661 - val_accuracy: 0.9796\n"
          ],
          "name": "stdout"
        }
      ]
    },
    {
      "cell_type": "markdown",
      "metadata": {
        "id": "sIlaZufGgKgT",
        "colab_type": "text"
      },
      "source": [
        "## 模型評估"
      ]
    },
    {
      "cell_type": "code",
      "metadata": {
        "id": "nJjamAdNpN1H",
        "colab_type": "code",
        "outputId": "ae7b2aef-326b-4be4-a1c6-f15508c387e9",
        "colab": {
          "base_uri": "https://localhost:8080/",
          "height": 51
        }
      },
      "source": [
        "modelB.evaluate(x_test, y_test)"
      ],
      "execution_count": 0,
      "outputs": [
        {
          "output_type": "stream",
          "text": [
            "313/313 [==============================] - 2s 6ms/step - loss: 0.0661 - accuracy: 0.9796\n"
          ],
          "name": "stdout"
        },
        {
          "output_type": "execute_result",
          "data": {
            "text/plain": [
              "[0.06614912301301956, 0.9796000123023987]"
            ]
          },
          "metadata": {
            "tags": []
          },
          "execution_count": 102
        }
      ]
    },
    {
      "cell_type": "code",
      "metadata": {
        "id": "NIRc4lzkpSJl",
        "colab_type": "code",
        "outputId": "7aa16e9d-3d70-4869-b428-a41226392dfe",
        "colab": {
          "base_uri": "https://localhost:8080/",
          "height": 296
        }
      },
      "source": [
        "plt.plot(history2.history['accuracy'], label='accuracy')\n",
        "plt.plot(history2.history['val_accuracy'], label = 'val_accuracy')\n",
        "plt.xlabel('Epoch')\n",
        "plt.ylabel('Accuracy')\n",
        "plt.legend(loc='lower right')"
      ],
      "execution_count": 0,
      "outputs": [
        {
          "output_type": "execute_result",
          "data": {
            "text/plain": [
              "<matplotlib.legend.Legend at 0x7f4bdb36e470>"
            ]
          },
          "metadata": {
            "tags": []
          },
          "execution_count": 103
        },
        {
          "output_type": "display_data",
          "data": {
            "image/png": "[encoded data removed]",
            "text/plain": [
              "<Figure size 432x288 with 1 Axes>"
            ]
          },
          "metadata": {
            "tags": [],
            "needs_background": "light"
          }
        }
      ]
    },
    {
      "cell_type": "code",
      "metadata": {
        "id": "7RdgjR0MpSqh",
        "colab_type": "code",
        "outputId": "c2dd5e6c-8496-424a-f49a-9f0428bf5d70",
        "colab": {
          "base_uri": "https://localhost:8080/",
          "height": 296
        }
      },
      "source": [
        "plt.plot(history2.history['loss'], label='loss')\n",
        "plt.plot(history2.history['val_loss'], label = 'val_loss')\n",
        "plt.xlabel('Epoch')\n",
        "plt.ylabel('loss')\n",
        "plt.legend(loc='upper right')"
      ],
      "execution_count": 0,
      "outputs": [
        {
          "output_type": "execute_result",
          "data": {
            "text/plain": [
              "<matplotlib.legend.Legend at 0x7f4bdb3ca2e8>"
            ]
          },
          "metadata": {
            "tags": []
          },
          "execution_count": 104
        },
        {
          "output_type": "display_data",
          "data": {
            "image/png": "[encoded data removed]",
            "text/plain": [
              "<Figure size 432x288 with 1 Axes>"
            ]
          },
          "metadata": {
            "tags": [],
            "needs_background": "light"
          }
        }
      ]
    },
    {
      "cell_type": "markdown",
      "metadata": {
        "id": "SrpjbaF_gMyR",
        "colab_type": "text"
      },
      "source": [
        "## model B (fine tune）的結果統整\n",
        "> **Train accuracy**： 98.6%\n",
        "\n",
        "> **Validation accuracy**： 97.9%\n",
        "\n",
        "> **Test accuracy**： 97.9%\n",
        "\n",
        "根據結果，當我們使用model的參數進行transfer learning時，可發現modelB（部分model的層數以及新的輸出層）在辨識mnist資料檔有相當好的正確率。"
      ]
    },
    {
      "cell_type": "markdown",
      "metadata": {
        "id": "O5MJYNBGh6vR",
        "colab_type": "text"
      },
      "source": [
        "**不過我在想會不會我選擇使用的兩個資料集之間的差異過大，會使得建立的模型結果產生偏誤？**\n",
        "\n",
        "**最理想的第二個資料集應該要是複雜版或是簡易版的fashion_mnist**"
      ]
    }
  ]
}