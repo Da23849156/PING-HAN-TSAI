{
  "nbformat": 4,
  "nbformat_minor": 0,
  "metadata": {
    "colab": {
      "name": "CNN.ipynb",
      "provenance": [],
      "authorship_tag": "ABX9TyOxQ/L+RvFcx+SYWaz4J0Fq",
      "include_colab_link": true
    },
    "kernelspec": {
      "name": "python3",
      "display_name": "Python 3"
    },
    "widgets": {
      "application/vnd.jupyter.widget-state+json": {
        "5db3b8b80b2b4d398ae4bada3c1786f8": {
          "model_module": "@jupyter-widgets/controls",
          "model_name": "VBoxModel",
          "state": {
            "_view_name": "VBoxView",
            "_dom_classes": [
              "widget-interact"
            ],
            "_model_name": "VBoxModel",
            "_view_module": "@jupyter-widgets/controls",
            "_model_module_version": "1.5.0",
            "_view_count": null,
            "_view_module_version": "1.5.0",
            "box_style": "",
            "layout": "IPY_MODEL_8b45707da70f41e5a476d71f1eebce88",
            "_model_module": "@jupyter-widgets/controls",
            "children": [
              "IPY_MODEL_22467f2b3324481cba35aa774830e80d",
              "IPY_MODEL_2c50e8f6e54b43298f35873981500f15",
              "IPY_MODEL_5e108682ea03470bb8011ad80273f68d"
            ]
          }
        },
        "8b45707da70f41e5a476d71f1eebce88": {
          "model_module": "@jupyter-widgets/base",
          "model_name": "LayoutModel",
          "state": {
            "_view_name": "LayoutView",
            "grid_template_rows": null,
            "right": null,
            "justify_content": null,
            "_view_module": "@jupyter-widgets/base",
            "overflow": null,
            "_model_module_version": "1.2.0",
            "_view_count": null,
            "flex_flow": null,
            "width": null,
            "min_width": null,
            "border": null,
            "align_items": null,
            "bottom": null,
            "_model_module": "@jupyter-widgets/base",
            "top": null,
            "grid_column": null,
            "overflow_y": null,
            "overflow_x": null,
            "grid_auto_flow": null,
            "grid_area": null,
            "grid_template_columns": null,
            "flex": null,
            "_model_name": "LayoutModel",
            "justify_items": null,
            "grid_row": null,
            "max_height": null,
            "align_content": null,
            "visibility": null,
            "align_self": null,
            "height": null,
            "min_height": null,
            "padding": null,
            "grid_auto_rows": null,
            "grid_gap": null,
            "max_width": null,
            "order": null,
            "_view_module_version": "1.2.0",
            "grid_template_areas": null,
            "object_position": null,
            "object_fit": null,
            "grid_auto_columns": null,
            "margin": null,
            "display": null,
            "left": null
          }
        },
        "22467f2b3324481cba35aa774830e80d": {
          "model_module": "@jupyter-widgets/controls",
          "model_name": "IntSliderModel",
          "state": {
            "_view_name": "IntSliderView",
            "style": "IPY_MODEL_155333303a2a4cba81a689a6e5377981",
            "_dom_classes": [],
            "description": "n",
            "step": 1,
            "_model_name": "IntSliderModel",
            "orientation": "horizontal",
            "max": 9999,
            "_view_module": "@jupyter-widgets/controls",
            "_model_module_version": "1.5.0",
            "value": 4999,
            "_view_count": null,
            "disabled": false,
            "_view_module_version": "1.5.0",
            "min": 0,
            "continuous_update": true,
            "readout_format": "d",
            "description_tooltip": null,
            "readout": true,
            "_model_module": "@jupyter-widgets/controls",
            "layout": "IPY_MODEL_bc086a350b9944068ec96f5ea13742c3"
          }
        },
        "2c50e8f6e54b43298f35873981500f15": {
          "model_module": "@jupyter-widgets/controls",
          "model_name": "ButtonModel",
          "state": {
            "_view_name": "ButtonView",
            "style": "IPY_MODEL_113adaf852a8408bb9d36acb4ec368c5",
            "_dom_classes": [],
            "description": "Run Interact",
            "_model_name": "ButtonModel",
            "button_style": "",
            "_view_module": "@jupyter-widgets/controls",
            "_model_module_version": "1.5.0",
            "tooltip": "",
            "_view_count": null,
            "disabled": false,
            "_view_module_version": "1.5.0",
            "layout": "IPY_MODEL_20287a7b4d7d423f8b6611c0bcd08c56",
            "_model_module": "@jupyter-widgets/controls",
            "icon": ""
          }
        },
        "5e108682ea03470bb8011ad80273f68d": {
          "model_module": "@jupyter-widgets/output",
          "model_name": "OutputModel",
          "state": {
            "_view_name": "OutputView",
            "msg_id": "",
            "_dom_classes": [],
            "_model_name": "OutputModel",
            "outputs": [
              {
                "output_type": "stream",
                "metadata": {
                  "tags": []
                },
                "text": "我可愛的 CNN 預測是 Sneaker\n",
                "stream": "stdout"
              },
              {
                "output_type": "display_data",
                "metadata": {
                  "tags": [],
                  "needs_background": "light"
                },
                "image/png": "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\n",
                "text/plain": "<Figure size 432x288 with 1 Axes>"
              }
            ],
            "_view_module": "@jupyter-widgets/output",
            "_model_module_version": "1.0.0",
            "_view_count": null,
            "_view_module_version": "1.0.0",
            "layout": "IPY_MODEL_6835bcf6e568424789e2c423fac6a1f3",
            "_model_module": "@jupyter-widgets/output"
          }
        },
        "155333303a2a4cba81a689a6e5377981": {
          "model_module": "@jupyter-widgets/controls",
          "model_name": "SliderStyleModel",
          "state": {
            "_view_name": "StyleView",
            "handle_color": null,
            "_model_name": "SliderStyleModel",
            "description_width": "",
            "_view_module": "@jupyter-widgets/base",
            "_model_module_version": "1.5.0",
            "_view_count": null,
            "_view_module_version": "1.2.0",
            "_model_module": "@jupyter-widgets/controls"
          }
        },
        "bc086a350b9944068ec96f5ea13742c3": {
          "model_module": "@jupyter-widgets/base",
          "model_name": "LayoutModel",
          "state": {
            "_view_name": "LayoutView",
            "grid_template_rows": null,
            "right": null,
            "justify_content": null,
            "_view_module": "@jupyter-widgets/base",
            "overflow": null,
            "_model_module_version": "1.2.0",
            "_view_count": null,
            "flex_flow": null,
            "width": null,
            "min_width": null,
            "border": null,
            "align_items": null,
            "bottom": null,
            "_model_module": "@jupyter-widgets/base",
            "top": null,
            "grid_column": null,
            "overflow_y": null,
            "overflow_x": null,
            "grid_auto_flow": null,
            "grid_area": null,
            "grid_template_columns": null,
            "flex": null,
            "_model_name": "LayoutModel",
            "justify_items": null,
            "grid_row": null,
            "max_height": null,
            "align_content": null,
            "visibility": null,
            "align_self": null,
            "height": null,
            "min_height": null,
            "padding": null,
            "grid_auto_rows": null,
            "grid_gap": null,
            "max_width": null,
            "order": null,
            "_view_module_version": "1.2.0",
            "grid_template_areas": null,
            "object_position": null,
            "object_fit": null,
            "grid_auto_columns": null,
            "margin": null,
            "display": null,
            "left": null
          }
        },
        "113adaf852a8408bb9d36acb4ec368c5": {
          "model_module": "@jupyter-widgets/controls",
          "model_name": "ButtonStyleModel",
          "state": {
            "_view_name": "StyleView",
            "_model_name": "ButtonStyleModel",
            "_view_module": "@jupyter-widgets/base",
            "_model_module_version": "1.5.0",
            "_view_count": null,
            "button_color": null,
            "font_weight": "",
            "_view_module_version": "1.2.0",
            "_model_module": "@jupyter-widgets/controls"
          }
        },
        "20287a7b4d7d423f8b6611c0bcd08c56": {
          "model_module": "@jupyter-widgets/base",
          "model_name": "LayoutModel",
          "state": {
            "_view_name": "LayoutView",
            "grid_template_rows": null,
            "right": null,
            "justify_content": null,
            "_view_module": "@jupyter-widgets/base",
            "overflow": null,
            "_model_module_version": "1.2.0",
            "_view_count": null,
            "flex_flow": null,
            "width": null,
            "min_width": null,
            "border": null,
            "align_items": null,
            "bottom": null,
            "_model_module": "@jupyter-widgets/base",
            "top": null,
            "grid_column": null,
            "overflow_y": null,
            "overflow_x": null,
            "grid_auto_flow": null,
            "grid_area": null,
            "grid_template_columns": null,
            "flex": null,
            "_model_name": "LayoutModel",
            "justify_items": null,
            "grid_row": null,
            "max_height": null,
            "align_content": null,
            "visibility": null,
            "align_self": null,
            "height": null,
            "min_height": null,
            "padding": null,
            "grid_auto_rows": null,
            "grid_gap": null,
            "max_width": null,
            "order": null,
            "_view_module_version": "1.2.0",
            "grid_template_areas": null,
            "object_position": null,
            "object_fit": null,
            "grid_auto_columns": null,
            "margin": null,
            "display": null,
            "left": null
          }
        },
        "6835bcf6e568424789e2c423fac6a1f3": {
          "model_module": "@jupyter-widgets/base",
          "model_name": "LayoutModel",
          "state": {
            "_view_name": "LayoutView",
            "grid_template_rows": null,
            "right": null,
            "justify_content": null,
            "_view_module": "@jupyter-widgets/base",
            "overflow": null,
            "_model_module_version": "1.2.0",
            "_view_count": null,
            "flex_flow": null,
            "width": null,
            "min_width": null,
            "border": null,
            "align_items": null,
            "bottom": null,
            "_model_module": "@jupyter-widgets/base",
            "top": null,
            "grid_column": null,
            "overflow_y": null,
            "overflow_x": null,
            "grid_auto_flow": null,
            "grid_area": null,
            "grid_template_columns": null,
            "flex": null,
            "_model_name": "LayoutModel",
            "justify_items": null,
            "grid_row": null,
            "max_height": null,
            "align_content": null,
            "visibility": null,
            "align_self": null,
            "height": null,
            "min_height": null,
            "padding": null,
            "grid_auto_rows": null,
            "grid_gap": null,
            "max_width": null,
            "order": null,
            "_view_module_version": "1.2.0",
            "grid_template_areas": null,
            "object_position": null,
            "object_fit": null,
            "grid_auto_columns": null,
            "margin": null,
            "display": null,
            "left": null
          }
        },
        "e7114951983041ed9a63796137769846": {
          "model_module": "@jupyter-widgets/controls",
          "model_name": "VBoxModel",
          "state": {
            "_view_name": "VBoxView",
            "_dom_classes": [
              "widget-interact"
            ],
            "_model_name": "VBoxModel",
            "_view_module": "@jupyter-widgets/controls",
            "_model_module_version": "1.5.0",
            "_view_count": null,
            "_view_module_version": "1.5.0",
            "box_style": "",
            "layout": "IPY_MODEL_68df0856c8b2484d8160b33413212027",
            "_model_module": "@jupyter-widgets/controls",
            "children": [
              "IPY_MODEL_0b925f18ac5b49e4855856dfbebd3e42",
              "IPY_MODEL_31a7f7502d4048c786593dd77ab257f3",
              "IPY_MODEL_c566f8c99fe6427b90253c3ba0926e3f"
            ]
          }
        },
        "68df0856c8b2484d8160b33413212027": {
          "model_module": "@jupyter-widgets/base",
          "model_name": "LayoutModel",
          "state": {
            "_view_name": "LayoutView",
            "grid_template_rows": null,
            "right": null,
            "justify_content": null,
            "_view_module": "@jupyter-widgets/base",
            "overflow": null,
            "_model_module_version": "1.2.0",
            "_view_count": null,
            "flex_flow": null,
            "width": null,
            "min_width": null,
            "border": null,
            "align_items": null,
            "bottom": null,
            "_model_module": "@jupyter-widgets/base",
            "top": null,
            "grid_column": null,
            "overflow_y": null,
            "overflow_x": null,
            "grid_auto_flow": null,
            "grid_area": null,
            "grid_template_columns": null,
            "flex": null,
            "_model_name": "LayoutModel",
            "justify_items": null,
            "grid_row": null,
            "max_height": null,
            "align_content": null,
            "visibility": null,
            "align_self": null,
            "height": null,
            "min_height": null,
            "padding": null,
            "grid_auto_rows": null,
            "grid_gap": null,
            "max_width": null,
            "order": null,
            "_view_module_version": "1.2.0",
            "grid_template_areas": null,
            "object_position": null,
            "object_fit": null,
            "grid_auto_columns": null,
            "margin": null,
            "display": null,
            "left": null
          }
        },
        "0b925f18ac5b49e4855856dfbebd3e42": {
          "model_module": "@jupyter-widgets/controls",
          "model_name": "IntSliderModel",
          "state": {
            "_view_name": "IntSliderView",
            "style": "IPY_MODEL_9348d38b99c946a5bfed081c254d7252",
            "_dom_classes": [],
            "description": "n",
            "step": 1,
            "_model_name": "IntSliderModel",
            "orientation": "horizontal",
            "max": 9999,
            "_view_module": "@jupyter-widgets/controls",
            "_model_module_version": "1.5.0",
            "value": 6643,
            "_view_count": null,
            "disabled": false,
            "_view_module_version": "1.5.0",
            "min": 0,
            "continuous_update": true,
            "readout_format": "d",
            "description_tooltip": null,
            "readout": true,
            "_model_module": "@jupyter-widgets/controls",
            "layout": "IPY_MODEL_0923f268d2804b6aaa750b49bc06c9bb"
          }
        },
        "31a7f7502d4048c786593dd77ab257f3": {
          "model_module": "@jupyter-widgets/controls",
          "model_name": "ButtonModel",
          "state": {
            "_view_name": "ButtonView",
            "style": "IPY_MODEL_58864e4272ee4b6e8886524178cfab0c",
            "_dom_classes": [],
            "description": "Run Interact",
            "_model_name": "ButtonModel",
            "button_style": "",
            "_view_module": "@jupyter-widgets/controls",
            "_model_module_version": "1.5.0",
            "tooltip": "",
            "_view_count": null,
            "disabled": false,
            "_view_module_version": "1.5.0",
            "layout": "IPY_MODEL_55cae164ac0048318215dd43ef3ff39b",
            "_model_module": "@jupyter-widgets/controls",
            "icon": ""
          }
        },
        "c566f8c99fe6427b90253c3ba0926e3f": {
          "model_module": "@jupyter-widgets/output",
          "model_name": "OutputModel",
          "state": {
            "_view_name": "OutputView",
            "msg_id": "",
            "_dom_classes": [],
            "_model_name": "OutputModel",
            "outputs": [
              {
                "output_type": "stream",
                "metadata": {
                  "tags": []
                },
                "text": "我可愛的 CNN 預測是 Trouser\n",
                "stream": "stdout"
              },
              {
                "output_type": "display_data",
                "metadata": {
                  "tags": [],
                  "needs_background": "light"
                },
                "image/png": "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\n",
                "text/plain": "<Figure size 432x288 with 1 Axes>"
              }
            ],
            "_view_module": "@jupyter-widgets/output",
            "_model_module_version": "1.0.0",
            "_view_count": null,
            "_view_module_version": "1.0.0",
            "layout": "IPY_MODEL_578d835ff091434ba70533a25ec0ce44",
            "_model_module": "@jupyter-widgets/output"
          }
        },
        "9348d38b99c946a5bfed081c254d7252": {
          "model_module": "@jupyter-widgets/controls",
          "model_name": "SliderStyleModel",
          "state": {
            "_view_name": "StyleView",
            "handle_color": null,
            "_model_name": "SliderStyleModel",
            "description_width": "",
            "_view_module": "@jupyter-widgets/base",
            "_model_module_version": "1.5.0",
            "_view_count": null,
            "_view_module_version": "1.2.0",
            "_model_module": "@jupyter-widgets/controls"
          }
        },
        "0923f268d2804b6aaa750b49bc06c9bb": {
          "model_module": "@jupyter-widgets/base",
          "model_name": "LayoutModel",
          "state": {
            "_view_name": "LayoutView",
            "grid_template_rows": null,
            "right": null,
            "justify_content": null,
            "_view_module": "@jupyter-widgets/base",
            "overflow": null,
            "_model_module_version": "1.2.0",
            "_view_count": null,
            "flex_flow": null,
            "width": null,
            "min_width": null,
            "border": null,
            "align_items": null,
            "bottom": null,
            "_model_module": "@jupyter-widgets/base",
            "top": null,
            "grid_column": null,
            "overflow_y": null,
            "overflow_x": null,
            "grid_auto_flow": null,
            "grid_area": null,
            "grid_template_columns": null,
            "flex": null,
            "_model_name": "LayoutModel",
            "justify_items": null,
            "grid_row": null,
            "max_height": null,
            "align_content": null,
            "visibility": null,
            "align_self": null,
            "height": null,
            "min_height": null,
            "padding": null,
            "grid_auto_rows": null,
            "grid_gap": null,
            "max_width": null,
            "order": null,
            "_view_module_version": "1.2.0",
            "grid_template_areas": null,
            "object_position": null,
            "object_fit": null,
            "grid_auto_columns": null,
            "margin": null,
            "display": null,
            "left": null
          }
        },
        "58864e4272ee4b6e8886524178cfab0c": {
          "model_module": "@jupyter-widgets/controls",
          "model_name": "ButtonStyleModel",
          "state": {
            "_view_name": "StyleView",
            "_model_name": "ButtonStyleModel",
            "_view_module": "@jupyter-widgets/base",
            "_model_module_version": "1.5.0",
            "_view_count": null,
            "button_color": null,
            "font_weight": "",
            "_view_module_version": "1.2.0",
            "_model_module": "@jupyter-widgets/controls"
          }
        },
        "55cae164ac0048318215dd43ef3ff39b": {
          "model_module": "@jupyter-widgets/base",
          "model_name": "LayoutModel",
          "state": {
            "_view_name": "LayoutView",
            "grid_template_rows": null,
            "right": null,
            "justify_content": null,
            "_view_module": "@jupyter-widgets/base",
            "overflow": null,
            "_model_module_version": "1.2.0",
            "_view_count": null,
            "flex_flow": null,
            "width": null,
            "min_width": null,
            "border": null,
            "align_items": null,
            "bottom": null,
            "_model_module": "@jupyter-widgets/base",
            "top": null,
            "grid_column": null,
            "overflow_y": null,
            "overflow_x": null,
            "grid_auto_flow": null,
            "grid_area": null,
            "grid_template_columns": null,
            "flex": null,
            "_model_name": "LayoutModel",
            "justify_items": null,
            "grid_row": null,
            "max_height": null,
            "align_content": null,
            "visibility": null,
            "align_self": null,
            "height": null,
            "min_height": null,
            "padding": null,
            "grid_auto_rows": null,
            "grid_gap": null,
            "max_width": null,
            "order": null,
            "_view_module_version": "1.2.0",
            "grid_template_areas": null,
            "object_position": null,
            "object_fit": null,
            "grid_auto_columns": null,
            "margin": null,
            "display": null,
            "left": null
          }
        },
        "578d835ff091434ba70533a25ec0ce44": {
          "model_module": "@jupyter-widgets/base",
          "model_name": "LayoutModel",
          "state": {
            "_view_name": "LayoutView",
            "grid_template_rows": null,
            "right": null,
            "justify_content": null,
            "_view_module": "@jupyter-widgets/base",
            "overflow": null,
            "_model_module_version": "1.2.0",
            "_view_count": null,
            "flex_flow": null,
            "width": null,
            "min_width": null,
            "border": null,
            "align_items": null,
            "bottom": null,
            "_model_module": "@jupyter-widgets/base",
            "top": null,
            "grid_column": null,
            "overflow_y": null,
            "overflow_x": null,
            "grid_auto_flow": null,
            "grid_area": null,
            "grid_template_columns": null,
            "flex": null,
            "_model_name": "LayoutModel",
            "justify_items": null,
            "grid_row": null,
            "max_height": null,
            "align_content": null,
            "visibility": null,
            "align_self": null,
            "height": null,
            "min_height": null,
            "padding": null,
            "grid_auto_rows": null,
            "grid_gap": null,
            "max_width": null,
            "order": null,
            "_view_module_version": "1.2.0",
            "grid_template_areas": null,
            "object_position": null,
            "object_fit": null,
            "grid_auto_columns": null,
            "margin": null,
            "display": null,
            "left": null
          }
        },
        "16cb0b43118a41aba2d1bb1a3c9ed593": {
          "model_module": "@jupyter-widgets/controls",
          "model_name": "VBoxModel",
          "state": {
            "_view_name": "VBoxView",
            "_dom_classes": [
              "widget-interact"
            ],
            "_model_name": "VBoxModel",
            "_view_module": "@jupyter-widgets/controls",
            "_model_module_version": "1.5.0",
            "_view_count": null,
            "_view_module_version": "1.5.0",
            "box_style": "",
            "layout": "IPY_MODEL_ec381bf6b64f440cbf03ed60dc817c76",
            "_model_module": "@jupyter-widgets/controls",
            "children": [
              "IPY_MODEL_197cd51807ee4d0189057f7b71668b89",
              "IPY_MODEL_69da039fef1b41858f60e9bc77388ec9",
              "IPY_MODEL_47ca79f53a7445e38a9a4689c8710739"
            ]
          }
        },
        "ec381bf6b64f440cbf03ed60dc817c76": {
          "model_module": "@jupyter-widgets/base",
          "model_name": "LayoutModel",
          "state": {
            "_view_name": "LayoutView",
            "grid_template_rows": null,
            "right": null,
            "justify_content": null,
            "_view_module": "@jupyter-widgets/base",
            "overflow": null,
            "_model_module_version": "1.2.0",
            "_view_count": null,
            "flex_flow": null,
            "width": null,
            "min_width": null,
            "border": null,
            "align_items": null,
            "bottom": null,
            "_model_module": "@jupyter-widgets/base",
            "top": null,
            "grid_column": null,
            "overflow_y": null,
            "overflow_x": null,
            "grid_auto_flow": null,
            "grid_area": null,
            "grid_template_columns": null,
            "flex": null,
            "_model_name": "LayoutModel",
            "justify_items": null,
            "grid_row": null,
            "max_height": null,
            "align_content": null,
            "visibility": null,
            "align_self": null,
            "height": null,
            "min_height": null,
            "padding": null,
            "grid_auto_rows": null,
            "grid_gap": null,
            "max_width": null,
            "order": null,
            "_view_module_version": "1.2.0",
            "grid_template_areas": null,
            "object_position": null,
            "object_fit": null,
            "grid_auto_columns": null,
            "margin": null,
            "display": null,
            "left": null
          }
        },
        "197cd51807ee4d0189057f7b71668b89": {
          "model_module": "@jupyter-widgets/controls",
          "model_name": "IntSliderModel",
          "state": {
            "_view_name": "IntSliderView",
            "style": "IPY_MODEL_495fc58a4a7449c3ae6f613144ca4be0",
            "_dom_classes": [],
            "description": "n",
            "step": 1,
            "_model_name": "IntSliderModel",
            "orientation": "horizontal",
            "max": 9999,
            "_view_module": "@jupyter-widgets/controls",
            "_model_module_version": "1.5.0",
            "value": 7822,
            "_view_count": null,
            "disabled": false,
            "_view_module_version": "1.5.0",
            "min": 0,
            "continuous_update": true,
            "readout_format": "d",
            "description_tooltip": null,
            "readout": true,
            "_model_module": "@jupyter-widgets/controls",
            "layout": "IPY_MODEL_8d338ca1283640938ddcb2b4575dc9c0"
          }
        },
        "69da039fef1b41858f60e9bc77388ec9": {
          "model_module": "@jupyter-widgets/controls",
          "model_name": "ButtonModel",
          "state": {
            "_view_name": "ButtonView",
            "style": "IPY_MODEL_78fbc8591d824b808ffb271942c314bc",
            "_dom_classes": [],
            "description": "Run Interact",
            "_model_name": "ButtonModel",
            "button_style": "",
            "_view_module": "@jupyter-widgets/controls",
            "_model_module_version": "1.5.0",
            "tooltip": "",
            "_view_count": null,
            "disabled": false,
            "_view_module_version": "1.5.0",
            "layout": "IPY_MODEL_252d3cc1d8d24b0f95bc1a277b3d666c",
            "_model_module": "@jupyter-widgets/controls",
            "icon": ""
          }
        },
        "47ca79f53a7445e38a9a4689c8710739": {
          "model_module": "@jupyter-widgets/output",
          "model_name": "OutputModel",
          "state": {
            "_view_name": "OutputView",
            "msg_id": "",
            "_dom_classes": [],
            "_model_name": "OutputModel",
            "outputs": [
              {
                "output_type": "stream",
                "metadata": {
                  "tags": []
                },
                "text": "我可愛的 CNN 預測是 T-shirt/top\n",
                "stream": "stdout"
              },
              {
                "output_type": "display_data",
                "metadata": {
                  "tags": [],
                  "needs_background": "light"
                },
                "image/png": "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\n",
                "text/plain": "<Figure size 432x288 with 1 Axes>"
              }
            ],
            "_view_module": "@jupyter-widgets/output",
            "_model_module_version": "1.0.0",
            "_view_count": null,
            "_view_module_version": "1.0.0",
            "layout": "IPY_MODEL_8749bc724cf04b0f9cdd9f4860612e60",
            "_model_module": "@jupyter-widgets/output"
          }
        },
        "495fc58a4a7449c3ae6f613144ca4be0": {
          "model_module": "@jupyter-widgets/controls",
          "model_name": "SliderStyleModel",
          "state": {
            "_view_name": "StyleView",
            "handle_color": null,
            "_model_name": "SliderStyleModel",
            "description_width": "",
            "_view_module": "@jupyter-widgets/base",
            "_model_module_version": "1.5.0",
            "_view_count": null,
            "_view_module_version": "1.2.0",
            "_model_module": "@jupyter-widgets/controls"
          }
        },
        "8d338ca1283640938ddcb2b4575dc9c0": {
          "model_module": "@jupyter-widgets/base",
          "model_name": "LayoutModel",
          "state": {
            "_view_name": "LayoutView",
            "grid_template_rows": null,
            "right": null,
            "justify_content": null,
            "_view_module": "@jupyter-widgets/base",
            "overflow": null,
            "_model_module_version": "1.2.0",
            "_view_count": null,
            "flex_flow": null,
            "width": null,
            "min_width": null,
            "border": null,
            "align_items": null,
            "bottom": null,
            "_model_module": "@jupyter-widgets/base",
            "top": null,
            "grid_column": null,
            "overflow_y": null,
            "overflow_x": null,
            "grid_auto_flow": null,
            "grid_area": null,
            "grid_template_columns": null,
            "flex": null,
            "_model_name": "LayoutModel",
            "justify_items": null,
            "grid_row": null,
            "max_height": null,
            "align_content": null,
            "visibility": null,
            "align_self": null,
            "height": null,
            "min_height": null,
            "padding": null,
            "grid_auto_rows": null,
            "grid_gap": null,
            "max_width": null,
            "order": null,
            "_view_module_version": "1.2.0",
            "grid_template_areas": null,
            "object_position": null,
            "object_fit": null,
            "grid_auto_columns": null,
            "margin": null,
            "display": null,
            "left": null
          }
        },
        "78fbc8591d824b808ffb271942c314bc": {
          "model_module": "@jupyter-widgets/controls",
          "model_name": "ButtonStyleModel",
          "state": {
            "_view_name": "StyleView",
            "_model_name": "ButtonStyleModel",
            "_view_module": "@jupyter-widgets/base",
            "_model_module_version": "1.5.0",
            "_view_count": null,
            "button_color": null,
            "font_weight": "",
            "_view_module_version": "1.2.0",
            "_model_module": "@jupyter-widgets/controls"
          }
        },
        "252d3cc1d8d24b0f95bc1a277b3d666c": {
          "model_module": "@jupyter-widgets/base",
          "model_name": "LayoutModel",
          "state": {
            "_view_name": "LayoutView",
            "grid_template_rows": null,
            "right": null,
            "justify_content": null,
            "_view_module": "@jupyter-widgets/base",
            "overflow": null,
            "_model_module_version": "1.2.0",
            "_view_count": null,
            "flex_flow": null,
            "width": null,
            "min_width": null,
            "border": null,
            "align_items": null,
            "bottom": null,
            "_model_module": "@jupyter-widgets/base",
            "top": null,
            "grid_column": null,
            "overflow_y": null,
            "overflow_x": null,
            "grid_auto_flow": null,
            "grid_area": null,
            "grid_template_columns": null,
            "flex": null,
            "_model_name": "LayoutModel",
            "justify_items": null,
            "grid_row": null,
            "max_height": null,
            "align_content": null,
            "visibility": null,
            "align_self": null,
            "height": null,
            "min_height": null,
            "padding": null,
            "grid_auto_rows": null,
            "grid_gap": null,
            "max_width": null,
            "order": null,
            "_view_module_version": "1.2.0",
            "grid_template_areas": null,
            "object_position": null,
            "object_fit": null,
            "grid_auto_columns": null,
            "margin": null,
            "display": null,
            "left": null
          }
        },
        "8749bc724cf04b0f9cdd9f4860612e60": {
          "model_module": "@jupyter-widgets/base",
          "model_name": "LayoutModel",
          "state": {
            "_view_name": "LayoutView",
            "grid_template_rows": null,
            "right": null,
            "justify_content": null,
            "_view_module": "@jupyter-widgets/base",
            "overflow": null,
            "_model_module_version": "1.2.0",
            "_view_count": null,
            "flex_flow": null,
            "width": null,
            "min_width": null,
            "border": null,
            "align_items": null,
            "bottom": null,
            "_model_module": "@jupyter-widgets/base",
            "top": null,
            "grid_column": null,
            "overflow_y": null,
            "overflow_x": null,
            "grid_auto_flow": null,
            "grid_area": null,
            "grid_template_columns": null,
            "flex": null,
            "_model_name": "LayoutModel",
            "justify_items": null,
            "grid_row": null,
            "max_height": null,
            "align_content": null,
            "visibility": null,
            "align_self": null,
            "height": null,
            "min_height": null,
            "padding": null,
            "grid_auto_rows": null,
            "grid_gap": null,
            "max_width": null,
            "order": null,
            "_view_module_version": "1.2.0",
            "grid_template_areas": null,
            "object_position": null,
            "object_fit": null,
            "grid_auto_columns": null,
            "margin": null,
            "display": null,
            "left": null
          }
        }
      }
    }
  },
  "cells": [
    {
      "cell_type": "markdown",
      "metadata": {
        "id": "view-in-github",
        "colab_type": "text"
      },
      "source": [
        "<a href=\"https://colab.research.google.com/github/Da23849156/PING-HAN-TSAI/blob/master/CNN.ipynb\" target=\"_parent\"><img src=\"https://colab.research.google.com/assets/colab-badge.svg\" alt=\"Open In Colab\"/></a>"
      ]
    },
    {
      "cell_type": "markdown",
      "metadata": {
        "id": "ddwI7ihMW8Ya",
        "colab_type": "text"
      },
      "source": [
        "#**嘗試一（與老師先前教導的程式不同）**\n",
        "##1. 改變convolution layer和各層神經元數\n",
        "##2. loss function使用categorical_crossentropy而非mse\n",
        "有學者認為categorical_crossentropy相較於mse 在使用softmax函數時，訓練後期較容易讓正確率進步。\n",
        "##3. SGD 的learning rate改成0.01\n",
        "先前嘗試過0.87，但不是太好，所以將lr調小一點\n",
        "##4. 使用he_uniform作為initializers\n",
        "因為不認為資料為常態分配，所以使用這個。但其實我不太確定這個東西的概念QQ\n",
        "##5. 改變batch size為32 epochs為10"
      ]
    },
    {
      "cell_type": "code",
      "metadata": {
        "id": "NhF8kLyKsvae",
        "colab_type": "code",
        "colab": {}
      },
      "source": [
        "from tensorflow.keras.datasets import fashion_mnist\n",
        "from matplotlib import pyplot"
      ],
      "execution_count": 0,
      "outputs": []
    },
    {
      "cell_type": "code",
      "metadata": {
        "id": "w2Id5UUgzE3r",
        "colab_type": "code",
        "colab": {}
      },
      "source": [
        "(x_train,y_train),(x_test,y_test)=fashion_mnist.load_data()"
      ],
      "execution_count": 0,
      "outputs": []
    },
    {
      "cell_type": "code",
      "metadata": {
        "id": "5W-h1V3E1thU",
        "colab_type": "code",
        "colab": {}
      },
      "source": [
        "class_names = ['T-shirt/top', 'Trouser', 'Pullover', 'Dress', 'Coat',\n",
        "               'Sandal', 'Shirt', 'Sneaker', 'Bag', 'Ankle boot']"
      ],
      "execution_count": 0,
      "outputs": []
    },
    {
      "cell_type": "code",
      "metadata": {
        "id": "Gne9RxGF8HJm",
        "colab_type": "code",
        "colab": {}
      },
      "source": [
        "x_train_new=x_train.reshape(60000,28,28,1)/255"
      ],
      "execution_count": 0,
      "outputs": []
    },
    {
      "cell_type": "code",
      "metadata": {
        "id": "1dgeFjPyBt_D",
        "colab_type": "code",
        "colab": {}
      },
      "source": [
        "x_test_new=x_test.reshape(10000,28,28,1)/255"
      ],
      "execution_count": 0,
      "outputs": []
    },
    {
      "cell_type": "code",
      "metadata": {
        "id": "ssv20Yo68hrD",
        "colab_type": "code",
        "colab": {}
      },
      "source": [
        "from tensorflow.keras.utils import to_categorical"
      ],
      "execution_count": 0,
      "outputs": []
    },
    {
      "cell_type": "code",
      "metadata": {
        "id": "HXy0eOBH3-F5",
        "colab_type": "code",
        "colab": {}
      },
      "source": [
        "y_train_new=to_categorical(y_train,10)"
      ],
      "execution_count": 0,
      "outputs": []
    },
    {
      "cell_type": "code",
      "metadata": {
        "id": "kXWJ58rbCRib",
        "colab_type": "code",
        "colab": {}
      },
      "source": [
        "y_test=to_categorical(y_test,10)"
      ],
      "execution_count": 0,
      "outputs": []
    },
    {
      "cell_type": "code",
      "metadata": {
        "id": "u6j7JABt3_-3",
        "colab_type": "code",
        "colab": {}
      },
      "source": [
        "from tensorflow.keras.models import Sequential\n",
        "from tensorflow.keras.layers import Conv2D, MaxPooling2D\n",
        "from tensorflow.keras.layers import Dense, Flatten, Dropout\n",
        "from tensorflow.keras.optimizers import Adam,SGD"
      ],
      "execution_count": 0,
      "outputs": []
    },
    {
      "cell_type": "code",
      "metadata": {
        "id": "6Ckyo2cQEbUy",
        "colab_type": "code",
        "colab": {}
      },
      "source": [
        "model = Sequential()"
      ],
      "execution_count": 0,
      "outputs": []
    },
    {
      "cell_type": "code",
      "metadata": {
        "id": "CbmkgXqJEuUt",
        "colab_type": "code",
        "colab": {}
      },
      "source": [
        "model.add(Conv2D(32, (3, 3), activation='relu', kernel_initializer='he_uniform', input_shape=(28, 28, 1)))"
      ],
      "execution_count": 0,
      "outputs": []
    },
    {
      "cell_type": "code",
      "metadata": {
        "id": "57xlyZc1Ew2G",
        "colab_type": "code",
        "colab": {}
      },
      "source": [
        "model.add(MaxPooling2D((2, 2)))"
      ],
      "execution_count": 0,
      "outputs": []
    },
    {
      "cell_type": "code",
      "metadata": {
        "id": "NG58OB_cEyaC",
        "colab_type": "code",
        "colab": {}
      },
      "source": [
        "model.add(Flatten())"
      ],
      "execution_count": 0,
      "outputs": []
    },
    {
      "cell_type": "code",
      "metadata": {
        "id": "bDltwtvaE13t",
        "colab_type": "code",
        "colab": {}
      },
      "source": [
        "model.add(Dense(100, activation='relu', kernel_initializer='he_uniform'))"
      ],
      "execution_count": 0,
      "outputs": []
    },
    {
      "cell_type": "code",
      "metadata": {
        "id": "TF2M83FUE3qI",
        "colab_type": "code",
        "colab": {}
      },
      "source": [
        "model.add(Dense(10, activation='softmax'))"
      ],
      "execution_count": 0,
      "outputs": []
    },
    {
      "cell_type": "code",
      "metadata": {
        "id": "8N1RTCWU7Qag",
        "colab_type": "code",
        "outputId": "00df0675-711e-45f1-d2e0-38c12c16a8ae",
        "colab": {
          "base_uri": "https://localhost:8080/",
          "height": 323
        }
      },
      "source": [
        "model.summary()"
      ],
      "execution_count": 41,
      "outputs": [
        {
          "output_type": "stream",
          "text": [
            "Model: \"sequential_1\"\n",
            "_________________________________________________________________\n",
            "Layer (type)                 Output Shape              Param #   \n",
            "=================================================================\n",
            "conv2d_7 (Conv2D)            (None, 26, 26, 32)        320       \n",
            "_________________________________________________________________\n",
            "max_pooling2d_3 (MaxPooling2 (None, 13, 13, 32)        0         \n",
            "_________________________________________________________________\n",
            "flatten_1 (Flatten)          (None, 5408)              0         \n",
            "_________________________________________________________________\n",
            "dense_3 (Dense)              (None, 100)               540900    \n",
            "_________________________________________________________________\n",
            "dense_4 (Dense)              (None, 10)                1010      \n",
            "=================================================================\n",
            "Total params: 542,230\n",
            "Trainable params: 542,230\n",
            "Non-trainable params: 0\n",
            "_________________________________________________________________\n"
          ],
          "name": "stdout"
        }
      ]
    },
    {
      "cell_type": "code",
      "metadata": {
        "id": "fZ73T3Ji6KlV",
        "colab_type": "code",
        "colab": {}
      },
      "source": [
        "\tmodel.compile(optimizer=SGD(lr=0.01), loss='categorical_crossentropy', metrics=['accuracy'])\n"
      ],
      "execution_count": 0,
      "outputs": []
    },
    {
      "cell_type": "code",
      "metadata": {
        "id": "_uxT8-sd6iX8",
        "colab_type": "code",
        "outputId": "fa7696a4-d049-4014-c037-2929db2bbf20",
        "colab": {
          "base_uri": "https://localhost:8080/",
          "height": 357
        }
      },
      "source": [
        "history=model.fit(x_train_new,y_train_new,batch_size=32,epochs=10)"
      ],
      "execution_count": 44,
      "outputs": [
        {
          "output_type": "stream",
          "text": [
            "Epoch 1/10\n",
            "1875/1875 [==============================] - 39s 21ms/step - loss: 0.5599 - accuracy: 0.7993\n",
            "Epoch 2/10\n",
            "1875/1875 [==============================] - 39s 21ms/step - loss: 0.4097 - accuracy: 0.8548\n",
            "Epoch 3/10\n",
            "1875/1875 [==============================] - 39s 21ms/step - loss: 0.3639 - accuracy: 0.8708\n",
            "Epoch 4/10\n",
            "1875/1875 [==============================] - 38s 21ms/step - loss: 0.3340 - accuracy: 0.8802\n",
            "Epoch 5/10\n",
            "1875/1875 [==============================] - 38s 20ms/step - loss: 0.3119 - accuracy: 0.8886\n",
            "Epoch 6/10\n",
            "1875/1875 [==============================] - 39s 21ms/step - loss: 0.2958 - accuracy: 0.8939\n",
            "Epoch 7/10\n",
            "1875/1875 [==============================] - 39s 21ms/step - loss: 0.2802 - accuracy: 0.9004\n",
            "Epoch 8/10\n",
            "1875/1875 [==============================] - 39s 21ms/step - loss: 0.2691 - accuracy: 0.9035\n",
            "Epoch 9/10\n",
            "1875/1875 [==============================] - 40s 21ms/step - loss: 0.2595 - accuracy: 0.9074\n",
            "Epoch 10/10\n",
            "1875/1875 [==============================] - 39s 21ms/step - loss: 0.2484 - accuracy: 0.9116\n"
          ],
          "name": "stdout"
        }
      ]
    },
    {
      "cell_type": "code",
      "metadata": {
        "id": "XO1a8ybH6lPr",
        "colab_type": "code",
        "colab": {
          "base_uri": "https://localhost:8080/",
          "height": 88
        },
        "outputId": "b53ac1aa-2a55-43b5-d3dc-820d4d90ab4c"
      },
      "source": [
        "result = model.predict_classes(x_test_new)\n"
      ],
      "execution_count": 45,
      "outputs": [
        {
          "output_type": "stream",
          "text": [
            "WARNING:tensorflow:From <ipython-input-45-8201ac9cf3e6>:1: Sequential.predict_classes (from tensorflow.python.keras.engine.sequential) is deprecated and will be removed after 2021-01-01.\n",
            "Instructions for updating:\n",
            "Please use instead:* `np.argmax(model.predict(x), axis=-1)`,   if your model does multi-class classification   (e.g. if it uses a `softmax` last-layer activation).* `(model.predict(x) > 0.5).astype(\"int32\")`,   if your model does binary classification   (e.g. if it uses a `sigmoid` last-layer activation).\n"
          ],
          "name": "stdout"
        }
      ]
    },
    {
      "cell_type": "code",
      "metadata": {
        "id": "K77GPhm5Jyij",
        "colab_type": "code",
        "colab": {}
      },
      "source": [
        "def my_predict(n):\n",
        "    print('我可愛的 CNN 預測是', class_names[result[n]])\n",
        "    X = x_test[n].reshape(28,28)\n",
        "    pyplot.imshow(X, cmap='Greys')"
      ],
      "execution_count": 0,
      "outputs": []
    },
    {
      "cell_type": "code",
      "metadata": {
        "id": "8mWGnBBWHTEU",
        "colab_type": "code",
        "colab": {}
      },
      "source": [
        "from ipywidgets import interact_manual"
      ],
      "execution_count": 0,
      "outputs": []
    },
    {
      "cell_type": "code",
      "metadata": {
        "id": "C7hRDk6OHVwf",
        "colab_type": "code",
        "outputId": "3dac7eb1-b6bb-4f86-ca9f-18a9005c6e96",
        "colab": {
          "base_uri": "https://localhost:8080/",
          "height": 363,
          "referenced_widgets": [
            "5db3b8b80b2b4d398ae4bada3c1786f8",
            "8b45707da70f41e5a476d71f1eebce88",
            "22467f2b3324481cba35aa774830e80d",
            "2c50e8f6e54b43298f35873981500f15",
            "5e108682ea03470bb8011ad80273f68d",
            "155333303a2a4cba81a689a6e5377981",
            "bc086a350b9944068ec96f5ea13742c3",
            "113adaf852a8408bb9d36acb4ec368c5",
            "20287a7b4d7d423f8b6611c0bcd08c56",
            "6835bcf6e568424789e2c423fac6a1f3"
          ]
        }
      },
      "source": [
        "interact_manual(my_predict, n=(0, 9999))"
      ],
      "execution_count": 48,
      "outputs": [
        {
          "output_type": "display_data",
          "data": {
            "application/vnd.jupyter.widget-view+json": {
              "model_id": "5db3b8b80b2b4d398ae4bada3c1786f8",
              "version_minor": 0,
              "version_major": 2
            },
            "text/plain": [
              "interactive(children=(IntSlider(value=4999, description='n', max=9999), Button(description='Run Interact', sty…"
            ]
          },
          "metadata": {
            "tags": []
          }
        },
        {
          "output_type": "execute_result",
          "data": {
            "text/plain": [
              "<function __main__.my_predict>"
            ]
          },
          "metadata": {
            "tags": []
          },
          "execution_count": 48
        }
      ]
    },
    {
      "cell_type": "code",
      "metadata": {
        "id": "yGwogGdEHatJ",
        "colab_type": "code",
        "outputId": "f4da3c1d-c522-4b99-f207-33cd7bc99a8f",
        "colab": {
          "base_uri": "https://localhost:8080/",
          "height": 34
        }
      },
      "source": [
        "score = model.evaluate(x_test_new, y_test)"
      ],
      "execution_count": 49,
      "outputs": [
        {
          "output_type": "stream",
          "text": [
            "313/313 [==============================] - 3s 8ms/step - loss: 0.2842 - accuracy: 0.8948\n"
          ],
          "name": "stdout"
        }
      ]
    },
    {
      "cell_type": "code",
      "metadata": {
        "id": "pBOGJ3u9HrCD",
        "colab_type": "code",
        "outputId": "da7e260a-530f-4d4a-d00b-47ee08dbbb2b",
        "colab": {
          "base_uri": "https://localhost:8080/",
          "height": 296
        }
      },
      "source": [
        "pyplot.plot(history.history['accuracy'], label='accuracy')\n",
        "pyplot.xlabel('Epoch')\n",
        "pyplot.ylabel('Accuracy')\n",
        "pyplot.legend(loc='lower right')"
      ],
      "execution_count": 50,
      "outputs": [
        {
          "output_type": "execute_result",
          "data": {
            "text/plain": [
              "<matplotlib.legend.Legend at 0x7fa80ec22048>"
            ]
          },
          "metadata": {
            "tags": []
          },
          "execution_count": 50
        },
        {
          "output_type": "display_data",
          "data": {
            "image/png": "[encoded data removed]",
            "text/plain": [
              "<Figure size 432x288 with 1 Axes>"
            ]
          },
          "metadata": {
            "tags": [],
            "needs_background": "light"
          }
        }
      ]
    },
    {
      "cell_type": "code",
      "metadata": {
        "id": "QtTxQuCAMEcU",
        "colab_type": "code",
        "outputId": "c3288a8f-b996-4793-d618-f420c3ba903f",
        "colab": {
          "base_uri": "https://localhost:8080/",
          "height": 296
        }
      },
      "source": [
        "pyplot.plot(history.history['loss'], label='loss')\n",
        "pyplot.xlabel('Epoch')\n",
        "pyplot.ylabel('loss')\n",
        "pyplot.legend(loc='upper right')"
      ],
      "execution_count": 51,
      "outputs": [
        {
          "output_type": "execute_result",
          "data": {
            "text/plain": [
              "<matplotlib.legend.Legend at 0x7fa810a1f978>"
            ]
          },
          "metadata": {
            "tags": []
          },
          "execution_count": 51
        },
        {
          "output_type": "display_data",
          "data": {
            "image/png": "[encoded data removed]",
            "text/plain": [
              "<Figure size 432x288 with 1 Axes>"
            ]
          },
          "metadata": {
            "tags": [],
            "needs_background": "light"
          }
        }
      ]
    },
    {
      "cell_type": "markdown",
      "metadata": {
        "id": "oU9shi6PbApY",
        "colab_type": "text"
      },
      "source": [
        "#**結果顯示模型應稍微有overfitting的情況**\n",
        "##**Train accuracy:91%**\n",
        "##**Test accuracy:89%**\n",
        "\n"
      ]
    },
    {
      "cell_type": "markdown",
      "metadata": {
        "id": "q6dS2sq-Irg4",
        "colab_type": "text"
      },
      "source": [
        "# **嘗試二**\n",
        "## 1. 增加validation set\n",
        "方便挑選模型，避免overfitting的情況\n",
        "## 2. 改變learning rate（從0.01變成0.1)"
      ]
    },
    {
      "cell_type": "code",
      "metadata": {
        "id": "CplfcSIWMdjP",
        "colab_type": "code",
        "colab": {}
      },
      "source": [
        "(x_train,y_train),(x_test,y_test)=fashion_mnist.load_data()\n"
      ],
      "execution_count": 0,
      "outputs": []
    },
    {
      "cell_type": "code",
      "metadata": {
        "id": "i4GE91RRreaB",
        "colab_type": "code",
        "colab": {}
      },
      "source": [
        "x_valid=x_train[:6000]/255"
      ],
      "execution_count": 0,
      "outputs": []
    },
    {
      "cell_type": "code",
      "metadata": {
        "id": "TNZMa_kqr5ac",
        "colab_type": "code",
        "colab": {}
      },
      "source": [
        "y_valid=y_train[:6000]"
      ],
      "execution_count": 0,
      "outputs": []
    },
    {
      "cell_type": "code",
      "metadata": {
        "id": "I1cWCZxB2__k",
        "colab_type": "code",
        "colab": {}
      },
      "source": [
        "x_train_new=x_train[6000:]/255"
      ],
      "execution_count": 0,
      "outputs": []
    },
    {
      "cell_type": "code",
      "metadata": {
        "id": "Vj8OeCuc1tIu",
        "colab_type": "code",
        "colab": {}
      },
      "source": [
        "y_train_new=y_train[6000:]"
      ],
      "execution_count": 0,
      "outputs": []
    },
    {
      "cell_type": "code",
      "metadata": {
        "id": "I603jKxR89Hp",
        "colab_type": "code",
        "colab": {}
      },
      "source": [
        "y_train_new = to_categorical(y_train_new, 10)\n",
        "y_valid=to_categorical(y_valid,10)\n",
        "y_test = to_categorical(y_test, 10)"
      ],
      "execution_count": 0,
      "outputs": []
    },
    {
      "cell_type": "code",
      "metadata": {
        "colab_type": "code",
        "id": "mBX6KBzKNJca",
        "colab": {}
      },
      "source": [
        "x_train_new=x_train_new.reshape(54000,28,28,1)"
      ],
      "execution_count": 0,
      "outputs": []
    },
    {
      "cell_type": "code",
      "metadata": {
        "colab_type": "code",
        "id": "VxJEx_zrNJcd",
        "colab": {}
      },
      "source": [
        "x_test_new=x_test.reshape(10000,28,28,1)/255"
      ],
      "execution_count": 0,
      "outputs": []
    },
    {
      "cell_type": "code",
      "metadata": {
        "id": "E4O_oHSkNVGM",
        "colab_type": "code",
        "colab": {}
      },
      "source": [
        "x_valid=x_valid.reshape(6000,28,28,1)"
      ],
      "execution_count": 0,
      "outputs": []
    },
    {
      "cell_type": "code",
      "metadata": {
        "colab_type": "code",
        "id": "eiZ2s0wjNJce",
        "colab": {}
      },
      "source": [
        "model2 = Sequential()"
      ],
      "execution_count": 0,
      "outputs": []
    },
    {
      "cell_type": "code",
      "metadata": {
        "colab_type": "code",
        "id": "63apHdG2NJcg",
        "colab": {}
      },
      "source": [
        "model2.add(Conv2D(32, (3, 3), activation='relu', kernel_initializer='he_uniform', input_shape=(28, 28, 1)))"
      ],
      "execution_count": 0,
      "outputs": []
    },
    {
      "cell_type": "code",
      "metadata": {
        "colab_type": "code",
        "id": "nnNgODZZNJch",
        "colab": {}
      },
      "source": [
        "model2.add(MaxPooling2D((2, 2)))"
      ],
      "execution_count": 0,
      "outputs": []
    },
    {
      "cell_type": "code",
      "metadata": {
        "colab_type": "code",
        "id": "FsLsjmcgNJcj",
        "colab": {}
      },
      "source": [
        "model2.add(Flatten())"
      ],
      "execution_count": 0,
      "outputs": []
    },
    {
      "cell_type": "code",
      "metadata": {
        "colab_type": "code",
        "id": "YQWEqzUqNJck",
        "colab": {}
      },
      "source": [
        "model2.add(Dense(100, activation='relu', kernel_initializer='he_uniform'))"
      ],
      "execution_count": 0,
      "outputs": []
    },
    {
      "cell_type": "code",
      "metadata": {
        "colab_type": "code",
        "id": "ctFhGfh9NJcn",
        "colab": {}
      },
      "source": [
        "model2.add(Dense(10, activation='softmax'))"
      ],
      "execution_count": 0,
      "outputs": []
    },
    {
      "cell_type": "code",
      "metadata": {
        "colab_type": "code",
        "outputId": "e903a630-daba-40df-bd6c-6c9c876030d1",
        "id": "7IFA1UW3NJcp",
        "colab": {
          "base_uri": "https://localhost:8080/",
          "height": 323
        }
      },
      "source": [
        "model2.summary()"
      ],
      "execution_count": 67,
      "outputs": [
        {
          "output_type": "stream",
          "text": [
            "Model: \"sequential_2\"\n",
            "_________________________________________________________________\n",
            "Layer (type)                 Output Shape              Param #   \n",
            "=================================================================\n",
            "conv2d_8 (Conv2D)            (None, 26, 26, 32)        320       \n",
            "_________________________________________________________________\n",
            "max_pooling2d_4 (MaxPooling2 (None, 13, 13, 32)        0         \n",
            "_________________________________________________________________\n",
            "flatten_2 (Flatten)          (None, 5408)              0         \n",
            "_________________________________________________________________\n",
            "dense_5 (Dense)              (None, 100)               540900    \n",
            "_________________________________________________________________\n",
            "dense_6 (Dense)              (None, 10)                1010      \n",
            "=================================================================\n",
            "Total params: 542,230\n",
            "Trainable params: 542,230\n",
            "Non-trainable params: 0\n",
            "_________________________________________________________________\n"
          ],
          "name": "stdout"
        }
      ]
    },
    {
      "cell_type": "code",
      "metadata": {
        "colab_type": "code",
        "id": "NpNg2p2PNJcr",
        "colab": {}
      },
      "source": [
        "\tmodel2.compile(optimizer=SGD(lr=0.1, momentum=0.9), loss='categorical_crossentropy', metrics=['accuracy'])\n"
      ],
      "execution_count": 0,
      "outputs": []
    },
    {
      "cell_type": "code",
      "metadata": {
        "id": "ouQqPP6HwCrO",
        "colab_type": "code",
        "outputId": "f0ca039d-596a-404e-f8b7-7a6b055d566f",
        "colab": {
          "base_uri": "https://localhost:8080/",
          "height": 377
        }
      },
      "source": [
        "response=model2.fit(x_train_new,y_train_new,batch_size=32,epochs=10,validation_data=(x_valid,y_valid))"
      ],
      "execution_count": 69,
      "outputs": [
        {
          "output_type": "stream",
          "text": [
            "Epoch 1/10\n",
            "1688/1688 [==============================] - 36s 21ms/step - loss: 0.5192 - accuracy: 0.8173 - val_loss: 0.4564 - val_accuracy: 0.8388\n",
            "Epoch 2/10\n",
            "1688/1688 [==============================] - 36s 22ms/step - loss: 0.3992 - accuracy: 0.8550 - val_loss: 0.4336 - val_accuracy: 0.8500\n",
            "Epoch 3/10\n",
            "1688/1688 [==============================] - 35s 21ms/step - loss: 0.3655 - accuracy: 0.8681 - val_loss: 0.4460 - val_accuracy: 0.8390\n",
            "Epoch 4/10\n",
            "1688/1688 [==============================] - 34s 20ms/step - loss: 0.3376 - accuracy: 0.8766 - val_loss: 0.3917 - val_accuracy: 0.8612\n",
            "Epoch 5/10\n",
            "1688/1688 [==============================] - 35s 21ms/step - loss: 0.3186 - accuracy: 0.8836 - val_loss: 0.3989 - val_accuracy: 0.8627\n",
            "Epoch 6/10\n",
            "1688/1688 [==============================] - 35s 21ms/step - loss: 0.3084 - accuracy: 0.8886 - val_loss: 0.4684 - val_accuracy: 0.8523\n",
            "Epoch 7/10\n",
            "1688/1688 [==============================] - 34s 20ms/step - loss: 0.3001 - accuracy: 0.8926 - val_loss: 0.4395 - val_accuracy: 0.8692\n",
            "Epoch 8/10\n",
            "1688/1688 [==============================] - 34s 20ms/step - loss: 0.2969 - accuracy: 0.8936 - val_loss: 0.4455 - val_accuracy: 0.8642\n",
            "Epoch 9/10\n",
            "1688/1688 [==============================] - 37s 22ms/step - loss: 0.2850 - accuracy: 0.8986 - val_loss: 0.5126 - val_accuracy: 0.8618\n",
            "Epoch 10/10\n",
            "1688/1688 [==============================] - 34s 20ms/step - loss: 0.2878 - accuracy: 0.9007 - val_loss: 0.5642 - val_accuracy: 0.8275\n"
          ],
          "name": "stdout"
        }
      ]
    },
    {
      "cell_type": "code",
      "metadata": {
        "colab_type": "code",
        "id": "6daGMfazNJcu",
        "colab": {}
      },
      "source": [
        "result = model2.predict_classes(x_test_new)\n"
      ],
      "execution_count": 0,
      "outputs": []
    },
    {
      "cell_type": "code",
      "metadata": {
        "colab_type": "code",
        "id": "6Bu8DUV3NJcv",
        "colab": {}
      },
      "source": [
        "def my_predict(n):\n",
        "    print('我可愛的 CNN 預測是', class_names[result[n]])\n",
        "    X = x_test[n].reshape(28,28)\n",
        "    pyplot.imshow(X, cmap='Greys')"
      ],
      "execution_count": 0,
      "outputs": []
    },
    {
      "cell_type": "code",
      "metadata": {
        "colab_type": "code",
        "id": "5G2eB6pdNJcx",
        "colab": {}
      },
      "source": [
        "from ipywidgets import interact_manual"
      ],
      "execution_count": 0,
      "outputs": []
    },
    {
      "cell_type": "code",
      "metadata": {
        "colab_type": "code",
        "outputId": "0a2ec2a2-f15d-431b-ae77-5ef8a1fe24f6",
        "id": "EbtbBHikNJcy",
        "colab": {
          "base_uri": "https://localhost:8080/",
          "height": 363,
          "referenced_widgets": [
            "e7114951983041ed9a63796137769846",
            "68df0856c8b2484d8160b33413212027",
            "0b925f18ac5b49e4855856dfbebd3e42",
            "31a7f7502d4048c786593dd77ab257f3",
            "c566f8c99fe6427b90253c3ba0926e3f",
            "9348d38b99c946a5bfed081c254d7252",
            "0923f268d2804b6aaa750b49bc06c9bb",
            "58864e4272ee4b6e8886524178cfab0c",
            "55cae164ac0048318215dd43ef3ff39b",
            "578d835ff091434ba70533a25ec0ce44"
          ]
        }
      },
      "source": [
        "interact_manual(my_predict, n=(0, 9999))"
      ],
      "execution_count": 73,
      "outputs": [
        {
          "output_type": "display_data",
          "data": {
            "application/vnd.jupyter.widget-view+json": {
              "model_id": "e7114951983041ed9a63796137769846",
              "version_minor": 0,
              "version_major": 2
            },
            "text/plain": [
              "interactive(children=(IntSlider(value=4999, description='n', max=9999), Button(description='Run Interact', sty…"
            ]
          },
          "metadata": {
            "tags": []
          }
        },
        {
          "output_type": "execute_result",
          "data": {
            "text/plain": [
              "<function __main__.my_predict>"
            ]
          },
          "metadata": {
            "tags": []
          },
          "execution_count": 73
        }
      ]
    },
    {
      "cell_type": "code",
      "metadata": {
        "colab_type": "code",
        "outputId": "64a8beec-2aea-4efa-f971-0b50ad983ffe",
        "id": "hf-zKx-FNJc0",
        "colab": {
          "base_uri": "https://localhost:8080/",
          "height": 34
        }
      },
      "source": [
        "score = model2.evaluate(x_test_new, y_test)"
      ],
      "execution_count": 74,
      "outputs": [
        {
          "output_type": "stream",
          "text": [
            "313/313 [==============================] - 3s 8ms/step - loss: 0.5389 - accuracy: 0.8265\n"
          ],
          "name": "stdout"
        }
      ]
    },
    {
      "cell_type": "code",
      "metadata": {
        "colab_type": "code",
        "outputId": "00c5356e-f2de-42be-e413-d78bf9f77715",
        "id": "Ij0LD7XtNJc1",
        "colab": {
          "base_uri": "https://localhost:8080/",
          "height": 296
        }
      },
      "source": [
        "pyplot.plot(response.history['accuracy'], label='accuracy')\n",
        "pyplot.plot(response.history['val_accuracy'], label = 'val_accuracy')\n",
        "pyplot.xlabel('Epoch')\n",
        "pyplot.ylabel('Accuracy')\n",
        "pyplot.legend(loc='lower right')"
      ],
      "execution_count": 75,
      "outputs": [
        {
          "output_type": "execute_result",
          "data": {
            "text/plain": [
              "<matplotlib.legend.Legend at 0x7fa80c13f128>"
            ]
          },
          "metadata": {
            "tags": []
          },
          "execution_count": 75
        },
        {
          "output_type": "display_data",
          "data": {
            "image/png": "[encoded data removed]",
            "text/plain": [
              "<Figure size 432x288 with 1 Axes>"
            ]
          },
          "metadata": {
            "tags": [],
            "needs_background": "light"
          }
        }
      ]
    },
    {
      "cell_type": "code",
      "metadata": {
        "colab_type": "code",
        "outputId": "09901ec0-25b7-4e2e-d487-e891051097e3",
        "id": "IKpm83uENJc2",
        "colab": {
          "base_uri": "https://localhost:8080/",
          "height": 296
        }
      },
      "source": [
        "pyplot.plot(response.history['loss'], label='loss')\n",
        "pyplot.plot(response.history['val_loss'], label = 'val_loss')\n",
        "pyplot.xlabel('Epoch')\n",
        "pyplot.ylabel('loss')\n",
        "pyplot.legend(loc='upper right')"
      ],
      "execution_count": 76,
      "outputs": [
        {
          "output_type": "execute_result",
          "data": {
            "text/plain": [
              "<matplotlib.legend.Legend at 0x7fa815098748>"
            ]
          },
          "metadata": {
            "tags": []
          },
          "execution_count": 76
        },
        {
          "output_type": "display_data",
          "data": {
            "image/png": "[encoded data removed]",
            "text/plain": [
              "<Figure size 432x288 with 1 Axes>"
            ]
          },
          "metadata": {
            "tags": [],
            "needs_background": "light"
          }
        }
      ]
    },
    {
      "cell_type": "markdown",
      "metadata": {
        "id": "JoC_VwHZe2rS",
        "colab_type": "text"
      },
      "source": [
        "##**結果顯示，相較於上個模型，這次模型出現更大幅度overfitting的情況QQ**\n",
        "#**Train accuracy:90%**\n",
        "#**Val accurary:83%**\n",
        "#**Test accuracy:83%**"
      ]
    },
    {
      "cell_type": "markdown",
      "metadata": {
        "id": "cTIvVOOhOwm4",
        "colab_type": "text"
      },
      "source": [
        "#**嘗試三** （相較於嘗試二）\n",
        "##1. 改變optimizers（從SGD換成Adam)\n",
        "adam為目前常使用的optimizer之一，能使學習率有個固定範圍，讓參數更新較平穩\n",
        "##2. 改變layers層數\n",
        "更改地方：使用7層convolution layers,3層maxpooling,3層dense\n",
        "##3. 改變batch size和epochs（只是想訓練快一點XDD）\n",
        "batch=512\n",
        "epochs=20\n",
        "##4. learning rate維持與嘗試二雷同"
      ]
    },
    {
      "cell_type": "code",
      "metadata": {
        "colab_type": "code",
        "id": "ypnTj9bPRdeE",
        "colab": {}
      },
      "source": [
        "(x_train,y_train),(x_test,y_test)=fashion_mnist.load_data()\n"
      ],
      "execution_count": 0,
      "outputs": []
    },
    {
      "cell_type": "code",
      "metadata": {
        "colab_type": "code",
        "id": "djS0hBlwRdeG",
        "colab": {}
      },
      "source": [
        "x_valid=x_train[:6000]/255"
      ],
      "execution_count": 0,
      "outputs": []
    },
    {
      "cell_type": "code",
      "metadata": {
        "colab_type": "code",
        "id": "QbiCBFLwRdeJ",
        "colab": {}
      },
      "source": [
        "y_valid=y_train[:6000]"
      ],
      "execution_count": 0,
      "outputs": []
    },
    {
      "cell_type": "code",
      "metadata": {
        "colab_type": "code",
        "id": "ZrARRKDLRdeL",
        "colab": {}
      },
      "source": [
        "x_train_new=x_train[6000:]/255"
      ],
      "execution_count": 0,
      "outputs": []
    },
    {
      "cell_type": "code",
      "metadata": {
        "colab_type": "code",
        "id": "yq0Kz5XXRdeN",
        "colab": {}
      },
      "source": [
        "y_train_new=y_train[6000:]"
      ],
      "execution_count": 0,
      "outputs": []
    },
    {
      "cell_type": "code",
      "metadata": {
        "colab_type": "code",
        "id": "v7gRDetuRdeO",
        "colab": {}
      },
      "source": [
        "y_train_new = to_categorical(y_train_new, 10)\n",
        "y_valid=to_categorical(y_valid,10)\n",
        "y_test = to_categorical(y_test, 10)"
      ],
      "execution_count": 0,
      "outputs": []
    },
    {
      "cell_type": "code",
      "metadata": {
        "colab_type": "code",
        "id": "EEZZhjE8RdeQ",
        "colab": {}
      },
      "source": [
        "x_train_new=x_train_new.reshape(54000,28,28,1)"
      ],
      "execution_count": 0,
      "outputs": []
    },
    {
      "cell_type": "code",
      "metadata": {
        "colab_type": "code",
        "id": "GSumS0gqRdeR",
        "colab": {}
      },
      "source": [
        "x_test_new=x_test.reshape(10000,28,28,1)/255"
      ],
      "execution_count": 0,
      "outputs": []
    },
    {
      "cell_type": "code",
      "metadata": {
        "colab_type": "code",
        "id": "PGU02RiZRdeS",
        "colab": {}
      },
      "source": [
        "x_valid=x_valid.reshape(6000,28,28,1)"
      ],
      "execution_count": 0,
      "outputs": []
    },
    {
      "cell_type": "code",
      "metadata": {
        "colab_type": "code",
        "id": "lFyip8dfRpUH",
        "colab": {}
      },
      "source": [
        "model3 = Sequential([Conv2D(32, (7, 7), activation='relu', kernel_initializer='he_uniform',padding='same' ,input_shape=(28, 28, 1)),\n",
        "                     MaxPooling2D((2, 2)),\n",
        "                     Conv2D(64, (3, 3), activation='relu', kernel_initializer='he_uniform',padding='same'),\n",
        "                     Conv2D(64, (3, 3), activation='relu', kernel_initializer='he_uniform',padding='same'),\n",
        "                     MaxPooling2D((2, 2)),\n",
        "                     Flatten(),\n",
        "                     Dense(128,activation='relu'),\n",
        "                     Dropout(0.5),\n",
        "                     Dense(64,activation='relu'),\n",
        "                     Dropout(0.5),\n",
        "                     Dense(10,activation='softmax')\n",
        "                     ])"
      ],
      "execution_count": 0,
      "outputs": []
    },
    {
      "cell_type": "code",
      "metadata": {
        "colab_type": "code",
        "outputId": "6d2292e8-4b79-4ca0-a356-096bd889ce3a",
        "id": "MhNa7JdaRpUS",
        "colab": {
          "base_uri": "https://localhost:8080/",
          "height": 527
        }
      },
      "source": [
        "model3.summary()"
      ],
      "execution_count": 113,
      "outputs": [
        {
          "output_type": "stream",
          "text": [
            "Model: \"sequential_7\"\n",
            "_________________________________________________________________\n",
            "Layer (type)                 Output Shape              Param #   \n",
            "=================================================================\n",
            "conv2d_29 (Conv2D)           (None, 28, 28, 32)        1600      \n",
            "_________________________________________________________________\n",
            "max_pooling2d_15 (MaxPooling (None, 14, 14, 32)        0         \n",
            "_________________________________________________________________\n",
            "conv2d_30 (Conv2D)           (None, 14, 14, 64)        18496     \n",
            "_________________________________________________________________\n",
            "conv2d_31 (Conv2D)           (None, 14, 14, 64)        36928     \n",
            "_________________________________________________________________\n",
            "max_pooling2d_16 (MaxPooling (None, 7, 7, 64)          0         \n",
            "_________________________________________________________________\n",
            "flatten_7 (Flatten)          (None, 3136)              0         \n",
            "_________________________________________________________________\n",
            "dense_19 (Dense)             (None, 128)               401536    \n",
            "_________________________________________________________________\n",
            "dropout_10 (Dropout)         (None, 128)               0         \n",
            "_________________________________________________________________\n",
            "dense_20 (Dense)             (None, 64)                8256      \n",
            "_________________________________________________________________\n",
            "dropout_11 (Dropout)         (None, 64)                0         \n",
            "_________________________________________________________________\n",
            "dense_21 (Dense)             (None, 10)                650       \n",
            "=================================================================\n",
            "Total params: 467,466\n",
            "Trainable params: 467,466\n",
            "Non-trainable params: 0\n",
            "_________________________________________________________________\n"
          ],
          "name": "stdout"
        }
      ]
    },
    {
      "cell_type": "code",
      "metadata": {
        "colab_type": "code",
        "id": "Ag8GFpBKRpUT",
        "colab": {}
      },
      "source": [
        "\tmodel3.compile(optimizer=Adam(lr=0.01), loss='categorical_crossentropy', metrics=['accuracy'])\n"
      ],
      "execution_count": 0,
      "outputs": []
    },
    {
      "cell_type": "code",
      "metadata": {
        "colab_type": "code",
        "id": "wBg44W7eRpUU",
        "colab": {
          "base_uri": "https://localhost:8080/",
          "height": 207
        },
        "outputId": "8daed628-b18b-4e2e-ba8c-219f87e74d02"
      },
      "source": [
        "response=model3.fit(x_train_new,y_train_new,batch_size=512,epochs=5,validation_data=(x_valid,y_valid))"
      ],
      "execution_count": 116,
      "outputs": [
        {
          "output_type": "stream",
          "text": [
            "Epoch 1/5\n",
            "106/106 [==============================] - 139s 1s/step - loss: 0.5273 - accuracy: 0.8150 - val_loss: 0.3605 - val_accuracy: 0.8682\n",
            "Epoch 2/5\n",
            "106/106 [==============================] - 142s 1s/step - loss: 0.4766 - accuracy: 0.8354 - val_loss: 0.3515 - val_accuracy: 0.8692\n",
            "Epoch 3/5\n",
            "106/106 [==============================] - 139s 1s/step - loss: 0.4462 - accuracy: 0.8437 - val_loss: 0.3301 - val_accuracy: 0.8783\n",
            "Epoch 4/5\n",
            "106/106 [==============================] - 138s 1s/step - loss: 0.4252 - accuracy: 0.8524 - val_loss: 0.3282 - val_accuracy: 0.8785\n",
            "Epoch 5/5\n",
            "106/106 [==============================] - 138s 1s/step - loss: 0.4231 - accuracy: 0.8550 - val_loss: 0.3132 - val_accuracy: 0.8872\n"
          ],
          "name": "stdout"
        }
      ]
    },
    {
      "cell_type": "code",
      "metadata": {
        "colab_type": "code",
        "id": "82p2gf0tRpUW",
        "colab": {}
      },
      "source": [
        "result = model3.predict_classes(x_test_new)\n"
      ],
      "execution_count": 0,
      "outputs": []
    },
    {
      "cell_type": "code",
      "metadata": {
        "colab_type": "code",
        "id": "Uh7UYglpRpUX",
        "colab": {}
      },
      "source": [
        "def my_predict(n):\n",
        "    print('我可愛的 CNN 預測是', class_names[result[n]])\n",
        "    X = x_test[n].reshape(28,28)\n",
        "    pyplot.imshow(X, cmap='Greys')"
      ],
      "execution_count": 0,
      "outputs": []
    },
    {
      "cell_type": "code",
      "metadata": {
        "colab_type": "code",
        "id": "TLnxM4-wRpUZ",
        "colab": {}
      },
      "source": [
        "from ipywidgets import interact_manual"
      ],
      "execution_count": 0,
      "outputs": []
    },
    {
      "cell_type": "code",
      "metadata": {
        "colab_type": "code",
        "outputId": "33001aa0-1214-4396-d958-ae561aafb3e5",
        "id": "hveXJKIjRpUa",
        "colab": {
          "base_uri": "https://localhost:8080/",
          "height": 363,
          "referenced_widgets": [
            "16cb0b43118a41aba2d1bb1a3c9ed593",
            "ec381bf6b64f440cbf03ed60dc817c76",
            "197cd51807ee4d0189057f7b71668b89",
            "69da039fef1b41858f60e9bc77388ec9",
            "47ca79f53a7445e38a9a4689c8710739",
            "495fc58a4a7449c3ae6f613144ca4be0",
            "8d338ca1283640938ddcb2b4575dc9c0",
            "78fbc8591d824b808ffb271942c314bc",
            "252d3cc1d8d24b0f95bc1a277b3d666c",
            "8749bc724cf04b0f9cdd9f4860612e60"
          ]
        }
      },
      "source": [
        "interact_manual(my_predict, n=(0, 9999))"
      ],
      "execution_count": 120,
      "outputs": [
        {
          "output_type": "display_data",
          "data": {
            "application/vnd.jupyter.widget-view+json": {
              "model_id": "16cb0b43118a41aba2d1bb1a3c9ed593",
              "version_minor": 0,
              "version_major": 2
            },
            "text/plain": [
              "interactive(children=(IntSlider(value=4999, description='n', max=9999), Button(description='Run Interact', sty…"
            ]
          },
          "metadata": {
            "tags": []
          }
        },
        {
          "output_type": "execute_result",
          "data": {
            "text/plain": [
              "<function __main__.my_predict>"
            ]
          },
          "metadata": {
            "tags": []
          },
          "execution_count": 120
        }
      ]
    },
    {
      "cell_type": "code",
      "metadata": {
        "colab_type": "code",
        "outputId": "29cd4b77-2bf9-402c-ab55-78a64de91e09",
        "id": "AqkaCEOIRpUb",
        "colab": {
          "base_uri": "https://localhost:8080/",
          "height": 34
        }
      },
      "source": [
        "score = model2.evaluate(x_test_new, y_test)"
      ],
      "execution_count": 121,
      "outputs": [
        {
          "output_type": "stream",
          "text": [
            "313/313 [==============================] - 2s 8ms/step - loss: 0.5389 - accuracy: 0.8265\n"
          ],
          "name": "stdout"
        }
      ]
    },
    {
      "cell_type": "code",
      "metadata": {
        "colab_type": "code",
        "outputId": "881ffa47-125c-4c62-b57f-bf43224e5bb1",
        "id": "XwMFWF81RpUd",
        "colab": {
          "base_uri": "https://localhost:8080/",
          "height": 298
        }
      },
      "source": [
        "pyplot.plot(response.history['accuracy'], label='accuracy')\n",
        "pyplot.plot(response.history['val_accuracy'], label = 'val_accuracy')\n",
        "pyplot.xlabel('Epoch')\n",
        "pyplot.ylabel('Accuracy')\n",
        "pyplot.legend(loc='lower right')"
      ],
      "execution_count": 122,
      "outputs": [
        {
          "output_type": "execute_result",
          "data": {
            "text/plain": [
              "<matplotlib.legend.Legend at 0x7fa80d16d940>"
            ]
          },
          "metadata": {
            "tags": []
          },
          "execution_count": 122
        },
        {
          "output_type": "display_data",
          "data": {
            "image/png": "[encoded data removed]",
            "text/plain": [
              "<Figure size 432x288 with 1 Axes>"
            ]
          },
          "metadata": {
            "tags": [],
            "needs_background": "light"
          }
        }
      ]
    },
    {
      "cell_type": "code",
      "metadata": {
        "colab_type": "code",
        "outputId": "e83f9207-dbc0-4d9c-8d24-bc0dd8e9bb37",
        "id": "j3Z6k2LgRpUg",
        "colab": {
          "base_uri": "https://localhost:8080/",
          "height": 296
        }
      },
      "source": [
        "pyplot.plot(response.history['loss'], label='loss')\n",
        "pyplot.plot(response.history['val_loss'], label = 'val_loss')\n",
        "pyplot.xlabel('Epoch')\n",
        "pyplot.ylabel('loss')\n",
        "pyplot.legend(loc='upper right')"
      ],
      "execution_count": 123,
      "outputs": [
        {
          "output_type": "execute_result",
          "data": {
            "text/plain": [
              "<matplotlib.legend.Legend at 0x7fa80c38c240>"
            ]
          },
          "metadata": {
            "tags": []
          },
          "execution_count": 123
        },
        {
          "output_type": "display_data",
          "data": {
            "image/png": "[encoded data removed]",
            "text/plain": [
              "<Figure size 432x288 with 1 Axes>"
            ]
          },
          "metadata": {
            "tags": [],
            "needs_background": "light"
          }
        }
      ]
    },
    {
      "cell_type": "markdown",
      "metadata": {
        "id": "qlNHqZIlnu6S",
        "colab_type": "text"
      },
      "source": [
        "# **結果顯示，也有overfitting的情況**\n",
        "##**Train accuracy:85%**\n",
        "##**validation accuracy:89%**\n",
        "##**test accuracy: 82%**"
      ]
    },
    {
      "cell_type": "markdown",
      "metadata": {
        "id": "vDKeQnkDoSU4",
        "colab_type": "text"
      },
      "source": [
        "# **總結：應該是嘗試一（模型一）具有最好的預測能力**"
      ]
    }
  ]
}