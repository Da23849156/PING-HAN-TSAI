{
 "cells": [
  {
   "cell_type": "code",
   "execution_count": 158,
   "metadata": {},
   "outputs": [],
   "source": [
    "s=0 #建立變數s，將0指派進去\n",
    "ans=[] #將[]指派為ans\n",
    "haha=[] #空集合，之後放選項標題\n",
    "pp=[] #空集合，之後放選項內容\n",
    "nunu=[] #空集合，之後放該題為非選還是單選\n",
    "high=[] #空集合，之後放問題"
   ]
  },
  {
   "cell_type": "code",
   "execution_count": 159,
   "metadata": {},
   "outputs": [],
   "source": [
    "def make(s):\n",
    "    while True:\n",
    "        number=input('您是否要建立新題目，是=1，否=2：') #受試者輸入是否要建立新題目\n",
    "        if number=='1': #如果是，判斷number是否為字串1\n",
    "            s+=1 #將s=s+1\n",
    "            while True:\n",
    "                hey=input('請問第{}題問題為何:'.format(s)) #請受試者輸入問題，並指派為變數hey\n",
    "                if hey!='':\n",
    "                    high.append(hey) #將hey加到high的list\n",
    "                    how(s)\n",
    "                    break\n",
    "                else:\n",
    "                    print('請輸入問題')\n",
    "                                        \n",
    "        elif number=='2': #如果是，判斷number是否為字串2\n",
    "                print('感謝你') #印出感謝你\n",
    "                break #跳出迴圈\n",
    "        else: #number為其他情況\n",
    "                print('輸入錯誤') #印出錯誤"
   ]
  },
  {
   "cell_type": "code",
   "execution_count": 160,
   "metadata": {},
   "outputs": [],
   "source": [
    "def how(s): #自訂函式how\n",
    "        global nunu,high,haha#宣告nunu,high,haha為全域變數\n",
    "        print('你的第',s,'題為'+high[s-1]) #印出題目敘述\n",
    "        while True: #建立迴圈\n",
    "                y=input('請輸入你想要的問題格式\\n1.非選\\n2.單選:') #請受試者輸入想要的問題格式,將輸入反應指派為y\n",
    "                try: #檢測錯誤\n",
    "                        if int(y)<3: #如果y整數型小3\n",
    "                            nunu.append(y) #將y加到nunu的list\n",
    "                            structure(y) #並執行structure程式\n",
    "                            form(pp,y) #再來執行form程式\n",
    "                            break  #跳出迴圈\n",
    "                except: #例外事件\n",
    "                        print('輸入錯誤') #印出輸入錯誤\n",
    "                        \n"
   ]
  },
  {
   "cell_type": "code",
   "execution_count": 161,
   "metadata": {},
   "outputs": [],
   "source": [
    "def structure(y): #自訂函數structure\n",
    "        if y=='1': #判斷y是否為字串1\n",
    "                check1()\n",
    "        else: #判斷y是否為字串2\n",
    "                check1()\n"
   ]
  },
  {
   "cell_type": "code",
   "execution_count": 162,
   "metadata": {},
   "outputs": [],
   "source": [
    "def check1():\n",
    "        global haha\n",
    "        while True: \n",
    "                o=input('請輸入問題標題：') #請受試者輸入標題並指派為o\n",
    "                if o!='':\n",
    "                        haha.append(o) #將o指派為haha中index為x-1的位置\n",
    "                        break\n",
    "                else:\n",
    "                        print('標題不能為空的')"
   ]
  },
  {
   "cell_type": "code",
   "execution_count": 163,
   "metadata": {},
   "outputs": [],
   "source": [
    "def form(pp,y): #自訂函式y\n",
    "        if y=='1':  #判斷y是否為字串1\n",
    "                pp.append([])#請受試者將[]加到pp的list\n",
    "        else:  #判斷y是否為字串2\n",
    "                ss() #執行自訂函式ss"
   ]
  },
  {
   "cell_type": "code",
   "execution_count": 164,
   "metadata": {},
   "outputs": [],
   "source": [
    "def ss():  #自定函式ss\n",
    "        qq=[] #建立qq空集合\n",
    "        a=0 #建立為0的變數a\n",
    "        while True: #建立迴圈\n",
    "                a1=input('請輸入第{}個選項為何'.format(a+1)+'(若輸入end則停止建立選項)：') #請受試者輸入問題選項，並將輸入反應指派為a1\n",
    "                if a1=='end'and qq==[]: #如果k為end\n",
    "                        print('一定要建立選項喔！')\n",
    "                elif a1=='end': #如果k為end\n",
    "                        pp.append(qq) #則將qq加到pp的list\n",
    "                        break #跳出迴圈\n",
    "                else: #其他情況\n",
    "                        if a1!='':\n",
    "                                qq.append(a1) #將k加到qq的list\n",
    "                                a+=1 #並讓a=a+1\n",
    "                        else:\n",
    "                                print('選項不能為空')"
   ]
  },
  {
   "cell_type": "code",
   "execution_count": 167,
   "metadata": {},
   "outputs": [],
   "source": [
    "def prr(s):#自訂函式\n",
    "        print('\\n'*5) #印出5個空行\n",
    "        print('以下為您所製作的問卷\\n\\n') #印出文字\n",
    "        print('='*50) #印出等號\n",
    "        print('-'*50) #印出-\n",
    "        print(na\n",
    "              .center(50,' ')) #將na置中\n",
    "        print('-'*50) #印出-\n",
    "        for i in range(len(haha)): #建立for迴圈，並建立0-s的數值列表，當作迴圈執行的次數\n",
    "                print('第{}題'.format(i+1)+high[i]) #印出index為i的high list 的值\n",
    "                if pp[i]==[]: #如果index為i的pp list 的值是空集合\n",
    "                        print(haha[i]+':'+'_'*30) #印出index為i的haha list的值\n",
    "                        print() #印出一個空行\n",
    "                else:\n",
    "                        print(haha[i])#其他情況\n",
    "                        for p in range(len(pp[i])): #根據index為i的pp list的值的長度建立數值列表，來當作迴圈執行的次數\n",
    "                                print('\\t'+pp[i][p]) #印出pp[i]中index為p的值\n",
    "                        print() #印出空行\n",
    "        print('='*50) #印出50等號"
   ]
  },
  {
   "cell_type": "markdown",
   "metadata": {},
   "source": [
    "##執行程式"
   ]
  },
  {
   "cell_type": "code",
   "execution_count": 166,
   "metadata": {
    "scrolled": true
   },
   "outputs": [
    {
     "name": "stdout",
     "output_type": "stream",
     "text": [
      "請輸入問卷的名字：今天你想吃什麼\n",
      "您是否要建立新題目，是=1，否=2：1\n",
      "請問第1題問題為何:您的姓名？\n",
      "你的第 1 題為您的姓名？\n",
      "請輸入你想要的問題格式\n",
      "1.非選\n",
      "2.單選:1\n",
      "請輸入問題標題：請輸入你的姓名\n",
      "您是否要建立新題目，是=1，否=2：1\n",
      "請問第2題問題為何:你想吃什麼？\n",
      "你的第 2 題為你想吃什麼？\n",
      "請輸入你想要的問題格式\n",
      "1.非選\n",
      "2.單選:2\n",
      "請輸入問題標題：請選擇你想吃的餐廳\n",
      "請輸入第1個選項為何(若輸入end則停止建立選項)：My麵屋\n",
      "請輸入第2個選項為何(若輸入end則停止建立選項)：波波恰恰\n",
      "請輸入第3個選項為何(若輸入end則停止建立選項)：楊記小吃\n",
      "請輸入第4個選項為何(若輸入end則停止建立選項)：悅來\n",
      "請輸入第5個選項為何(若輸入end則停止建立選項)：end\n",
      "您是否要建立新題目，是=1，否=2：2\n",
      "感謝你\n",
      "\n",
      "\n",
      "\n",
      "\n",
      "\n",
      "\n",
      "以下為您所製作的問卷\n",
      "\n",
      "\n",
      "==================================================\n",
      "--------------------------------------------------\n",
      "                     今天你想吃什麼                      \n",
      "--------------------------------------------------\n",
      "第1題您的姓名？\n",
      "請輸入你的姓名:______________________________\n",
      "\n",
      "第2題你想吃什麼？\n",
      "請選擇你想吃的餐廳\n",
      "\tMy麵屋\n",
      "\t波波恰恰\n",
      "\t楊記小吃\n",
      "\t悅來\n",
      "\n",
      "==================================================\n"
     ]
    }
   ],
   "source": [
    "while True:\n",
    "        na=input('請輸入問卷的名字：') #輸入問卷名，並將輸入結果指派為na\n",
    "        if na!='':\n",
    "                number=make(s) #執行自訂函式make(s)\n",
    "                break\n",
    "        else:\n",
    "                print('請輸入問卷名')\n",
    "                \n",
    "prr(s)"
   ]
  }
 ],
 "metadata": {
  "kernelspec": {
   "display_name": "Python 3",
   "language": "python",
   "name": "python3"
  },
  "language_info": {
   "codemirror_mode": {
    "name": "ipython",
    "version": 3
   },
   "file_extension": ".py",
   "mimetype": "text/x-python",
   "name": "python",
   "nbconvert_exporter": "python",
   "pygments_lexer": "ipython3",
   "version": "3.7.4"
  }
 },
 "nbformat": 4,
 "nbformat_minor": 2
}
