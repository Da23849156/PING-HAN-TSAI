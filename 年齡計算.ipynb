{
 "cells": [
  {
   "cell_type": "code",
   "execution_count": 5,
   "metadata": {},
   "outputs": [
    {
     "name": "stdout",
     "output_type": "stream",
     "text": [
      "請輸入你的姓名蔡秉翰\n",
      "請輸入你的出生年份1999\n",
      "請輸入你的出生月份07\n",
      "請輸入你的出生日期06\n",
      "你的年齡為 20 歲\n"
     ]
    }
   ],
   "source": [
    "import datetime\n",
    " \n",
    "def calculate_age(born):\n",
    "     today = datetime.date.today()\n",
    "     return today.year - born.year - ((today.month, today.day) < (born.month, born.day))\n",
    "\n",
    "a=input('請輸入你的姓名')\n",
    "b=int(input('請輸入你的出生年份'))\n",
    "c=int(input('請輸入你的出生月份'))\n",
    "d=int(input('請輸入你的出生日期'))\n",
    "birth = datetime.date(b,c,d)\n",
    " \n",
    "age=calculate_age(birth)\n",
    "print(\"你的年齡為\",age,\"歲\")"
   ]
  },
  {
   "cell_type": "code",
   "execution_count": null,
   "metadata": {},
   "outputs": [],
   "source": []
  }
 ],
 "metadata": {
  "kernelspec": {
   "display_name": "Python 3",
   "language": "python",
   "name": "python3"
  },
  "language_info": {
   "codemirror_mode": {
    "name": "ipython",
    "version": 3
   },
   "file_extension": ".py",
   "mimetype": "text/x-python",
   "name": "python",
   "nbconvert_exporter": "python",
   "pygments_lexer": "ipython3",
   "version": "3.7.4"
  }
 },
 "nbformat": 4,
 "nbformat_minor": 2
}
