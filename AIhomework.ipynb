{
  "nbformat": 4,
  "nbformat_minor": 0,
  "metadata": {
    "colab": {
      "name": "homework.ipynb",
      "provenance": [],
      "collapsed_sections": [],
      "authorship_tag": "ABX9TyMDS0xPhNsST6i5NlaNEDh4",
      "include_colab_link": true
    },
    "kernelspec": {
      "name": "python3",
      "display_name": "Python 3"
    },
    "accelerator": "GPU"
  },
  "cells": [
    {
      "cell_type": "markdown",
      "metadata": {
        "id": "view-in-github",
        "colab_type": "text"
      },
      "source": [
        "<a href=\"https://colab.research.google.com/github/Da23849156/PING-HAN-TSAI/blob/master/AIhomework.ipynb\" target=\"_parent\"><img src=\"https://colab.research.google.com/assets/colab-badge.svg\" alt=\"Open In Colab\"/></a>"
      ]
    },
    {
      "cell_type": "code",
      "metadata": {
        "id": "ArjkdMbecCoG",
        "colab_type": "code",
        "colab": {}
      },
      "source": [
        "%tensorflow_version 2.x"
      ],
      "execution_count": 0,
      "outputs": []
    },
    {
      "cell_type": "code",
      "metadata": {
        "id": "PCV89kwjjEnT",
        "colab_type": "code",
        "colab": {}
      },
      "source": [
        "import numpy as np\n",
        "import matplotlib.pyplot as plt"
      ],
      "execution_count": 0,
      "outputs": []
    },
    {
      "cell_type": "code",
      "metadata": {
        "id": "fG-LT_ojjE_n",
        "colab_type": "code",
        "colab": {}
      },
      "source": [
        "import tensorflow as tf"
      ],
      "execution_count": 0,
      "outputs": []
    },
    {
      "cell_type": "code",
      "metadata": {
        "id": "KncKjeRCjHCP",
        "colab_type": "code",
        "colab": {}
      },
      "source": [
        "from tensorflow.keras.datasets import fashion_mnist"
      ],
      "execution_count": 0,
      "outputs": []
    },
    {
      "cell_type": "code",
      "metadata": {
        "id": "RE6TB7ApjImG",
        "colab_type": "code",
        "colab": {}
      },
      "source": [
        "(x_train,y_train),(x_test,y_test)=fashion_mnist.load_data()"
      ],
      "execution_count": 0,
      "outputs": []
    },
    {
      "cell_type": "code",
      "metadata": {
        "id": "UPucXSJ7nCXo",
        "colab_type": "code",
        "colab": {}
      },
      "source": [
        "class_names = ['T-shirt/top', 'Trouser', 'Pullover', 'Dress', 'Coat',\n",
        "               'Sandal', 'Shirt', 'Sneaker', 'Bag', 'Ankle boot']"
      ],
      "execution_count": 0,
      "outputs": []
    },
    {
      "cell_type": "markdown",
      "metadata": {
        "id": "77Ut-5IGoqfX",
        "colab_type": "text"
      },
      "source": [
        "**資料檢視**"
      ]
    },
    {
      "cell_type": "markdown",
      "metadata": {
        "id": "vz1kDupUre9G",
        "colab_type": "text"
      },
      "source": [
        "**新增validation set**"
      ]
    },
    {
      "cell_type": "code",
      "metadata": {
        "id": "i4GE91RRreaB",
        "colab_type": "code",
        "colab": {}
      },
      "source": [
        "x_valid=x_train[:6000]/255"
      ],
      "execution_count": 0,
      "outputs": []
    },
    {
      "cell_type": "code",
      "metadata": {
        "id": "TNZMa_kqr5ac",
        "colab_type": "code",
        "colab": {}
      },
      "source": [
        "y_valid=y_train[:6000]"
      ],
      "execution_count": 0,
      "outputs": []
    },
    {
      "cell_type": "code",
      "metadata": {
        "id": "I1cWCZxB2__k",
        "colab_type": "code",
        "colab": {}
      },
      "source": [
        "x_train_new=x_train[6000:]/255"
      ],
      "execution_count": 0,
      "outputs": []
    },
    {
      "cell_type": "code",
      "metadata": {
        "id": "Vj8OeCuc1tIu",
        "colab_type": "code",
        "colab": {}
      },
      "source": [
        "y_train_new=y_train[6000:]"
      ],
      "execution_count": 0,
      "outputs": []
    },
    {
      "cell_type": "markdown",
      "metadata": {
        "id": "DLxgv6BtsGNE",
        "colab_type": "text"
      },
      "source": [
        "**建立model**"
      ]
    },
    {
      "cell_type": "code",
      "metadata": {
        "id": "ZE4kd0T6sIHK",
        "colab_type": "code",
        "colab": {}
      },
      "source": [
        "from tensorflow.keras.models import Sequential\n",
        "from tensorflow.keras.layers import Dense\n",
        "from tensorflow.keras.layers import Flatten\n",
        "from tensorflow.keras.layers import InputLayer\n",
        "from tensorflow.keras.optimizers import Adam"
      ],
      "execution_count": 0,
      "outputs": []
    },
    {
      "cell_type": "code",
      "metadata": {
        "id": "U3_8_aX-sFDc",
        "colab_type": "code",
        "colab": {}
      },
      "source": [
        "model = Sequential()"
      ],
      "execution_count": 0,
      "outputs": []
    },
    {
      "cell_type": "markdown",
      "metadata": {
        "id": "lvo18rK31EjI",
        "colab_type": "text"
      },
      "source": [
        "**新增Flatten layer，讓輸入的影像成為1D 28X28矩陣**"
      ]
    },
    {
      "cell_type": "code",
      "metadata": {
        "id": "4_3T3yDv6Vsr",
        "colab_type": "code",
        "colab": {}
      },
      "source": [
        "model.add(Flatten(input_shape=[28,28]))"
      ],
      "execution_count": 0,
      "outputs": []
    },
    {
      "cell_type": "markdown",
      "metadata": {
        "id": "TcQaVoAVJoqj",
        "colab_type": "text"
      },
      "source": [
        "**改變模型的層數跟神經元數**"
      ]
    },
    {
      "cell_type": "code",
      "metadata": {
        "id": "wOpSJsZWPfuc",
        "colab_type": "code",
        "colab": {}
      },
      "source": [
        "model.add(Dense(350,activation=\"relu\"))\n"
      ],
      "execution_count": 0,
      "outputs": []
    },
    {
      "cell_type": "code",
      "metadata": {
        "id": "RHeQvF7v8K7L",
        "colab_type": "code",
        "colab": {}
      },
      "source": [
        "model.add(Dense(120,activation='relu'))"
      ],
      "execution_count": 0,
      "outputs": []
    },
    {
      "cell_type": "code",
      "metadata": {
        "id": "z_TpPp1W8MBa",
        "colab_type": "code",
        "colab": {}
      },
      "source": [
        "model.add(Dense(10,activation='softmax'))"
      ],
      "execution_count": 0,
      "outputs": []
    },
    {
      "cell_type": "code",
      "metadata": {
        "id": "vWN_WeVIsU1j",
        "colab_type": "code",
        "outputId": "366de81d-4541-4258-e155-0deb8e35eca8",
        "colab": {
          "base_uri": "https://localhost:8080/",
          "height": 289
        }
      },
      "source": [
        "model.summary()"
      ],
      "execution_count": 0,
      "outputs": [
        {
          "output_type": "stream",
          "text": [
            "Model: \"sequential_6\"\n",
            "_________________________________________________________________\n",
            "Layer (type)                 Output Shape              Param #   \n",
            "=================================================================\n",
            "flatten_6 (Flatten)          (None, 784)               0         \n",
            "_________________________________________________________________\n",
            "dense_14 (Dense)             (None, 350)               274750    \n",
            "_________________________________________________________________\n",
            "dense_15 (Dense)             (None, 120)               42120     \n",
            "_________________________________________________________________\n",
            "dense_16 (Dense)             (None, 10)                1210      \n",
            "=================================================================\n",
            "Total params: 318,080\n",
            "Trainable params: 318,080\n",
            "Non-trainable params: 0\n",
            "_________________________________________________________________\n"
          ],
          "name": "stdout"
        }
      ]
    },
    {
      "cell_type": "markdown",
      "metadata": {
        "id": "zIfkMRUy8ewV",
        "colab_type": "text"
      },
      "source": [
        "**改變loss從mse變成sparse_categorical_crossentropy:**\n",
        "loss不採取mse而使用sparese_categorical_crossentropy。此常用於類別相關辨識。不用categorical_crossentropy主要是因為要辨識的物件不是one-hot encoded。\n",
        "\n",
        "**改變optimizer從SGD變成adam:**\n",
        "adam為目前常使用的optimizer之一，能使學習率有個固定範圍，讓參數更新較平穩\n",
        "\n",
        "**改變learning rate:**"
      ]
    },
    {
      "cell_type": "code",
      "metadata": {
        "id": "Xl2_BkxpvHw5",
        "colab_type": "code",
        "colab": {}
      },
      "source": [
        "model.compile(loss='sparse_categorical_crossentropy',\n",
        "              optimizer=\"adam\",\n",
        "              metrics=['accuracy'])"
      ],
      "execution_count": 0,
      "outputs": []
    },
    {
      "cell_type": "markdown",
      "metadata": {
        "id": "Svw0Iv75LwIp",
        "colab_type": "text"
      },
      "source": [
        "**改變batch size跟epochs且增加validation data檢驗**"
      ]
    },
    {
      "cell_type": "code",
      "metadata": {
        "id": "ouQqPP6HwCrO",
        "colab_type": "code",
        "outputId": "619aea14-5308-449d-9310-a35e95e1443a",
        "colab": {
          "base_uri": "https://localhost:8080/",
          "height": 1000
        }
      },
      "source": [
        "response=model.fit(x_train_new,y_train_new,batch_size=150,epochs=30,validation_data=(x_valid,y_valid))"
      ],
      "execution_count": 0,
      "outputs": [
        {
          "output_type": "stream",
          "text": [
            "Epoch 1/30\n",
            "360/360 [==============================] - 1s 3ms/step - loss: 0.2347 - accuracy: 0.9108 - val_loss: 0.2864 - val_accuracy: 0.8947\n",
            "Epoch 2/30\n",
            "360/360 [==============================] - 1s 3ms/step - loss: 0.2223 - accuracy: 0.9158 - val_loss: 0.2784 - val_accuracy: 0.8970\n",
            "Epoch 3/30\n",
            "360/360 [==============================] - 1s 3ms/step - loss: 0.2156 - accuracy: 0.9194 - val_loss: 0.2905 - val_accuracy: 0.8968\n",
            "Epoch 4/30\n",
            "360/360 [==============================] - 1s 3ms/step - loss: 0.2112 - accuracy: 0.9197 - val_loss: 0.2868 - val_accuracy: 0.8938\n",
            "Epoch 5/30\n",
            "360/360 [==============================] - 1s 3ms/step - loss: 0.2048 - accuracy: 0.9224 - val_loss: 0.2908 - val_accuracy: 0.8927\n",
            "Epoch 6/30\n",
            "360/360 [==============================] - 1s 2ms/step - loss: 0.1965 - accuracy: 0.9254 - val_loss: 0.3010 - val_accuracy: 0.8990\n",
            "Epoch 7/30\n",
            "360/360 [==============================] - 1s 3ms/step - loss: 0.1920 - accuracy: 0.9271 - val_loss: 0.2966 - val_accuracy: 0.8963\n",
            "Epoch 8/30\n",
            "360/360 [==============================] - 1s 2ms/step - loss: 0.1829 - accuracy: 0.9305 - val_loss: 0.3086 - val_accuracy: 0.8940\n",
            "Epoch 9/30\n",
            "360/360 [==============================] - 1s 2ms/step - loss: 0.1763 - accuracy: 0.9332 - val_loss: 0.2911 - val_accuracy: 0.9003\n",
            "Epoch 10/30\n",
            "360/360 [==============================] - 1s 3ms/step - loss: 0.1726 - accuracy: 0.9348 - val_loss: 0.3039 - val_accuracy: 0.8978\n",
            "Epoch 11/30\n",
            "360/360 [==============================] - 1s 2ms/step - loss: 0.1638 - accuracy: 0.9371 - val_loss: 0.3113 - val_accuracy: 0.8968\n",
            "Epoch 12/30\n",
            "360/360 [==============================] - 1s 2ms/step - loss: 0.1552 - accuracy: 0.9400 - val_loss: 0.3228 - val_accuracy: 0.8933\n",
            "Epoch 13/30\n",
            "360/360 [==============================] - 1s 3ms/step - loss: 0.1520 - accuracy: 0.9419 - val_loss: 0.3196 - val_accuracy: 0.8990\n",
            "Epoch 14/30\n",
            "360/360 [==============================] - 1s 2ms/step - loss: 0.1489 - accuracy: 0.9427 - val_loss: 0.3446 - val_accuracy: 0.8938\n",
            "Epoch 15/30\n",
            "360/360 [==============================] - 1s 3ms/step - loss: 0.1406 - accuracy: 0.9459 - val_loss: 0.3219 - val_accuracy: 0.8987\n",
            "Epoch 16/30\n",
            "360/360 [==============================] - 1s 3ms/step - loss: 0.1385 - accuracy: 0.9472 - val_loss: 0.3223 - val_accuracy: 0.9010\n",
            "Epoch 17/30\n",
            "360/360 [==============================] - 1s 2ms/step - loss: 0.1296 - accuracy: 0.9502 - val_loss: 0.3384 - val_accuracy: 0.8988\n",
            "Epoch 18/30\n",
            "360/360 [==============================] - 1s 2ms/step - loss: 0.1282 - accuracy: 0.9515 - val_loss: 0.3573 - val_accuracy: 0.8970\n",
            "Epoch 19/30\n",
            "360/360 [==============================] - 1s 3ms/step - loss: 0.1228 - accuracy: 0.9533 - val_loss: 0.3566 - val_accuracy: 0.8985\n",
            "Epoch 20/30\n",
            "360/360 [==============================] - 1s 3ms/step - loss: 0.1205 - accuracy: 0.9535 - val_loss: 0.3474 - val_accuracy: 0.9020\n",
            "Epoch 21/30\n",
            "360/360 [==============================] - 1s 3ms/step - loss: 0.1102 - accuracy: 0.9582 - val_loss: 0.3490 - val_accuracy: 0.9008\n",
            "Epoch 22/30\n",
            "360/360 [==============================] - 1s 3ms/step - loss: 0.1084 - accuracy: 0.9588 - val_loss: 0.3703 - val_accuracy: 0.9000\n",
            "Epoch 23/30\n",
            "360/360 [==============================] - 1s 3ms/step - loss: 0.1070 - accuracy: 0.9584 - val_loss: 0.3645 - val_accuracy: 0.9003\n",
            "Epoch 24/30\n",
            "360/360 [==============================] - 1s 3ms/step - loss: 0.1016 - accuracy: 0.9616 - val_loss: 0.4145 - val_accuracy: 0.8965\n",
            "Epoch 25/30\n",
            "360/360 [==============================] - 1s 3ms/step - loss: 0.0989 - accuracy: 0.9622 - val_loss: 0.3830 - val_accuracy: 0.8997\n",
            "Epoch 26/30\n",
            "360/360 [==============================] - 1s 3ms/step - loss: 0.0954 - accuracy: 0.9634 - val_loss: 0.4042 - val_accuracy: 0.8973\n",
            "Epoch 27/30\n",
            "360/360 [==============================] - 1s 2ms/step - loss: 0.0958 - accuracy: 0.9634 - val_loss: 0.4073 - val_accuracy: 0.8953\n",
            "Epoch 28/30\n",
            "360/360 [==============================] - 1s 3ms/step - loss: 0.0914 - accuracy: 0.9637 - val_loss: 0.4202 - val_accuracy: 0.8965\n",
            "Epoch 29/30\n",
            "360/360 [==============================] - 1s 3ms/step - loss: 0.0880 - accuracy: 0.9665 - val_loss: 0.4128 - val_accuracy: 0.8965\n",
            "Epoch 30/30\n",
            "360/360 [==============================] - 1s 2ms/step - loss: 0.0811 - accuracy: 0.9691 - val_loss: 0.4499 - val_accuracy: 0.8995\n"
          ],
          "name": "stdout"
        }
      ]
    },
    {
      "cell_type": "code",
      "metadata": {
        "id": "HmaHibUvw5ZK",
        "colab_type": "code",
        "colab": {}
      },
      "source": [
        "import pandas as pd"
      ],
      "execution_count": 0,
      "outputs": []
    },
    {
      "cell_type": "code",
      "metadata": {
        "id": "ysuRY3_wxC5T",
        "colab_type": "code",
        "outputId": "26a46bf0-35a1-47ba-b3b9-d9521e22e037",
        "colab": {
          "base_uri": "https://localhost:8080/",
          "height": 337
        }
      },
      "source": [
        "pd.DataFrame(response.history).plot(figsize=(8,5))"
      ],
      "execution_count": 0,
      "outputs": [
        {
          "output_type": "execute_result",
          "data": {
            "text/plain": [
              "<matplotlib.axes._subplots.AxesSubplot at 0x7f1d26576c18>"
            ]
          },
          "metadata": {
            "tags": []
          },
          "execution_count": 118
        },
        {
          "output_type": "display_data",
          "data": {
            "image/png": "[encoded data removed]",
            "text/plain": [
              "<Figure size 576x360 with 1 Axes>"
            ]
          },
          "metadata": {
            "tags": []
          }
        }
      ]
    },
    {
      "cell_type": "code",
      "metadata": {
        "id": "eGU17eYVxnfI",
        "colab_type": "code",
        "outputId": "c38c8d6d-4c19-46b0-9ac5-0cf7be1a0a71",
        "colab": {
          "base_uri": "https://localhost:8080/",
          "height": 51
        }
      },
      "source": [
        "model.evaluate(x_test,y_test)"
      ],
      "execution_count": 0,
      "outputs": [
        {
          "output_type": "stream",
          "text": [
            "313/313 [==============================] - 1s 2ms/step - loss: 112.5753 - accuracy: 0.8688\n"
          ],
          "name": "stdout"
        },
        {
          "output_type": "execute_result",
          "data": {
            "text/plain": [
              "[112.57525634765625, 0.8687999844551086]"
            ]
          },
          "metadata": {
            "tags": []
          },
          "execution_count": 119
        }
      ]
    },
    {
      "cell_type": "code",
      "metadata": {
        "id": "T1Ft98oJxv0p",
        "colab_type": "code",
        "outputId": "10fb816f-5799-4fab-c053-f1ffdcf91b26",
        "colab": {
          "base_uri": "https://localhost:8080/",
          "height": 34
        }
      },
      "source": [
        "result=model.predict_classes(x_test)\n",
        "result"
      ],
      "execution_count": 0,
      "outputs": [
        {
          "output_type": "execute_result",
          "data": {
            "text/plain": [
              "array([9, 2, 1, ..., 8, 1, 5])"
            ]
          },
          "metadata": {
            "tags": []
          },
          "execution_count": 120
        }
      ]
    },
    {
      "cell_type": "code",
      "metadata": {
        "id": "ETpnJhV2ybzI",
        "colab_type": "code",
        "colab": {}
      },
      "source": [
        "n=100\n",
        "print('神經網路預測是：',class_names[result[n]])\n",
        "plt.imshow(x_test[n].reshape(28,28),cmap='Greys')"
      ],
      "execution_count": 0,
      "outputs": []
    },
    {
      "cell_type": "code",
      "metadata": {
        "id": "7JFw_2WWRtqH",
        "colab_type": "code",
        "colab": {}
      },
      "source": [
        ""
      ],
      "execution_count": 0,
      "outputs": []
    }
  ]
}