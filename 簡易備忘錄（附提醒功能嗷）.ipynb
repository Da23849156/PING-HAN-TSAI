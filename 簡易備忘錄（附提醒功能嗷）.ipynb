{
 "cells": [
  {
   "cell_type": "code",
   "execution_count": 15,
   "metadata": {},
   "outputs": [],
   "source": [
    "import random\n",
    "from datetime import * \n",
    "import time\n",
    "import csv  \n",
    "import openpyxl \n",
    "from openpyxl import Workbook\n",
    "import pandas as pd"
   ]
  },
  {
   "cell_type": "code",
   "execution_count": 10,
   "metadata": {},
   "outputs": [],
   "source": [
    "a={} #先開一個字典\n",
    "\n",
    "\n",
    "filepath ='note.xlsx'  #建立表明並指派到fliepath\n",
    "wb=openpyxl.load_workbook(filepath) #獲取表名\n",
    "ws=wb.active #切換到主工作表\n",
    "max_row=ws.max_row #計算列的數量指派max_row\n",
    "max_col=4 #將4指派為max_col\n",
    "d=[] #建立d空集合\n",
    "aa=[] #建立aa空集合\n",
    "for s in range(2,max_row+1): #建立range(2,max_row+1)的數值列表，並當作迴圈的計步器，變數為s\n",
    "    for x in range(1,max_col+1):#建立range(1,max_col+1)的數值列表，並當作迴圈的計步器，變數為x\n",
    "        cell_data=ws.cell(row=s,column=x).value #將列為s行為x的cell的值放到cell_data\n",
    "        d.append(cell_data) #將cell_data加到d list中\n",
    "    a[s-1]=d #在a[s-1]的位置放入d\n",
    "    d=[] #將d變成空集合\n",
    "    aa.append(s-1) #將s-1加到aa list"
   ]
  },
  {
   "cell_type": "code",
   "execution_count": 11,
   "metadata": {},
   "outputs": [],
   "source": [
    "if aa==[]: #如果aa=[]\n",
    "    aa=[0] #建立0集合"
   ]
  },
  {
   "cell_type": "code",
   "execution_count": 21,
   "metadata": {},
   "outputs": [
    {
     "data": {
      "text/html": [
       "<div>\n",
       "<style scoped>\n",
       "    .dataframe tbody tr th:only-of-type {\n",
       "        vertical-align: middle;\n",
       "    }\n",
       "\n",
       "    .dataframe tbody tr th {\n",
       "        vertical-align: top;\n",
       "    }\n",
       "\n",
       "    .dataframe thead th {\n",
       "        text-align: right;\n",
       "    }\n",
       "</style>\n",
       "<table border=\"1\" class=\"dataframe\">\n",
       "  <thead>\n",
       "    <tr style=\"text-align: right;\">\n",
       "      <th></th>\n",
       "      <th>年份</th>\n",
       "      <th>月份</th>\n",
       "      <th>日期</th>\n",
       "      <th>備忘事項</th>\n",
       "    </tr>\n",
       "  </thead>\n",
       "  <tbody>\n",
       "    <tr>\n",
       "      <td>0</td>\n",
       "      <td>2020</td>\n",
       "      <td>3</td>\n",
       "      <td>20</td>\n",
       "      <td>2020</td>\n",
       "    </tr>\n",
       "    <tr>\n",
       "      <td>1</td>\n",
       "      <td>2020</td>\n",
       "      <td>3</td>\n",
       "      <td>11</td>\n",
       "      <td>1</td>\n",
       "    </tr>\n",
       "    <tr>\n",
       "      <td>2</td>\n",
       "      <td>2020</td>\n",
       "      <td>3</td>\n",
       "      <td>11</td>\n",
       "      <td>d</td>\n",
       "    </tr>\n",
       "    <tr>\n",
       "      <td>3</td>\n",
       "      <td>2020</td>\n",
       "      <td>3</td>\n",
       "      <td>21</td>\n",
       "      <td>我要吃飯飯</td>\n",
       "    </tr>\n",
       "  </tbody>\n",
       "</table>\n",
       "</div>"
      ],
      "text/plain": [
       "     年份  月份  日期   備忘事項\n",
       "0  2020   3  20   2020\n",
       "1  2020   3  11      1\n",
       "2  2020   3  11      d\n",
       "3  2020   3  21  我要吃飯飯"
      ]
     },
     "execution_count": 21,
     "metadata": {},
     "output_type": "execute_result"
    }
   ],
   "source": [
    "#先看備忘錄（note.xlsx）裡面有什麼東西\n",
    "df = pd.read_excel(\"note.xlsx\")\n",
    "df.head(15)"
   ]
  },
  {
   "cell_type": "code",
   "execution_count": 19,
   "metadata": {},
   "outputs": [
    {
     "name": "stdout",
     "output_type": "stream",
     "text": [
      "貼心提醒：備忘錄中的1剩下1天了喔!\n",
      "貼心提醒：備忘錄中的d剩下1天了喔!\n",
      "請輸入您要做的事，1:加入待辦事項;2:查看待辦事項;3:結束程式\n",
      "2\n",
      "您的待辦事項有: \n",
      "第1個2020/3/20:2020\n",
      "第2個2020/3/11:1\n",
      "第3個2020/3/11:d\n",
      "貼心提醒：備忘錄中的1剩下1天了喔!\n",
      "貼心提醒：備忘錄中的d剩下1天了喔!\n",
      "請輸入您要做的事，1:加入待辦事項;2:查看待辦事項;3:結束程式\n",
      "1\n",
      "請輸入新的待辦事項我要吃飯飯\n",
      "請輸入截止日期的年份2020\n",
      "以及月份3\n",
      "以及日期21\n",
      "貼心提醒：備忘錄中的1剩下1天了喔!\n",
      "貼心提醒：備忘錄中的d剩下1天了喔!\n",
      "請輸入您要做的事，1:加入待辦事項;2:查看待辦事項;3:結束程式\n",
      "2\n",
      "您的待辦事項有: \n",
      "第1個2020/3/20:2020\n",
      "第2個2020/3/11:1\n",
      "第3個2020/3/11:d\n",
      "第4個2020/3/21:我要吃飯飯\n",
      "貼心提醒：備忘錄中的1剩下1天了喔!\n",
      "貼心提醒：備忘錄中的d剩下1天了喔!\n",
      "請輸入您要做的事，1:加入待辦事項;2:查看待辦事項;3:結束程式\n",
      "3\n",
      "謝謝您使用備忘錄\n"
     ]
    }
   ],
   "source": [
    "while True:\n",
    "    for i in a.values():#這裡是算出剩餘的天數，如果少於5天就會提醒剩餘天數\n",
    "        d1=date.today()\n",
    "        d2=date(i[0],i[1],i[2])\n",
    "        if (d2-d1).days<5:\n",
    "            print('貼心提醒：備忘錄中的'+i[3]+'剩下'+str((d2-d1).days)+'天了喔!')\n",
    "    b=input('請輸入您要做的事，1:加入待辦事項;2:查看待辦事項;3:結束程式\\n')#請使用者選擇功能\n",
    "    if b=='1':\n",
    "        new=input('請輸入新的待辦事項')#輸入待辦事項\n",
    "        while True:\n",
    "            try:\n",
    "                year=int(input('請輸入截止日期的年份'))#這三行是輸入\n",
    "                month=int(input('以及月份'))\n",
    "                day=int(input('以及日期'))\n",
    "            except:\n",
    "                print('錯誤輸入')\n",
    "                \n",
    "            try:#這裡是檢查這個日期是否存在\n",
    "                date(year,month,day)\n",
    "                \n",
    "            except:\n",
    "                print('請輸入存在的日期')#不存在就跟他說請輸入存在的日期，然後就會重新執行迴圈\n",
    "            else:\n",
    "                if (date(year,month,day)-date.today()).days<0:#這裡是如果日期已過，也會重新執行迴圈\n",
    "                    print('該日期已過，請重新輸入')\n",
    "                else:#都合格的話就會跳出迴圈\n",
    "                    break\n",
    "        asd=aa[-1]+1#這裡是給編號，aa串列裡的最後一個數+1\n",
    "        a[asd]=[year,month,day,new]#這裡把字典建立成key是編號，value是一個串列，內容是年，月，日跟待辦事項\n",
    "        aa.append(asd)#把這個編號放進那個串列，下次就會取下一個數字\n",
    "    elif b=='2':\n",
    "        if len(a.keys())==0:  #如果a的key長度等於0\n",
    "            print('沒有代辦事項')#印出字\n",
    "        else:    #如果其他情況\n",
    "            print('您的待辦事項有:',end=' ') #印出你的代辦事項\n",
    "            print()\n",
    "            s=0\n",
    "            for c in a.values():#一個一個印出日期跟待辦事項\n",
    "                print('第{}個'.format(s+1)+str(c[0])+'/'+str(c[1])+'/'+str(c[2])+':'+c[3],end='\\n')\n",
    "                s+=1\n",
    "    elif b=='3':\n",
    "        wa=Workbook() #創建一個空白活頁簿物件\n",
    "        wf=wa.active #選取正在工作中的表單\n",
    "        wf.append(['年份','月份','日期','備忘事項']) #將[年份...]寫入wf.\n",
    "        for c in a.values():#一個一個印出日期跟待辦事項\n",
    "            wf.append(c)#將ans list插入工作表中\n",
    "        savename='note.xlsx' #將表名指派為savename\n",
    "        wa.save(savename) #儲存檔案\n",
    "        print('謝謝您使用備忘錄')\n",
    "        break#跳出迴圈，也就是結束程式\n",
    "    else:\n",
    "        print('請輸入有效回應')"
   ]
  },
  {
   "cell_type": "code",
   "execution_count": null,
   "metadata": {},
   "outputs": [],
   "source": [
    "#再看一ㄒㄧㄚ備忘錄（note.xlsx）裡面有什麼東西\n",
    "df = pd.read_excel(\"note.xlsx\")\n",
    "df.head(15)"
   ]
  }
 ],
 "metadata": {
  "kernelspec": {
   "display_name": "Python 3",
   "language": "python",
   "name": "python3"
  },
  "language_info": {
   "codemirror_mode": {
    "name": "ipython",
    "version": 3
   },
   "file_extension": ".py",
   "mimetype": "text/x-python",
   "name": "python",
   "nbconvert_exporter": "python",
   "pygments_lexer": "ipython3",
   "version": "3.7.4"
  }
 },
 "nbformat": 4,
 "nbformat_minor": 2
}
