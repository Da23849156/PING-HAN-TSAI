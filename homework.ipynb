{
  "nbformat": 4,
  "nbformat_minor": 0,
  "metadata": {
    "colab": {
      "name": "homework.ipynb",
      "provenance": [],
      "collapsed_sections": [],
      "authorship_tag": "ABX9TyMUt8lWse8zJay8NKAPO9ar",
      "include_colab_link": true
    },
    "kernelspec": {
      "name": "python3",
      "display_name": "Python 3"
    },
    "accelerator": "GPU"
  },
  "cells": [
    {
      "cell_type": "markdown",
      "metadata": {
        "id": "view-in-github",
        "colab_type": "text"
      },
      "source": [
        "<a href=\"https://colab.research.google.com/github/Da23849156/PING-HAN-TSAI/blob/master/homework.ipynb\" target=\"_parent\"><img src=\"https://colab.research.google.com/assets/colab-badge.svg\" alt=\"Open In Colab\"/></a>"
      ]
    },
    {
      "cell_type": "code",
      "metadata": {
        "id": "ArjkdMbecCoG",
        "colab_type": "code",
        "colab": {}
      },
      "source": [
        "%tensorflow_version 2.x"
      ],
      "execution_count": 0,
      "outputs": []
    },
    {
      "cell_type": "code",
      "metadata": {
        "id": "PCV89kwjjEnT",
        "colab_type": "code",
        "colab": {}
      },
      "source": [
        "import numpy as np\n",
        "import matplotlib.pyplot as plt"
      ],
      "execution_count": 0,
      "outputs": []
    },
    {
      "cell_type": "code",
      "metadata": {
        "id": "fG-LT_ojjE_n",
        "colab_type": "code",
        "colab": {}
      },
      "source": [
        "import tensorflow as tf"
      ],
      "execution_count": 0,
      "outputs": []
    },
    {
      "cell_type": "code",
      "metadata": {
        "id": "KncKjeRCjHCP",
        "colab_type": "code",
        "colab": {}
      },
      "source": [
        "from tensorflow.keras.datasets import fashion_mnist"
      ],
      "execution_count": 0,
      "outputs": []
    },
    {
      "cell_type": "code",
      "metadata": {
        "id": "RE6TB7ApjImG",
        "colab_type": "code",
        "colab": {}
      },
      "source": [
        "(x_train,y_train),(x_test,y_test)=fashion_mnist.load_data()"
      ],
      "execution_count": 0,
      "outputs": []
    },
    {
      "cell_type": "code",
      "metadata": {
        "id": "UPucXSJ7nCXo",
        "colab_type": "code",
        "colab": {}
      },
      "source": [
        "class_names = ['T-shirt/top', 'Trouser', 'Pullover', 'Dress', 'Coat',\n",
        "               'Sandal', 'Shirt', 'Sneaker', 'Bag', 'Ankle boot']"
      ],
      "execution_count": 0,
      "outputs": []
    },
    {
      "cell_type": "markdown",
      "metadata": {
        "id": "77Ut-5IGoqfX",
        "colab_type": "text"
      },
      "source": [
        "**資料檢視**"
      ]
    },
    {
      "cell_type": "markdown",
      "metadata": {
        "id": "vz1kDupUre9G",
        "colab_type": "text"
      },
      "source": [
        "**新增validation set**"
      ]
    },
    {
      "cell_type": "code",
      "metadata": {
        "id": "i4GE91RRreaB",
        "colab_type": "code",
        "colab": {}
      },
      "source": [
        "x_valid=x_train[:6000]/255"
      ],
      "execution_count": 0,
      "outputs": []
    },
    {
      "cell_type": "code",
      "metadata": {
        "id": "TNZMa_kqr5ac",
        "colab_type": "code",
        "colab": {}
      },
      "source": [
        "y_valid=y_train[:6000]"
      ],
      "execution_count": 0,
      "outputs": []
    },
    {
      "cell_type": "code",
      "metadata": {
        "id": "I1cWCZxB2__k",
        "colab_type": "code",
        "colab": {}
      },
      "source": [
        "x_train_new=x_train[6000:]/255"
      ],
      "execution_count": 0,
      "outputs": []
    },
    {
      "cell_type": "code",
      "metadata": {
        "id": "Vj8OeCuc1tIu",
        "colab_type": "code",
        "colab": {}
      },
      "source": [
        "y_train_new=y_train[6000:]"
      ],
      "execution_count": 0,
      "outputs": []
    },
    {
      "cell_type": "markdown",
      "metadata": {
        "id": "DLxgv6BtsGNE",
        "colab_type": "text"
      },
      "source": [
        "**建立model**"
      ]
    },
    {
      "cell_type": "code",
      "metadata": {
        "id": "ZE4kd0T6sIHK",
        "colab_type": "code",
        "colab": {}
      },
      "source": [
        "from tensorflow.keras.models import Sequential\n",
        "from tensorflow.keras.layers import Dense\n",
        "from tensorflow.keras.layers import Flatten\n",
        "from tensorflow.keras.layers import InputLayer\n",
        "from tensorflow.keras.optimizers import Adam"
      ],
      "execution_count": 0,
      "outputs": []
    },
    {
      "cell_type": "code",
      "metadata": {
        "id": "U3_8_aX-sFDc",
        "colab_type": "code",
        "colab": {}
      },
      "source": [
        "model = Sequential()"
      ],
      "execution_count": 0,
      "outputs": []
    },
    {
      "cell_type": "markdown",
      "metadata": {
        "id": "lvo18rK31EjI",
        "colab_type": "text"
      },
      "source": [
        "**新增Flatten layer，讓輸入的影像成為1D 28X28矩陣**"
      ]
    },
    {
      "cell_type": "code",
      "metadata": {
        "id": "4_3T3yDv6Vsr",
        "colab_type": "code",
        "colab": {}
      },
      "source": [
        "model.add(Flatten(input_shape=[28,28]))"
      ],
      "execution_count": 0,
      "outputs": []
    },
    {
      "cell_type": "markdown",
      "metadata": {
        "id": "TcQaVoAVJoqj",
        "colab_type": "text"
      },
      "source": [
        "**改變模型的層數跟神經元數**"
      ]
    },
    {
      "cell_type": "code",
      "metadata": {
        "id": "JxJdotRv6lBd",
        "colab_type": "code",
        "colab": {}
      },
      "source": [
        "model.add(Dense(500,activation=\"relu\"))\n"
      ],
      "execution_count": 0,
      "outputs": []
    },
    {
      "cell_type": "code",
      "metadata": {
        "id": "wOpSJsZWPfuc",
        "colab_type": "code",
        "colab": {}
      },
      "source": [
        "model.add(Dense(300,activation=\"relu\"))\n"
      ],
      "execution_count": 0,
      "outputs": []
    },
    {
      "cell_type": "code",
      "metadata": {
        "id": "RHeQvF7v8K7L",
        "colab_type": "code",
        "colab": {}
      },
      "source": [
        "model.add(Dense(100,activation='relu'))"
      ],
      "execution_count": 0,
      "outputs": []
    },
    {
      "cell_type": "code",
      "metadata": {
        "id": "z_TpPp1W8MBa",
        "colab_type": "code",
        "colab": {}
      },
      "source": [
        "model.add(Dense(10,activation='softmax'))"
      ],
      "execution_count": 0,
      "outputs": []
    },
    {
      "cell_type": "code",
      "metadata": {
        "id": "vWN_WeVIsU1j",
        "colab_type": "code",
        "outputId": "b10182ea-eb80-44d3-c745-86a964790bb0",
        "colab": {
          "base_uri": "https://localhost:8080/",
          "height": 323
        }
      },
      "source": [
        "model.summary()"
      ],
      "execution_count": 80,
      "outputs": [
        {
          "output_type": "stream",
          "text": [
            "Model: \"sequential_3\"\n",
            "_________________________________________________________________\n",
            "Layer (type)                 Output Shape              Param #   \n",
            "=================================================================\n",
            "flatten_3 (Flatten)          (None, 784)               0         \n",
            "_________________________________________________________________\n",
            "dense_7 (Dense)              (None, 500)               392500    \n",
            "_________________________________________________________________\n",
            "dense_8 (Dense)              (None, 300)               150300    \n",
            "_________________________________________________________________\n",
            "dense_9 (Dense)              (None, 100)               30100     \n",
            "_________________________________________________________________\n",
            "dense_10 (Dense)             (None, 10)                1010      \n",
            "=================================================================\n",
            "Total params: 573,910\n",
            "Trainable params: 573,910\n",
            "Non-trainable params: 0\n",
            "_________________________________________________________________\n"
          ],
          "name": "stdout"
        }
      ]
    },
    {
      "cell_type": "markdown",
      "metadata": {
        "id": "zIfkMRUy8ewV",
        "colab_type": "text"
      },
      "source": [
        "**改變loss從mse變成sparse_categorical_crossentropy:**\n",
        "loss不採取mse而使用sparese_categorical_crossentropy。此常用於類別相關辨識。不用categorical_crossentropy主要是因為要辨識的物件不是one-hot encoded。\n",
        "\n",
        "**改變optimizer從SGD變成adam:**\n",
        "adam為目前常使用的optimizer之一，能使學習率有個固定範圍，讓參數更新較平穩\n",
        "\n",
        "**改變learning rate:**"
      ]
    },
    {
      "cell_type": "code",
      "metadata": {
        "id": "Xl2_BkxpvHw5",
        "colab_type": "code",
        "colab": {}
      },
      "source": [
        "model.compile(loss='sparse_categorical_crossentropy',\n",
        "              optimizer=Adam(learning_rate=0.1),\n",
        "              metrics=['accuracy'])"
      ],
      "execution_count": 0,
      "outputs": []
    },
    {
      "cell_type": "markdown",
      "metadata": {
        "id": "Svw0Iv75LwIp",
        "colab_type": "text"
      },
      "source": [
        "**改變batch size跟epochs且增加validation data檢驗**"
      ]
    },
    {
      "cell_type": "code",
      "metadata": {
        "id": "ouQqPP6HwCrO",
        "colab_type": "code",
        "outputId": "3389664f-2414-4f4e-de6a-44c0fcfc0237",
        "colab": {
          "base_uri": "https://localhost:8080/",
          "height": 1000
        }
      },
      "source": [
        "response=model.fit(x_train_new,y_train_new,batch_size=50,epochs=30,validation_data=(x_valid,y_valid))"
      ],
      "execution_count": 82,
      "outputs": [
        {
          "output_type": "stream",
          "text": [
            "Epoch 1/30\n",
            "1080/1080 [==============================] - 2s 2ms/step - loss: 8.1004 - accuracy: 0.0987 - val_loss: 2.3044 - val_accuracy: 0.1072\n",
            "Epoch 2/30\n",
            "1080/1080 [==============================] - 2s 2ms/step - loss: 2.3129 - accuracy: 0.1020 - val_loss: 2.3164 - val_accuracy: 0.1013\n",
            "Epoch 3/30\n",
            "1080/1080 [==============================] - 2s 2ms/step - loss: 2.3127 - accuracy: 0.0963 - val_loss: 2.3077 - val_accuracy: 0.0983\n",
            "Epoch 4/30\n",
            "1080/1080 [==============================] - 2s 2ms/step - loss: 2.3136 - accuracy: 0.1013 - val_loss: 2.3169 - val_accuracy: 0.0933\n",
            "Epoch 5/30\n",
            "1080/1080 [==============================] - 2s 2ms/step - loss: 2.3125 - accuracy: 0.1012 - val_loss: 2.3073 - val_accuracy: 0.1013\n",
            "Epoch 6/30\n",
            "1080/1080 [==============================] - 2s 2ms/step - loss: 2.3126 - accuracy: 0.0999 - val_loss: 2.3104 - val_accuracy: 0.0973\n",
            "Epoch 7/30\n",
            "1080/1080 [==============================] - 2s 2ms/step - loss: 2.3134 - accuracy: 0.0985 - val_loss: 2.3140 - val_accuracy: 0.0933\n",
            "Epoch 8/30\n",
            "1080/1080 [==============================] - 2s 2ms/step - loss: 2.3125 - accuracy: 0.0979 - val_loss: 2.3108 - val_accuracy: 0.0933\n",
            "Epoch 9/30\n",
            "1080/1080 [==============================] - 2s 2ms/step - loss: 2.3120 - accuracy: 0.0993 - val_loss: 2.3166 - val_accuracy: 0.1028\n",
            "Epoch 10/30\n",
            "1080/1080 [==============================] - 2s 2ms/step - loss: 2.3129 - accuracy: 0.0987 - val_loss: 2.3148 - val_accuracy: 0.0933\n",
            "Epoch 11/30\n",
            "1080/1080 [==============================] - 2s 2ms/step - loss: 2.3133 - accuracy: 0.0998 - val_loss: 2.3066 - val_accuracy: 0.1020\n",
            "Epoch 12/30\n",
            "1080/1080 [==============================] - 2s 2ms/step - loss: 2.3123 - accuracy: 0.0987 - val_loss: 2.3227 - val_accuracy: 0.1028\n",
            "Epoch 13/30\n",
            "1080/1080 [==============================] - 2s 2ms/step - loss: 2.3123 - accuracy: 0.1017 - val_loss: 2.3068 - val_accuracy: 0.1072\n",
            "Epoch 14/30\n",
            "1080/1080 [==============================] - 2s 2ms/step - loss: 2.3122 - accuracy: 0.1000 - val_loss: 2.3236 - val_accuracy: 0.1072\n",
            "Epoch 15/30\n",
            "1080/1080 [==============================] - 2s 2ms/step - loss: 2.3126 - accuracy: 0.0988 - val_loss: 2.3107 - val_accuracy: 0.1020\n",
            "Epoch 16/30\n",
            "1080/1080 [==============================] - 2s 2ms/step - loss: 2.3126 - accuracy: 0.1016 - val_loss: 2.3355 - val_accuracy: 0.0983\n",
            "Epoch 17/30\n",
            "1080/1080 [==============================] - 2s 2ms/step - loss: 2.3129 - accuracy: 0.1003 - val_loss: 2.3116 - val_accuracy: 0.1072\n",
            "Epoch 18/30\n",
            "1080/1080 [==============================] - 2s 2ms/step - loss: 2.3128 - accuracy: 0.0986 - val_loss: 2.3095 - val_accuracy: 0.1020\n",
            "Epoch 19/30\n",
            "1080/1080 [==============================] - 2s 2ms/step - loss: 2.3132 - accuracy: 0.1000 - val_loss: 2.3169 - val_accuracy: 0.0933\n",
            "Epoch 20/30\n",
            "1080/1080 [==============================] - 2s 2ms/step - loss: 2.3125 - accuracy: 0.1023 - val_loss: 2.3122 - val_accuracy: 0.1072\n",
            "Epoch 21/30\n",
            "1080/1080 [==============================] - 2s 2ms/step - loss: 2.3121 - accuracy: 0.1011 - val_loss: 2.3069 - val_accuracy: 0.1020\n",
            "Epoch 22/30\n",
            "1080/1080 [==============================] - 2s 2ms/step - loss: 2.3123 - accuracy: 0.1000 - val_loss: 2.3135 - val_accuracy: 0.0983\n",
            "Epoch 23/30\n",
            "1080/1080 [==============================] - 2s 2ms/step - loss: 2.3128 - accuracy: 0.0991 - val_loss: 2.3155 - val_accuracy: 0.0983\n",
            "Epoch 24/30\n",
            "1080/1080 [==============================] - 2s 2ms/step - loss: 2.3125 - accuracy: 0.0990 - val_loss: 2.3150 - val_accuracy: 0.1028\n",
            "Epoch 25/30\n",
            "1080/1080 [==============================] - 2s 2ms/step - loss: 2.3129 - accuracy: 0.1027 - val_loss: 2.3076 - val_accuracy: 0.1028\n",
            "Epoch 26/30\n",
            "1080/1080 [==============================] - 2s 2ms/step - loss: 2.3134 - accuracy: 0.1006 - val_loss: 2.3156 - val_accuracy: 0.0983\n",
            "Epoch 27/30\n",
            "1080/1080 [==============================] - 2s 2ms/step - loss: 2.3129 - accuracy: 0.1006 - val_loss: 2.3092 - val_accuracy: 0.0983\n",
            "Epoch 28/30\n",
            "1080/1080 [==============================] - 2s 2ms/step - loss: 2.3135 - accuracy: 0.1014 - val_loss: 2.3077 - val_accuracy: 0.1020\n",
            "Epoch 29/30\n",
            "1080/1080 [==============================] - 2s 2ms/step - loss: 2.3127 - accuracy: 0.0987 - val_loss: 2.3128 - val_accuracy: 0.1003\n",
            "Epoch 30/30\n",
            "1080/1080 [==============================] - 2s 2ms/step - loss: 2.3130 - accuracy: 0.1008 - val_loss: 2.3139 - val_accuracy: 0.0973\n"
          ],
          "name": "stdout"
        }
      ]
    },
    {
      "cell_type": "code",
      "metadata": {
        "id": "HmaHibUvw5ZK",
        "colab_type": "code",
        "colab": {}
      },
      "source": [
        "import pandas as pd"
      ],
      "execution_count": 0,
      "outputs": []
    },
    {
      "cell_type": "code",
      "metadata": {
        "id": "ysuRY3_wxC5T",
        "colab_type": "code",
        "outputId": "a5551ca8-66d7-498b-cf0a-6f719b7f849d",
        "colab": {
          "base_uri": "https://localhost:8080/",
          "height": 337
        }
      },
      "source": [
        "pd.DataFrame(response.history).plot(figsize=(8,5))"
      ],
      "execution_count": 83,
      "outputs": [
        {
          "output_type": "execute_result",
          "data": {
            "text/plain": [
              "<matplotlib.axes._subplots.AxesSubplot at 0x7f1d2b7e3b38>"
            ]
          },
          "metadata": {
            "tags": []
          },
          "execution_count": 83
        },
        {
          "output_type": "display_data",
          "data": {
            "image/png": "[encoded data removed]",
            "text/plain": [
              "<Figure size 576x360 with 1 Axes>"
            ]
          },
          "metadata": {
            "tags": []
          }
        }
      ]
    },
    {
      "cell_type": "code",
      "metadata": {
        "id": "eGU17eYVxnfI",
        "colab_type": "code",
        "outputId": "8456ec13-503d-4fcb-c225-0a375331e5eb",
        "colab": {
          "base_uri": "https://localhost:8080/",
          "height": 51
        }
      },
      "source": [
        "model.evaluate(x_test,y_test)"
      ],
      "execution_count": 84,
      "outputs": [
        {
          "output_type": "stream",
          "text": [
            "313/313 [==============================] - 1s 2ms/step - loss: 11.6691 - accuracy: 0.1000\n"
          ],
          "name": "stdout"
        },
        {
          "output_type": "execute_result",
          "data": {
            "text/plain": [
              "[11.66913890838623, 0.10000000149011612]"
            ]
          },
          "metadata": {
            "tags": []
          },
          "execution_count": 84
        }
      ]
    },
    {
      "cell_type": "code",
      "metadata": {
        "id": "T1Ft98oJxv0p",
        "colab_type": "code",
        "outputId": "d238d6e1-6d14-4fb2-981c-383bace3b384",
        "colab": {
          "base_uri": "https://localhost:8080/",
          "height": 105
        }
      },
      "source": [
        "result=model.predict_classes(x_test)\n",
        "result"
      ],
      "execution_count": 85,
      "outputs": [
        {
          "output_type": "stream",
          "text": [
            "WARNING:tensorflow:From <ipython-input-85-8aec75900223>:1: Sequential.predict_classes (from tensorflow.python.keras.engine.sequential) is deprecated and will be removed after 2021-01-01.\n",
            "Instructions for updating:\n",
            "Please use instead:* `np.argmax(model.predict(x), axis=-1)`,   if your model does multi-class classification   (e.g. if it uses a `softmax` last-layer activation).* `(model.predict(x) > 0.5).astype(\"int32\")`,   if your model does binary classification   (e.g. if it uses a `sigmoid` last-layer activation).\n"
          ],
          "name": "stdout"
        },
        {
          "output_type": "execute_result",
          "data": {
            "text/plain": [
              "array([4, 4, 4, ..., 4, 4, 4])"
            ]
          },
          "metadata": {
            "tags": []
          },
          "execution_count": 85
        }
      ]
    },
    {
      "cell_type": "code",
      "metadata": {
        "id": "ETpnJhV2ybzI",
        "colab_type": "code",
        "outputId": "14a574aa-1be1-413e-eddd-8036f16db64f",
        "colab": {
          "base_uri": "https://localhost:8080/",
          "height": 299
        }
      },
      "source": [
        "n=100\n",
        "print('神經網路預測是：',class_names[result[n]])\n",
        "plt.imshow(x_test[n].reshape(28,28),cmap='Greys')"
      ],
      "execution_count": 86,
      "outputs": [
        {
          "output_type": "stream",
          "text": [
            "神經網路預測是： Coat\n"
          ],
          "name": "stdout"
        },
        {
          "output_type": "execute_result",
          "data": {
            "text/plain": [
              "<matplotlib.image.AxesImage at 0x7f1d3c0d58d0>"
            ]
          },
          "metadata": {
            "tags": []
          },
          "execution_count": 86
        },
        {
          "output_type": "display_data",
          "data": {
            "image/png": "[encoded data removed]",
            "text/plain": [
              "<Figure size 432x288 with 1 Axes>"
            ]
          },
          "metadata": {
            "tags": []
          }
        }
      ]
    }
  ]
}