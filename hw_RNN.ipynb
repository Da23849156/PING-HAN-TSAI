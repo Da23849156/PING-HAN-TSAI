{
  "nbformat": 4,
  "nbformat_minor": 0,
  "metadata": {
    "colab": {
      "name": "hw RNN.ipynb",
      "provenance": [],
      "authorship_tag": "ABX9TyPY+PVYqA3JoeQgJzh9mufu",
      "include_colab_link": true
    },
    "kernelspec": {
      "name": "python3",
      "display_name": "Python 3"
    }
  },
  "cells": [
    {
      "cell_type": "markdown",
      "metadata": {
        "id": "view-in-github",
        "colab_type": "text"
      },
      "source": [
        "<a href=\"https://colab.research.google.com/github/Da23849156/PING-HAN-TSAI/blob/master/hw_RNN.ipynb\" target=\"_parent\"><img src=\"https://colab.research.google.com/assets/colab-badge.svg\" alt=\"Open In Colab\"/></a>"
      ]
    },
    {
      "cell_type": "code",
      "metadata": {
        "id": "dmiogQXDa9V8",
        "colab_type": "code",
        "colab": {}
      },
      "source": [
        "import numpy as np\n",
        "import matplotlib.pyplot as plt\n",
        "import pandas as pd"
      ],
      "execution_count": 0,
      "outputs": []
    },
    {
      "cell_type": "code",
      "metadata": {
        "id": "MzzVPAsTbHtF",
        "colab_type": "code",
        "colab": {}
      },
      "source": [
        "from tensorflow.keras.preprocessing import sequence\n",
        "from tensorflow.keras.models import Sequential\n",
        "from tensorflow.keras.layers import Dense,Embedding\n",
        "from tensorflow.keras.layers import LSTM\n",
        "from tensorflow.keras.datasets import imdb"
      ],
      "execution_count": 0,
      "outputs": []
    },
    {
      "cell_type": "markdown",
      "metadata": {
        "id": "G9R7Y-GWS59e",
        "colab_type": "text"
      },
      "source": [
        "# ***嘗試一（相對於老師教學的程式碼）***\n",
        "1.   改變embedding層：詞彙量為10000、32維向量空間、每次輸入100個單詞\n",
        "2.   改變LSTM神經元數目（從128變成50，且沒有droupout）\n",
        "3.   增加validation set\n",
        "\n",
        "\n",
        "\n",
        "\n"
      ]
    },
    {
      "cell_type": "markdown",
      "metadata": {
        "id": "UHBIRBNpbjSj",
        "colab_type": "text"
      },
      "source": [
        "**讀入數據**"
      ]
    },
    {
      "cell_type": "code",
      "metadata": {
        "id": "7yP1uJCUbppc",
        "colab_type": "code",
        "outputId": "d5b242c0-87ff-46bd-81a0-5f1b0dafebcf",
        "colab": {
          "base_uri": "https://localhost:8080/",
          "height": 51
        }
      },
      "source": [
        "(x_train,y_train),(x_test,y_test)=imdb.load_data(num_words=10000)"
      ],
      "execution_count": 3,
      "outputs": [
        {
          "output_type": "stream",
          "text": [
            "Downloading data from https://storage.googleapis.com/tensorflow/tf-keras-datasets/imdb.npz\n",
            "17465344/17464789 [==============================] - 0s 0us/step\n"
          ],
          "name": "stdout"
        }
      ]
    },
    {
      "cell_type": "markdown",
      "metadata": {
        "id": "jrfv0TqcTWrY",
        "colab_type": "text"
      },
      "source": [
        "**檢視資料**"
      ]
    },
    {
      "cell_type": "code",
      "metadata": {
        "id": "ybTZg5QlW7eJ",
        "colab_type": "code",
        "outputId": "757d3264-b47c-4781-ce73-bb10875f92ca",
        "colab": {
          "base_uri": "https://localhost:8080/",
          "height": 34
        }
      },
      "source": [
        "print('Maximum review length: {}'.format(\n",
        "len(max((x_train + x_test), key=len))))"
      ],
      "execution_count": 4,
      "outputs": [
        {
          "output_type": "stream",
          "text": [
            "Maximum review length: 2697\n"
          ],
          "name": "stdout"
        }
      ]
    },
    {
      "cell_type": "code",
      "metadata": {
        "id": "yqa0bMyvXAx8",
        "colab_type": "code",
        "outputId": "4d5b008f-208e-4429-9869-1801fa8a5ac5",
        "colab": {
          "base_uri": "https://localhost:8080/",
          "height": 34
        }
      },
      "source": [
        "print('Minimum review length: {}'.format(\n",
        "len(min((x_test + x_test), key=len))))"
      ],
      "execution_count": 5,
      "outputs": [
        {
          "output_type": "stream",
          "text": [
            "Minimum review length: 14\n"
          ],
          "name": "stdout"
        }
      ]
    },
    {
      "cell_type": "code",
      "metadata": {
        "id": "XmNH515tdngn",
        "colab_type": "code",
        "colab": {}
      },
      "source": [
        "x_train=sequence.pad_sequences(x_train,maxlen=100)\n",
        "x_test=sequence.pad_sequences(x_test,maxlen=100)"
      ],
      "execution_count": 0,
      "outputs": []
    },
    {
      "cell_type": "markdown",
      "metadata": {
        "id": "MUABIw26eKQg",
        "colab_type": "text"
      },
      "source": [
        "**打造函數學習機**"
      ]
    },
    {
      "cell_type": "code",
      "metadata": {
        "id": "9xXzLDAcdz7x",
        "colab_type": "code",
        "colab": {}
      },
      "source": [
        "model=Sequential()"
      ],
      "execution_count": 0,
      "outputs": []
    },
    {
      "cell_type": "code",
      "metadata": {
        "id": "JBqNSv5beNgy",
        "colab_type": "code",
        "colab": {}
      },
      "source": [
        "model.add(Embedding(10000,32,input_length=100))"
      ],
      "execution_count": 0,
      "outputs": []
    },
    {
      "cell_type": "code",
      "metadata": {
        "id": "JvZEX4J_ekj9",
        "colab_type": "code",
        "colab": {}
      },
      "source": [
        "model.add(LSTM(50))"
      ],
      "execution_count": 0,
      "outputs": []
    },
    {
      "cell_type": "code",
      "metadata": {
        "id": "ED4n_tA0f8wt",
        "colab_type": "code",
        "colab": {}
      },
      "source": [
        "model.add(Dense(1,activation='sigmoid'))"
      ],
      "execution_count": 0,
      "outputs": []
    },
    {
      "cell_type": "code",
      "metadata": {
        "id": "f32qfQs6f_f5",
        "colab_type": "code",
        "colab": {}
      },
      "source": [
        "model.compile(loss='binary_crossentropy',optimizer='adam',metrics=['accuracy'])"
      ],
      "execution_count": 0,
      "outputs": []
    },
    {
      "cell_type": "code",
      "metadata": {
        "id": "-8LmBYxagogb",
        "colab_type": "code",
        "outputId": "a57b6d8f-4e04-4140-ee51-d05d2a876738",
        "colab": {
          "base_uri": "https://localhost:8080/",
          "height": 255
        }
      },
      "source": [
        "model.summary()"
      ],
      "execution_count": 12,
      "outputs": [
        {
          "output_type": "stream",
          "text": [
            "Model: \"sequential\"\n",
            "_________________________________________________________________\n",
            "Layer (type)                 Output Shape              Param #   \n",
            "=================================================================\n",
            "embedding (Embedding)        (None, 100, 32)           320000    \n",
            "_________________________________________________________________\n",
            "lstm (LSTM)                  (None, 50)                16600     \n",
            "_________________________________________________________________\n",
            "dense (Dense)                (None, 1)                 51        \n",
            "=================================================================\n",
            "Total params: 336,651\n",
            "Trainable params: 336,651\n",
            "Non-trainable params: 0\n",
            "_________________________________________________________________\n"
          ],
          "name": "stdout"
        }
      ]
    },
    {
      "cell_type": "code",
      "metadata": {
        "id": "2YeMtmuFY1Jh",
        "colab_type": "code",
        "colab": {}
      },
      "source": [
        "batch_size=64\n",
        "epochs=3\n",
        "x_valid, y_valid = x_train[:batch_size], y_train[:batch_size]\n",
        "x_train2, y_train2 = x_train[batch_size:], y_train[batch_size:]"
      ],
      "execution_count": 0,
      "outputs": []
    },
    {
      "cell_type": "code",
      "metadata": {
        "id": "_l2Rpidog4Ta",
        "colab_type": "code",
        "outputId": "05798c4d-ec66-48ff-de64-8008a4f7f328",
        "colab": {
          "base_uri": "https://localhost:8080/",
          "height": 119
        }
      },
      "source": [
        "response=model.fit(x_train2,y_train2,batch_size=64,epochs=3,validation_data=(x_valid,y_valid))"
      ],
      "execution_count": 14,
      "outputs": [
        {
          "output_type": "stream",
          "text": [
            "Epoch 1/3\n",
            "390/390 [==============================] - 25s 65ms/step - loss: 0.4332 - accuracy: 0.7891 - val_loss: 0.2421 - val_accuracy: 0.8750\n",
            "Epoch 2/3\n",
            "390/390 [==============================] - 26s 67ms/step - loss: 0.2650 - accuracy: 0.8937 - val_loss: 0.2500 - val_accuracy: 0.8594\n",
            "Epoch 3/3\n",
            "390/390 [==============================] - 26s 66ms/step - loss: 0.2087 - accuracy: 0.9208 - val_loss: 0.2677 - val_accuracy: 0.8906\n"
          ],
          "name": "stdout"
        }
      ]
    },
    {
      "cell_type": "code",
      "metadata": {
        "id": "XLBzyrmribrg",
        "colab_type": "code",
        "colab": {}
      },
      "source": [
        "model_json=model.to_json()\n",
        "open('imdb_model_architecture.json','w').write(model_json)\n",
        "model.save_weights('imdb_model_weights.h5')"
      ],
      "execution_count": 0,
      "outputs": []
    },
    {
      "cell_type": "code",
      "metadata": {
        "id": "A6q_SKX8ZemO",
        "colab_type": "code",
        "outputId": "28b0d949-e6c0-4b4d-8695-a4d265e44268",
        "colab": {
          "base_uri": "https://localhost:8080/",
          "height": 34
        }
      },
      "source": [
        "scores = model.evaluate(x_test, y_test, verbose=0)\n",
        "print('Test accuracy:', scores[1])"
      ],
      "execution_count": 16,
      "outputs": [
        {
          "output_type": "stream",
          "text": [
            "Test accuracy: 0.8405600190162659\n"
          ],
          "name": "stdout"
        }
      ]
    },
    {
      "cell_type": "code",
      "metadata": {
        "id": "XRQOXI_pZqSm",
        "colab_type": "code",
        "outputId": "5354275a-4000-4a09-96fd-89e02d7dce76",
        "colab": {
          "base_uri": "https://localhost:8080/",
          "height": 296
        }
      },
      "source": [
        "plt.plot(response.history['accuracy'], label='accuracy')\n",
        "plt.plot(response.history['val_accuracy'], label = 'val_accuracy')\n",
        "plt.xlabel('Epoch')\n",
        "plt.ylabel('Accuracy')\n",
        "plt.legend(loc='lower right')"
      ],
      "execution_count": 17,
      "outputs": [
        {
          "output_type": "execute_result",
          "data": {
            "text/plain": [
              "<matplotlib.legend.Legend at 0x7f1c2111e240>"
            ]
          },
          "metadata": {
            "tags": []
          },
          "execution_count": 17
        },
        {
          "output_type": "display_data",
          "data": {
            "image/png": "[encoded data removed]",
            "text/plain": [
              "<Figure size 432x288 with 1 Axes>"
            ]
          },
          "metadata": {
            "tags": [],
            "needs_background": "light"
          }
        }
      ]
    },
    {
      "cell_type": "code",
      "metadata": {
        "id": "HwPDDSU0aatm",
        "colab_type": "code",
        "outputId": "cbee9ba6-8bc4-4932-c9d7-acbe65d2ff5a",
        "colab": {
          "base_uri": "https://localhost:8080/",
          "height": 296
        }
      },
      "source": [
        "plt.plot(response.history['loss'], label='loss')\n",
        "plt.plot(response.history['val_loss'], label = 'val_loss')\n",
        "plt.xlabel('Epoch')\n",
        "plt.ylabel('loss')\n",
        "plt.legend(loc='upper right')"
      ],
      "execution_count": 18,
      "outputs": [
        {
          "output_type": "execute_result",
          "data": {
            "text/plain": [
              "<matplotlib.legend.Legend at 0x7f1c2107bc18>"
            ]
          },
          "metadata": {
            "tags": []
          },
          "execution_count": 18
        },
        {
          "output_type": "display_data",
          "data": {
            "image/png": "[encoded data removed]",
            "text/plain": [
              "<Figure size 432x288 with 1 Axes>"
            ]
          },
          "metadata": {
            "tags": [],
            "needs_background": "light"
          }
        }
      ]
    },
    {
      "cell_type": "markdown",
      "metadata": {
        "id": "3w4_Q8IVeqou",
        "colab_type": "text"
      },
      "source": [
        "# **結果**\n",
        "## **training accuracy:92%**\n",
        "## **val accuracy:89%**\n",
        "## **testing accuracy:84%**\n",
        "## 相較於先前上課程式碼所產生的模型，本次模型應有overfitting的狀況\n",
        "\n",
        "\n"
      ]
    },
    {
      "cell_type": "markdown",
      "metadata": {
        "id": "bvoFRpvvasKT",
        "colab_type": "text"
      },
      "source": [
        "# ***嘗試二***\n",
        "1.   將原本的LSTM層變成雙向LSTM，並為了提取句子中的強特徵，新增一層GobalMaxPool()\n",
        "2.   新增一層Desne（activation function為relu）\n",
        "3.   增加Dropout層（減少overfitting的可能）\n",
        "\n"
      ]
    },
    {
      "cell_type": "code",
      "metadata": {
        "id": "r-3IjhcHdYsn",
        "colab_type": "code",
        "outputId": "2b7eaf70-4129-4340-a657-0fe25115b1dd",
        "colab": {
          "base_uri": "https://localhost:8080/",
          "height": 34
        }
      },
      "source": [
        "from keras.layers import Dense , Input , LSTM , Embedding, Dropout , Activation, GRU, Flatten\n",
        "from keras.layers import Bidirectional, GlobalMaxPool1D\n",
        "from keras.models import Model, Sequential\n",
        "from keras.layers import Convolution1D\n",
        "from keras import initializers, regularizers, constraints, optimizers, layers"
      ],
      "execution_count": 19,
      "outputs": [
        {
          "output_type": "stream",
          "text": [
            "Using TensorFlow backend.\n"
          ],
          "name": "stderr"
        }
      ]
    },
    {
      "cell_type": "code",
      "metadata": {
        "id": "ijmK43X7dZcd",
        "colab_type": "code",
        "colab": {}
      },
      "source": [
        "model2 = Sequential()\n",
        "model2.add(Embedding(10000, 32,input_length=100))\n",
        "model2.add(Bidirectional(LSTM(50, return_sequences = True)))\n",
        "model2.add(GlobalMaxPool1D())\n",
        "model2.add(Dense(30, activation=\"relu\"))\n",
        "model2.add(Dropout(0.05))\n",
        "model2.add(Dense(1, activation=\"sigmoid\"))\n",
        "model2.compile(loss='binary_crossentropy', optimizer='adam', metrics=['accuracy'])"
      ],
      "execution_count": 0,
      "outputs": []
    },
    {
      "cell_type": "code",
      "metadata": {
        "id": "oDGDNyzseRQ8",
        "colab_type": "code",
        "outputId": "5fb5e0b6-3c12-4b23-c276-4349da55ccde",
        "colab": {
          "base_uri": "https://localhost:8080/",
          "height": 357
        }
      },
      "source": [
        "model2.summary()"
      ],
      "execution_count": 21,
      "outputs": [
        {
          "output_type": "stream",
          "text": [
            "Model: \"sequential_1\"\n",
            "_________________________________________________________________\n",
            "Layer (type)                 Output Shape              Param #   \n",
            "=================================================================\n",
            "embedding_1 (Embedding)      (None, 100, 32)           320000    \n",
            "_________________________________________________________________\n",
            "bidirectional_1 (Bidirection (None, 100, 100)          33200     \n",
            "_________________________________________________________________\n",
            "global_max_pooling1d_1 (Glob (None, 100)               0         \n",
            "_________________________________________________________________\n",
            "dense_1 (Dense)              (None, 30)                3030      \n",
            "_________________________________________________________________\n",
            "dropout_1 (Dropout)          (None, 30)                0         \n",
            "_________________________________________________________________\n",
            "dense_2 (Dense)              (None, 1)                 31        \n",
            "=================================================================\n",
            "Total params: 356,261\n",
            "Trainable params: 356,261\n",
            "Non-trainable params: 0\n",
            "_________________________________________________________________\n"
          ],
          "name": "stdout"
        }
      ]
    },
    {
      "cell_type": "code",
      "metadata": {
        "id": "uRLWBPa3eEwO",
        "colab_type": "code",
        "outputId": "84ad3dbe-5260-4982-fda0-a428dbacf07d",
        "colab": {
          "base_uri": "https://localhost:8080/",
          "height": 190
        }
      },
      "source": [
        "response2=model2.fit(x_train2,y_train2,batch_size=64,epochs=3,validation_data=(x_valid,y_valid))"
      ],
      "execution_count": 22,
      "outputs": [
        {
          "output_type": "stream",
          "text": [
            "/usr/local/lib/python3.6/dist-packages/tensorflow/python/framework/indexed_slices.py:434: UserWarning: Converting sparse IndexedSlices to a dense Tensor of unknown shape. This may consume a large amount of memory.\n",
            "  \"Converting sparse IndexedSlices to a dense Tensor of unknown shape. \"\n"
          ],
          "name": "stderr"
        },
        {
          "output_type": "stream",
          "text": [
            "Train on 24936 samples, validate on 64 samples\n",
            "Epoch 1/3\n",
            "24936/24936 [==============================] - 53s 2ms/step - loss: 0.4578 - accuracy: 0.7705 - val_loss: 0.2105 - val_accuracy: 0.9062\n",
            "Epoch 2/3\n",
            "24936/24936 [==============================] - 53s 2ms/step - loss: 0.2720 - accuracy: 0.8906 - val_loss: 0.2310 - val_accuracy: 0.8750\n",
            "Epoch 3/3\n",
            "24936/24936 [==============================] - 53s 2ms/step - loss: 0.2103 - accuracy: 0.9194 - val_loss: 0.2313 - val_accuracy: 0.9219\n"
          ],
          "name": "stdout"
        }
      ]
    },
    {
      "cell_type": "code",
      "metadata": {
        "id": "C9SyV02deM4S",
        "colab_type": "code",
        "outputId": "114ea896-977d-4531-b7b6-9ac59474d7d5",
        "colab": {
          "base_uri": "https://localhost:8080/",
          "height": 34
        }
      },
      "source": [
        "scores2 = model2.evaluate(x_test, y_test, verbose=0)\n",
        "print('Test accuracy:', scores2[1])"
      ],
      "execution_count": 24,
      "outputs": [
        {
          "output_type": "stream",
          "text": [
            "Test accuracy: 0.8441200256347656\n"
          ],
          "name": "stdout"
        }
      ]
    },
    {
      "cell_type": "code",
      "metadata": {
        "id": "fXi38JoXfOJ6",
        "colab_type": "code",
        "outputId": "76505fbe-3c71-477a-be18-9f0d842af0db",
        "colab": {
          "base_uri": "https://localhost:8080/",
          "height": 296
        }
      },
      "source": [
        "plt.plot(response2.history['accuracy'], label='accuracy')\n",
        "plt.plot(response2.history['val_accuracy'], label = 'val_accuracy')\n",
        "plt.xlabel('Epoch')\n",
        "plt.ylabel('Accuracy')\n",
        "plt.legend(loc='lower right')"
      ],
      "execution_count": 25,
      "outputs": [
        {
          "output_type": "execute_result",
          "data": {
            "text/plain": [
              "<matplotlib.legend.Legend at 0x7f1c1e286ba8>"
            ]
          },
          "metadata": {
            "tags": []
          },
          "execution_count": 25
        },
        {
          "output_type": "display_data",
          "data": {
            "image/png": "[encoded data removed]",
            "text/plain": [
              "<Figure size 432x288 with 1 Axes>"
            ]
          },
          "metadata": {
            "tags": [],
            "needs_background": "light"
          }
        }
      ]
    },
    {
      "cell_type": "code",
      "metadata": {
        "id": "n_YrPjv3fPko",
        "colab_type": "code",
        "outputId": "72bee39a-380b-49d9-9a56-a1ed06618472",
        "colab": {
          "base_uri": "https://localhost:8080/",
          "height": 296
        }
      },
      "source": [
        "plt.plot(response2.history['loss'], label='loss')\n",
        "plt.plot(response2.history['val_loss'], label = 'val_loss')\n",
        "plt.xlabel('Epoch')\n",
        "plt.ylabel('loss')\n",
        "plt.legend(loc='upper right')"
      ],
      "execution_count": 26,
      "outputs": [
        {
          "output_type": "execute_result",
          "data": {
            "text/plain": [
              "<matplotlib.legend.Legend at 0x7f1c1e2025f8>"
            ]
          },
          "metadata": {
            "tags": []
          },
          "execution_count": 26
        },
        {
          "output_type": "display_data",
          "data": {
            "image/png": "[encoded data removed]",
            "text/plain": [
              "<Figure size 432x288 with 1 Axes>"
            ]
          },
          "metadata": {
            "tags": [],
            "needs_background": "light"
          }
        }
      ]
    },
    {
      "cell_type": "markdown",
      "metadata": {
        "id": "MC2PgNCUhyAL",
        "colab_type": "text"
      },
      "source": [
        "# **結果**\n",
        "## **training accuracy:92%**\n",
        "## **val accuracy:92%**\n",
        "## **testing accuracy:84%**\n",
        "## 相較於模型一，train跟val的正確率差異降低，但是將模型是用到testing 資料時，模型一跟模型二皆只能有84%正確率"
      ]
    },
    {
      "cell_type": "markdown",
      "metadata": {
        "id": "L194iukiguez",
        "colab_type": "text"
      },
      "source": [
        "# **嘗試三**\n",
        "1.   參考嘗試二的程式，並將LSTM換成GRU，看兩種不同模型有何差異"
      ]
    },
    {
      "cell_type": "code",
      "metadata": {
        "id": "ItFk_iK5hO4f",
        "colab_type": "code",
        "colab": {}
      },
      "source": [
        "from keras.layers import Dense , Input , LSTM , Embedding, Dropout , Activation, GRU, Flatten\n",
        "from keras.layers import Bidirectional, GlobalMaxPool1D\n",
        "from keras.models import Model, Sequential\n",
        "from keras.layers import Convolution1D\n",
        "from keras import initializers, regularizers, constraints, optimizers, layers"
      ],
      "execution_count": 0,
      "outputs": []
    },
    {
      "cell_type": "code",
      "metadata": {
        "id": "MsAjLlgPhIPL",
        "colab_type": "code",
        "colab": {}
      },
      "source": [
        "model3 = Sequential()\n",
        "model3.add(Embedding(10000, 32,input_length=100))\n",
        "model3.add(Bidirectional(GRU(50, return_sequences = True)))\n",
        "model3.add(GlobalMaxPool1D())\n",
        "model3.add(Dense(30, activation=\"relu\"))\n",
        "model3.add(Dropout(0.05))\n",
        "model3.add(Dense(1, activation=\"sigmoid\"))\n",
        "model3.compile(loss='binary_crossentropy', optimizer='adam', metrics=['accuracy'])"
      ],
      "execution_count": 0,
      "outputs": []
    },
    {
      "cell_type": "code",
      "metadata": {
        "id": "5K2n6LMdiOJg",
        "colab_type": "code",
        "colab": {
          "base_uri": "https://localhost:8080/",
          "height": 357
        },
        "outputId": "f9ea52a3-36bb-4f4f-f522-f59ddc39fcff"
      },
      "source": [
        "model3.summary()"
      ],
      "execution_count": 29,
      "outputs": [
        {
          "output_type": "stream",
          "text": [
            "Model: \"sequential_2\"\n",
            "_________________________________________________________________\n",
            "Layer (type)                 Output Shape              Param #   \n",
            "=================================================================\n",
            "embedding_2 (Embedding)      (None, 100, 32)           320000    \n",
            "_________________________________________________________________\n",
            "bidirectional_2 (Bidirection (None, 100, 100)          24900     \n",
            "_________________________________________________________________\n",
            "global_max_pooling1d_2 (Glob (None, 100)               0         \n",
            "_________________________________________________________________\n",
            "dense_3 (Dense)              (None, 30)                3030      \n",
            "_________________________________________________________________\n",
            "dropout_2 (Dropout)          (None, 30)                0         \n",
            "_________________________________________________________________\n",
            "dense_4 (Dense)              (None, 1)                 31        \n",
            "=================================================================\n",
            "Total params: 347,961\n",
            "Trainable params: 347,961\n",
            "Non-trainable params: 0\n",
            "_________________________________________________________________\n"
          ],
          "name": "stdout"
        }
      ]
    },
    {
      "cell_type": "code",
      "metadata": {
        "id": "PJiT7CyriRKo",
        "colab_type": "code",
        "colab": {
          "base_uri": "https://localhost:8080/",
          "height": 190
        },
        "outputId": "1a4e6331-be19-40e0-c64e-dc3d42164b24"
      },
      "source": [
        "response3=model3.fit(x_train2,y_train2,batch_size=64,epochs=3,validation_data=(x_valid,y_valid))"
      ],
      "execution_count": 30,
      "outputs": [
        {
          "output_type": "stream",
          "text": [
            "/usr/local/lib/python3.6/dist-packages/tensorflow/python/framework/indexed_slices.py:434: UserWarning: Converting sparse IndexedSlices to a dense Tensor of unknown shape. This may consume a large amount of memory.\n",
            "  \"Converting sparse IndexedSlices to a dense Tensor of unknown shape. \"\n"
          ],
          "name": "stderr"
        },
        {
          "output_type": "stream",
          "text": [
            "Train on 24936 samples, validate on 64 samples\n",
            "Epoch 1/3\n",
            "24936/24936 [==============================] - 64s 3ms/step - loss: 0.4527 - accuracy: 0.7745 - val_loss: 0.2638 - val_accuracy: 0.9062\n",
            "Epoch 2/3\n",
            "24936/24936 [==============================] - 63s 3ms/step - loss: 0.2658 - accuracy: 0.8930 - val_loss: 0.2419 - val_accuracy: 0.8594\n",
            "Epoch 3/3\n",
            "24936/24936 [==============================] - 63s 3ms/step - loss: 0.1964 - accuracy: 0.9262 - val_loss: 0.2734 - val_accuracy: 0.8594\n"
          ],
          "name": "stdout"
        }
      ]
    },
    {
      "cell_type": "code",
      "metadata": {
        "id": "i8zQdPuxiW9x",
        "colab_type": "code",
        "colab": {
          "base_uri": "https://localhost:8080/",
          "height": 34
        },
        "outputId": "8ffd897c-96e6-43df-e6d2-b565a8461499"
      },
      "source": [
        "scores3 = model3.evaluate(x_test, y_test, verbose=0)\n",
        "print('Test accuracy:', scores3[1])"
      ],
      "execution_count": 31,
      "outputs": [
        {
          "output_type": "stream",
          "text": [
            "Test accuracy: 0.8449599742889404\n"
          ],
          "name": "stdout"
        }
      ]
    },
    {
      "cell_type": "code",
      "metadata": {
        "id": "QDXqjBlwifZ9",
        "colab_type": "code",
        "colab": {
          "base_uri": "https://localhost:8080/",
          "height": 296
        },
        "outputId": "d1a25949-5f4f-4817-9928-d12c94400c29"
      },
      "source": [
        "plt.plot(response3.history['accuracy'], label='accuracy')\n",
        "plt.plot(response3.history['val_accuracy'], label = 'val_accuracy')\n",
        "plt.xlabel('Epoch')\n",
        "plt.ylabel('Accuracy')\n",
        "plt.legend(loc='lower right')"
      ],
      "execution_count": 32,
      "outputs": [
        {
          "output_type": "execute_result",
          "data": {
            "text/plain": [
              "<matplotlib.legend.Legend at 0x7f1c1db78588>"
            ]
          },
          "metadata": {
            "tags": []
          },
          "execution_count": 32
        },
        {
          "output_type": "display_data",
          "data": {
            "image/png": "[encoded data removed]",
            "text/plain": [
              "<Figure size 432x288 with 1 Axes>"
            ]
          },
          "metadata": {
            "tags": [],
            "needs_background": "light"
          }
        }
      ]
    },
    {
      "cell_type": "code",
      "metadata": {
        "id": "knv-Kbe7ig9q",
        "colab_type": "code",
        "colab": {
          "base_uri": "https://localhost:8080/",
          "height": 296
        },
        "outputId": "d87758c7-d9a7-44d2-a277-d68a325ba636"
      },
      "source": [
        "plt.plot(response2.history['loss'], label='loss')\n",
        "plt.plot(response2.history['val_loss'], label = 'val_loss')\n",
        "plt.xlabel('Epoch')\n",
        "plt.ylabel('loss')\n",
        "plt.legend(loc='upper right')"
      ],
      "execution_count": 33,
      "outputs": [
        {
          "output_type": "execute_result",
          "data": {
            "text/plain": [
              "<matplotlib.legend.Legend at 0x7f1c1daeaf98>"
            ]
          },
          "metadata": {
            "tags": []
          },
          "execution_count": 33
        },
        {
          "output_type": "display_data",
          "data": {
            "image/png": "[encoded data removed]",
            "text/plain": [
              "<Figure size 432x288 with 1 Axes>"
            ]
          },
          "metadata": {
            "tags": [],
            "needs_background": "light"
          }
        }
      ]
    },
    {
      "cell_type": "markdown",
      "metadata": {
        "id": "XyZLdqRsjUNE",
        "colab_type": "text"
      },
      "source": [
        "# **結果**\n",
        "## **training accuracy:93%**\n",
        "## **val accuracy:86%**\n",
        "## **testing accuracy:84%**\n",
        "## 相較於模型二，模型三不僅要花較長的訓練時間，val的正確率也低很多，testing 資料正確率則無較好的正確率。因此，本次作業中，模型二應為較好的模型"
      ]
    }
  ]
}